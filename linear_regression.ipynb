{
 "cells": [
  {
   "cell_type": "code",
   "execution_count": 2,
   "metadata": {},
   "outputs": [],
   "source": [
    "import numpy as np\n",
    "import matplotlib as plt\n",
    "import plotly.graph_objects as go\n",
    "import plotly.express as px\n",
    "import matplotlib.pyplot as plt\n",
    "import pandas as pd\n",
    "import time\n",
    "from IPython.display import clear_output"
   ]
  },
  {
   "cell_type": "code",
   "execution_count": 3,
   "metadata": {},
   "outputs": [],
   "source": [
    "#https://github.com/ageron/handson-ml3/blob/main/04_training_linear_models.ipynb"
   ]
  },
  {
   "cell_type": "markdown",
   "metadata": {},
   "source": [
    "### 1. Losowo wygenerowany zbiór danych"
   ]
  },
  {
   "cell_type": "code",
   "execution_count": 4,
   "metadata": {},
   "outputs": [
    {
     "data": {
      "image/png": "[encoded data removed]",
      "text/plain": [
       "<Figure size 720x360 with 1 Axes>"
      ]
     },
     "metadata": {
      "needs_background": "light"
     },
     "output_type": "display_data"
    }
   ],
   "source": [
    "np.random.seed(42)\n",
    "m = 100\n",
    "X = 3 * np.random.rand(m,1) \n",
    "y = 2 + 4 * X + np.random.randn(m,1)\n",
    "plt.figure(figsize=(10, 5))\n",
    "plt.scatter(X, y, alpha = 0.6)\n",
    "plt.xlabel(\"x\")\n",
    "plt.ylabel(\"y\", rotation=0)\n",
    "plt.grid()\n",
    "plt.show()"
   ]
  },
  {
   "cell_type": "markdown",
   "metadata": {},
   "source": [
    "#### Równanie normalne\n",
    "\n",
    "$$\n",
    "\\hat{O} = (X^TX)^{-1}X^Ty\n",
    "$$\n",
    "\n",
    "\n",
    "$\\hat{O}$ - wartość wektora  [a,b] która minimalizuje funkcję kosztu\n",
    "\n",
    "X - macierz wartości\n",
    "\n",
    "y - wektor wartości docelowych \n",
    "\n",
    "\n",
    "\n",
    "nie wymaga iteracji i działa dobrze na niewielkich zbiorach danych\n",
    "\n"
   ]
  },
  {
   "cell_type": "code",
   "execution_count": 5,
   "metadata": {},
   "outputs": [
    {
     "name": "stdout",
     "output_type": "stream",
     "text": [
      "wyznaczone wartości współczynnika kierunkowego a: 3.847\n",
      "wyznaczone wartości wyrazu wolnego b: 2.215\n"
     ]
    }
   ],
   "source": [
    "#dodanie do X kolumny jedynek aby uwzględnić wyraz wolny b\n",
    "ones = np.ones((100,1))\n",
    "X_b = np.c_[ones, X] # np_c - łączenie dwóch macierzy wzdłuż kolumn\n",
    "#obliczanie współczynników: linalg.inv - odwrtotność macierzy\n",
    "O = np.linalg.inv(X_b.T @ X_b) @ X_b.T @ y\n",
    "print(f'wyznaczone wartości współczynnika kierunkowego a: {round(O[1][0],3)}')\n",
    "print(f'wyznaczone wartości wyrazu wolnego b: {round(O[0][0],3)}')"
   ]
  },
  {
   "cell_type": "markdown",
   "metadata": {},
   "source": [
    "### 2. Funkcja kosztu - błąd średniokwadratowy\n",
    " \n",
    "Funkcja kosztu MSE:\n",
    " \n",
    "$$\n",
    "J(a, b) = \\frac{1}{m} \\sum_{i=1}^{m} (y_i - \\hat{y}_i)^2\n",
    "$$\n",
    " \n",
    "gdzie:\n",
    " \n",
    "$$\n",
    " \\hat{y}_i = a x_i + b\n",
    "$$\n",
    "funkcja kosztu pozwala określić jak dobrze model przewiduje wartości rzeczywiste"
   ]
  },
  {
   "cell_type": "code",
   "execution_count": 6,
   "metadata": {},
   "outputs": [],
   "source": [
    "def loss_function(a,b):\n",
    "    y_pred = a * X + b\n",
    "    m = len(X)\n",
    "    MSE = (1/m) * np.sum(np.square(y - y_pred))\n",
    "    return MSE"
   ]
  },
  {
   "cell_type": "markdown",
   "metadata": {},
   "source": [
    "### 3. Gradient funkcji kosztu MSE\n",
    "\n",
    "#### 3.1. Pochodna MSE względem \\( a \\) \n",
    "\n",
    "(pochodna funkcji zewnętrznej * pochodna funkcji wewnętrznej)\n",
    "\n",
    " \n",
    "$$\n",
    "J(a, b) = \\frac{1}{m} \\sum_{i=1}^{m} ((a x_i + b) - y_i )^2\n",
    "$$\n",
    " \n",
    "Pochodna po \\( a \\):\n",
    " \n",
    "$$\n",
    "\\frac{\\partial J}{\\partial a} = \\frac{1}{m} \\sum_{i=1}^{m} 2 ((a x_i + b) - y_i) \\cdot \\frac{\\partial}{\\partial a} ((a x_i + b) - y_i )\n",
    "$$\n",
    " \n",
    "Ponieważ:\n",
    " \n",
    "$$\n",
    "\\frac{\\partial}{\\partial a} ((a x_i + b) - y_i ) = x_i\n",
    "$$\n",
    " \n",
    "otrzymujemy:\n",
    " \n",
    "$$\n",
    "\\frac{\\partial J}{\\partial a} = \\frac{2}{m} \\sum_{i=1}^{m} x_i ((a x_i + b) - y_i )\n",
    "$$\n",
    "\n",
    "\n",
    "\n",
    " \n",
    "#### 3.2. Pochodna MSE względem \\( b \\)\n",
    " \n",
    "Pochodna po \\( b \\):\n",
    " \n",
    "$$\n",
    "\\frac{\\partial J}{\\partial b} = \\frac{1}{m} \\sum_{i=1}^{m} 2 ((a x_i + b) - y_i ) \\cdot \\frac{\\partial}{\\partial b} ( (a x_i + b) -  y_i )\n",
    "$$\n",
    " \n",
    "Ponieważ:\n",
    " \n",
    "$$\n",
    "\\frac{\\partial}{\\partial b} ((a x_i + b) - y_i) = 1\n",
    "$$\n",
    " \n",
    "to:\n",
    " \n",
    "$$\n",
    "\\frac{\\partial J}{\\partial b} = \\frac{2}{m} \\sum_{i=1}^{m} ((a x_i + b) - y_i )\n",
    "$$\n",
    "\n",
    "\n",
    "\n",
    "\n",
    "Finalnie: \n",
    " \n",
    "$$\n",
    "\\frac{\\partial J}{\\partial a} = \\frac{2}{m} \\sum_{i=1}^{m} x_i (  \\hat{y}_i - y_i )\n",
    "$$\n",
    "\n",
    "$$\n",
    "\\frac{\\partial J}{\\partial b} = \\frac{2}{m} \\sum_{i=1}^{m} (\\hat{y}_i -y_i  )\n",
    "$$\n",
    " \n",
    " \n",
    "#### 3.3 Aktualizacja parametrów w spadku gradientu\n",
    " \n",
    "Aby zminimalizować funkcję kosztu, aktualizujemy parametry:\n",
    " \n",
    "$$\n",
    "a := a - \\alpha \\frac{\\partial J}{\\partial a}\n",
    "$$\n",
    " \n",
    "$$\n",
    "b := b - \\alpha \\frac{\\partial J}{\\partial b}\n",
    "$$"
   ]
  },
  {
   "cell_type": "code",
   "execution_count": 7,
   "metadata": {},
   "outputs": [],
   "source": [
    "#funkcja do wyliczania gradientu prostego poprzez obliczanie pochodnych cząstkowych\n",
    "#obliczamy gradient funkcji kosztu dla każdego parametru modelu [a,b]\n",
    "def gradient_descent(X, y, l_rate, epochs):\n",
    "    #losowy wybór początkowych wartości modelu\n",
    "    np.random.seed(42)\n",
    "    a = np.random.random()\n",
    "    b = np.random.random()\n",
    "    mse = 0\n",
    "    m = len(X)\n",
    "\n",
    "    for i in range(epochs):\n",
    "        y_pred = a * X + b\n",
    "        #obliczanie pochodnych\n",
    "        da = 2/m * (np.sum(X * (y_pred - y)))\n",
    "        db = 2/m * (np.sum((y_pred - y)))\n",
    "        #aktualizacja wartości a i b\n",
    "        #po wyliczeniu wektora gradientów kierujemy go w przeciwną stronę, aby schodzić w kierunku\n",
    "        #minima funkcji, w tym celu odejmujemy od wyznaczonych parametrów wartość gradientu\n",
    "        # przemnożoną przez l_rate, który określa nam wielkość kroku \n",
    "        a -=  l_rate * da \n",
    "        b -=  l_rate * db\n",
    "        mse = loss_function(a,b) # obliczanie błędu mse\n",
    "    return a, b, mse\n",
    "        "
   ]
  },
  {
   "cell_type": "markdown",
   "metadata": {},
   "source": [
    "#### alternatywna implementacja gradientu prostego\n",
    "\n",
    "obliczamy wektor gradientów funkcji kosztu zamiast wyliczać pojedyńczo pochodne cząstkowe\n",
    "\n",
    "$$\n",
    "MSE(\\theta )=\\frac{2}{m} X^T(X\\theta-y)\n",
    "$$\n"
   ]
  },
  {
   "cell_type": "code",
   "execution_count": 8,
   "metadata": {},
   "outputs": [],
   "source": [
    "def gradient_descent_2(l_rate, epochs):\n",
    "    #losowy wybór początkowych wartości modelu\n",
    "    np.random.seed(42)\n",
    "    m = len(X)\n",
    "    theta = np.random.randn(2,1) #losowe paramtery modelu\n",
    "    for i in range(epochs):\n",
    "        gradients = 2/m * X_b.T @ (X_b @ theta - y)\n",
    "        theta = theta - l_rate * gradients\n",
    "    return theta\n",
    "#gradient_descent_2(0.1, 150)"
   ]
  },
  {
   "cell_type": "code",
   "execution_count": 14,
   "metadata": {},
   "outputs": [
    {
     "data": {
      "image/png": "[encoded data removed]",
      "text/plain": [
       "<Figure size 864x504 with 1 Axes>"
      ]
     },
     "metadata": {
      "needs_background": "light"
     },
     "output_type": "display_data"
    }
   ],
   "source": [
    "#wizualizacja procesu szukania najlepszych wartości parametrów a i b\n",
    "for i in range(0,51):\n",
    "        a,b, MSE = gradient_descent(X, y, 0.1, i)\n",
    "        y_pred = a * X + b\n",
    "        plt.figure(figsize=(12, 7))\n",
    "        plt.scatter(X,y ,c = 'blue', alpha = 0.6, label = 'dane rzeczywiste')\n",
    "        plt.plot(X, y_pred, c = 'red',label=  'predykcja')\n",
    "        plt.legend()\n",
    "        plt.text(1.8, 4, f'loss (MSE): {round(MSE, 4)}', fontsize=16)\n",
    "        plt.text(1.8, 3, f'epoka nr: {i}', fontsize=16)\n",
    "        plt.text(1.8, 2, f'a= {round(a,2)}, b = {round(b,2)}', fontsize=16)\n",
    "        plt.grid()\n",
    "        plt.show()\n",
    "        time.sleep(0.2)\n",
    "        clear_output(wait = True)\n",
    "        "
   ]
  },
  {
   "cell_type": "code",
   "execution_count": null,
   "metadata": {},
   "outputs": [],
   "source": []
  },
  {
   "cell_type": "code",
   "execution_count": 15,
   "metadata": {},
   "outputs": [
    {
     "data": {
      "application/vnd.plotly.v1+json": {
       "config": {
        "plotlyServerURL": "https://plot.ly"
       },
       "data": [
        {
         "marker": {
          "size": 8
         },
         "mode": "markers",
         "surfaceaxis": -1,
         "type": "scatter3d",
         "x": [],
         "y": [],
         "z": []
        }
       ],
       "frames": [
        {
         "data": [
          {
           "marker": {
            "color": [
             0
            ],
            "colorscale": [
             [
              0,
              "rgb(150,0,90)"
             ],
             [
              0.125,
              "rgb(0,0,200)"
             ],
             [
              0.25,
              "rgb(0,25,255)"
             ],
             [
              0.375,
              "rgb(0,152,255)"
             ],
             [
              0.5,
              "rgb(44,255,150)"
             ],
             [
              0.625,
              "rgb(151,255,0)"
             ],
             [
              0.75,
              "rgb(255,234,0)"
             ],
             [
              0.875,
              "rgb(255,111,0)"
             ],
             [
              1,
              "rgb(255,0,0)"
             ]
            ],
            "size": 7
           },
           "mode": "markers+lines",
           "type": "scatter3d",
           "x": [
            0.3745401188473625
           ],
           "y": [
            0.9507143064099162
           ],
           "z": [
            0
           ]
          }
         ]
        },
        {
         "data": [
          {
           "marker": {
            "color": [
             0,
             35.75484025998244
            ],
            "colorscale": [
             [
              0,
              "rgb(150,0,90)"
             ],
             [
              0.125,
              "rgb(0,0,200)"
             ],
             [
              0.25,
              "rgb(0,25,255)"
             ],
             [
              0.375,
              "rgb(0,152,255)"
             ],
             [
              0.5,
              "rgb(44,255,150)"
             ],
             [
              0.625,
              "rgb(151,255,0)"
             ],
             [
              0.75,
              "rgb(255,234,0)"
             ],
             [
              0.875,
              "rgb(255,111,0)"
             ],
             [
              1,
              "rgb(255,0,0)"
             ]
            ],
            "size": 7
           },
           "mode": "markers+lines",
           "type": "scatter3d",
           "x": [
            0.3745401188473625,
            0.8317325489017311
           ],
           "y": [
            0.9507143064099162,
            1.197197090387812
           ],
           "z": [
            0,
            35.75484025998244
           ]
          }
         ]
        },
        {
         "data": [
          {
           "marker": {
            "color": [
             0,
             35.75484025998244,
             26.53625144224801
            ],
            "colorscale": [
             [
              0,
              "rgb(150,0,90)"
             ],
             [
              0.125,
              "rgb(0,0,200)"
             ],
             [
              0.25,
              "rgb(0,25,255)"
             ],
             [
              0.375,
              "rgb(0,152,255)"
             ],
             [
              0.5,
              "rgb(44,255,150)"
             ],
             [
              0.625,
              "rgb(151,255,0)"
             ],
             [
              0.75,
              "rgb(255,234,0)"
             ],
             [
              0.875,
              "rgb(255,111,0)"
             ],
             [
              1,
              "rgb(255,0,0)"
             ]
            ],
            "size": 7
           },
           "mode": "markers+lines",
           "type": "scatter3d",
           "x": [
            0.3745401188473625,
            0.8317325489017311,
            1.224211783111528
           ],
           "y": [
            0.9507143064099162,
            1.197197090387812,
            1.4080249938110094
           ],
           "z": [
            0,
            35.75484025998244,
            26.53625144224801
           ]
          }
         ]
        },
        {
         "data": [
          {
           "marker": {
            "color": [
             0,
             35.75484025998244,
             26.53625144224801,
             19.75362654801073
            ],
            "colorscale": [
             [
              0,
              "rgb(150,0,90)"
             ],
             [
              0.125,
              "rgb(0,0,200)"
             ],
             [
              0.25,
              "rgb(0,25,255)"
             ],
             [
              0.375,
              "rgb(0,152,255)"
             ],
             [
              0.5,
              "rgb(44,255,150)"
             ],
             [
              0.625,
              "rgb(151,255,0)"
             ],
             [
              0.75,
              "rgb(255,234,0)"
             ],
             [
              0.875,
              "rgb(255,111,0)"
             ],
             [
              1,
              "rgb(255,0,0)"
             ]
            ],
            "size": 7
           },
           "mode": "markers+lines",
           "type": "scatter3d",
           "x": [
            0.3745401188473625,
            0.8317325489017311,
            1.224211783111528,
            1.5611808847373805
           ],
           "y": [
            0.9507143064099162,
            1.197197090387812,
            1.4080249938110094,
            1.5882754397251262
           ],
           "z": [
            0,
            35.75484025998244,
            26.53625144224801,
            19.75362654801073
           ]
          }
         ]
        },
        {
         "data": [
          {
           "marker": {
            "color": [
             0,
             35.75484025998244,
             26.53625144224801,
             19.75362654801073,
             14.763198745602935
            ],
            "colorscale": [
             [
              0,
              "rgb(150,0,90)"
             ],
             [
              0.125,
              "rgb(0,0,200)"
             ],
             [
              0.25,
              "rgb(0,25,255)"
             ],
             [
              0.375,
              "rgb(0,152,255)"
             ],
             [
              0.5,
              "rgb(44,255,150)"
             ],
             [
              0.625,
              "rgb(151,255,0)"
             ],
             [
              0.75,
              "rgb(255,234,0)"
             ],
             [
              0.875,
              "rgb(255,111,0)"
             ],
             [
              1,
              "rgb(255,0,0)"
             ]
            ],
            "size": 7
           },
           "mode": "markers+lines",
           "type": "scatter3d",
           "x": [
            0.3745401188473625,
            0.8317325489017311,
            1.224211783111528,
            1.5611808847373805,
            1.850533735517361
           ],
           "y": [
            0.9507143064099162,
            1.197197090387812,
            1.4080249938110094,
            1.5882754397251262,
            1.7423035018789268
           ],
           "z": [
            0,
            35.75484025998244,
            26.53625144224801,
            19.75362654801073,
            14.763198745602935
           ]
          }
         ]
        },
        {
         "data": [
          {
           "marker": {
            "color": [
             0,
             35.75484025998244,
             26.53625144224801,
             19.75362654801073,
             14.763198745602935,
             11.09133467835302
            ],
            "colorscale": [
             [
              0,
              "rgb(150,0,90)"
             ],
             [
              0.125,
              "rgb(0,0,200)"
             ],
             [
              0.25,
              "rgb(0,25,255)"
             ],
             [
              0.375,
              "rgb(0,152,255)"
             ],
             [
              0.5,
              "rgb(44,255,150)"
             ],
             [
              0.625,
              "rgb(151,255,0)"
             ],
             [
              0.75,
              "rgb(255,234,0)"
             ],
             [
              0.875,
              "rgb(255,111,0)"
             ],
             [
              1,
              "rgb(255,0,0)"
             ]
            ],
            "size": 7
           },
           "mode": "markers+lines",
           "type": "scatter3d",
           "x": [
            0.3745401188473625,
            0.8317325489017311,
            1.224211783111528,
            1.5611808847373805,
            1.850533735517361,
            2.0990412766700994
           ],
           "y": [
            0.9507143064099162,
            1.197197090387812,
            1.4080249938110094,
            1.5882754397251262,
            1.7423035018789268,
            1.8738446649291751
           ],
           "z": [
            0,
            35.75484025998244,
            26.53625144224801,
            19.75362654801073,
            14.763198745602935,
            11.09133467835302
           ]
          }
         ]
        },
        {
         "data": [
          {
           "marker": {
            "color": [
             0,
             35.75484025998244,
             26.53625144224801,
             19.75362654801073,
             14.763198745602935,
             11.09133467835302,
             8.389571889366584
            ],
            "colorscale": [
             [
              0,
              "rgb(150,0,90)"
             ],
             [
              0.125,
              "rgb(0,0,200)"
             ],
             [
              0.25,
              "rgb(0,25,255)"
             ],
             [
              0.375,
              "rgb(0,152,255)"
             ],
             [
              0.5,
              "rgb(44,255,150)"
             ],
             [
              0.625,
              "rgb(151,255,0)"
             ],
             [
              0.75,
              "rgb(255,234,0)"
             ],
             [
              0.875,
              "rgb(255,111,0)"
             ],
             [
              1,
              "rgb(255,0,0)"
             ]
            ],
            "size": 7
           },
           "mode": "markers+lines",
           "type": "scatter3d",
           "x": [
            0.3745401188473625,
            0.8317325489017311,
            1.224211783111528,
            1.5611808847373805,
            1.850533735517361,
            2.0990412766700994,
            2.3125112556720366
           ],
           "y": [
            0.9507143064099162,
            1.197197090387812,
            1.4080249938110094,
            1.5882754397251262,
            1.7423035018789268,
            1.8738446649291751,
            1.9861029662052991
           ],
           "z": [
            0,
            35.75484025998244,
            26.53625144224801,
            19.75362654801073,
            14.763198745602935,
            11.09133467835302,
            8.389571889366584
           ]
          }
         ]
        },
        {
         "data": [
          {
           "marker": {
            "color": [
             0,
             35.75484025998244,
             26.53625144224801,
             19.75362654801073,
             14.763198745602935,
             11.09133467835302,
             8.389571889366584,
             6.401538876940176
            ],
            "colorscale": [
             [
              0,
              "rgb(150,0,90)"
             ],
             [
              0.125,
              "rgb(0,0,200)"
             ],
             [
              0.25,
              "rgb(0,25,255)"
             ],
             [
              0.375,
              "rgb(0,152,255)"
             ],
             [
              0.5,
              "rgb(44,255,150)"
             ],
             [
              0.625,
              "rgb(151,255,0)"
             ],
             [
              0.75,
              "rgb(255,234,0)"
             ],
             [
              0.875,
              "rgb(255,111,0)"
             ],
             [
              1,
              "rgb(255,0,0)"
             ]
            ],
            "size": 7
           },
           "mode": "markers+lines",
           "type": "scatter3d",
           "x": [
            0.3745401188473625,
            0.8317325489017311,
            1.224211783111528,
            1.5611808847373805,
            1.850533735517361,
            2.0990412766700994,
            2.3125112556720366,
            2.4959252478180165
           ],
           "y": [
            0.9507143064099162,
            1.197197090387812,
            1.4080249938110094,
            1.5882754397251262,
            1.7423035018789268,
            1.8738446649291751,
            1.9861029662052991,
            2.081826598620451
           ],
           "z": [
            0,
            35.75484025998244,
            26.53625144224801,
            19.75362654801073,
            14.763198745602935,
            11.09133467835302,
            8.389571889366584,
            6.401538876940176
           ]
          }
         ]
        },
        {
         "data": [
          {
           "marker": {
            "color": [
             0,
             35.75484025998244,
             26.53625144224801,
             19.75362654801073,
             14.763198745602935,
             11.09133467835302,
             8.389571889366584,
             6.401538876940176,
             4.938617459787518
            ],
            "colorscale": [
             [
              0,
              "rgb(150,0,90)"
             ],
             [
              0.125,
              "rgb(0,0,200)"
             ],
             [
              0.25,
              "rgb(0,25,255)"
             ],
             [
              0.375,
              "rgb(0,152,255)"
             ],
             [
              0.5,
              "rgb(44,255,150)"
             ],
             [
              0.625,
              "rgb(151,255,0)"
             ],
             [
              0.75,
              "rgb(255,234,0)"
             ],
             [
              0.875,
              "rgb(255,111,0)"
             ],
             [
              1,
              "rgb(255,0,0)"
             ]
            ],
            "size": 7
           },
           "mode": "markers+lines",
           "type": "scatter3d",
           "x": [
            0.3745401188473625,
            0.8317325489017311,
            1.224211783111528,
            1.5611808847373805,
            1.850533735517361,
            2.0990412766700994,
            2.3125112556720366,
            2.4959252478180165,
            2.6535561854036107
           ],
           "y": [
            0.9507143064099162,
            1.197197090387812,
            1.4080249938110094,
            1.5882754397251262,
            1.7423035018789268,
            1.8738446649291751,
            1.9861029662052991,
            2.081826598620451,
            2.163372758478217
           ],
           "z": [
            0,
            35.75484025998244,
            26.53625144224801,
            19.75362654801073,
            14.763198745602935,
            11.09133467835302,
            8.389571889366584,
            6.401538876940176,
            4.938617459787518
           ]
          }
         ]
        },
        {
         "data": [
          {
           "marker": {
            "color": [
             0,
             35.75484025998244,
             26.53625144224801,
             19.75362654801073,
             14.763198745602935,
             11.09133467835302,
             8.389571889366584,
             6.401538876940176,
             4.938617459787518,
             3.862037049746706
            ],
            "colorscale": [
             [
              0,
              "rgb(150,0,90)"
             ],
             [
              0.125,
              "rgb(0,0,200)"
             ],
             [
              0.25,
              "rgb(0,25,255)"
             ],
             [
              0.375,
              "rgb(0,152,255)"
             ],
             [
              0.5,
              "rgb(44,255,150)"
             ],
             [
              0.625,
              "rgb(151,255,0)"
             ],
             [
              0.75,
              "rgb(255,234,0)"
             ],
             [
              0.875,
              "rgb(255,111,0)"
             ],
             [
              1,
              "rgb(255,0,0)"
             ]
            ],
            "size": 7
           },
           "mode": "markers+lines",
           "type": "scatter3d",
           "x": [
            0.3745401188473625,
            0.8317325489017311,
            1.224211783111528,
            1.5611808847373805,
            1.850533735517361,
            2.0990412766700994,
            2.3125112556720366,
            2.4959252478180165,
            2.6535561854036107,
            2.7890691674712267
           ],
           "y": [
            0.9507143064099162,
            1.197197090387812,
            1.4080249938110094,
            1.5882754397251262,
            1.7423035018789268,
            1.8738446649291751,
            1.9861029662052991,
            2.081826598620451,
            2.163372758478217,
            2.232763268172065
           ],
           "z": [
            0,
            35.75484025998244,
            26.53625144224801,
            19.75362654801073,
            14.763198745602935,
            11.09133467835302,
            8.389571889366584,
            6.401538876940176,
            4.938617459787518,
            3.862037049746706
           ]
          }
         ]
        },
        {
         "data": [
          {
           "marker": {
            "color": [
             0,
             35.75484025998244,
             26.53625144224801,
             19.75362654801073,
             14.763198745602935,
             11.09133467835302,
             8.389571889366584,
             6.401538876940176,
             4.938617459787518,
             3.862037049746706,
             3.069701018720262
            ],
            "colorscale": [
             [
              0,
              "rgb(150,0,90)"
             ],
             [
              0.125,
              "rgb(0,0,200)"
             ],
             [
              0.25,
              "rgb(0,25,255)"
             ],
             [
              0.375,
              "rgb(0,152,255)"
             ],
             [
              0.5,
              "rgb(44,255,150)"
             ],
             [
              0.625,
              "rgb(151,255,0)"
             ],
             [
              0.75,
              "rgb(255,234,0)"
             ],
             [
              0.875,
              "rgb(255,111,0)"
             ],
             [
              1,
              "rgb(255,0,0)"
             ]
            ],
            "size": 7
           },
           "mode": "markers+lines",
           "type": "scatter3d",
           "x": [
            0.3745401188473625,
            0.8317325489017311,
            1.224211783111528,
            1.5611808847373805,
            1.850533735517361,
            2.0990412766700994,
            2.3125112556720366,
            2.4959252478180165,
            2.6535561854036107,
            2.7890691674712267,
            2.905607928589516
           ],
           "y": [
            0.9507143064099162,
            1.197197090387812,
            1.4080249938110094,
            1.5882754397251262,
            1.7423035018789268,
            1.8738446649291751,
            1.9861029662052991,
            2.081826598620451,
            2.163372758478217,
            2.232763268172065,
            2.2917322861206446
           ],
           "z": [
            0,
            35.75484025998244,
            26.53625144224801,
            19.75362654801073,
            14.763198745602935,
            11.09133467835302,
            8.389571889366584,
            6.401538876940176,
            4.938617459787518,
            3.862037049746706,
            3.069701018720262
           ]
          }
         ]
        },
        {
         "data": [
          {
           "marker": {
            "color": [
             0,
             35.75484025998244,
             26.53625144224801,
             19.75362654801073,
             14.763198745602935,
             11.09133467835302,
             8.389571889366584,
             6.401538876940176,
             4.938617459787518,
             3.862037049746706,
             3.069701018720262,
             2.486494570269137
            ],
            "colorscale": [
             [
              0,
              "rgb(150,0,90)"
             ],
             [
              0.125,
              "rgb(0,0,200)"
             ],
             [
              0.25,
              "rgb(0,25,255)"
             ],
             [
              0.375,
              "rgb(0,152,255)"
             ],
             [
              0.5,
              "rgb(44,255,150)"
             ],
             [
              0.625,
              "rgb(151,255,0)"
             ],
             [
              0.75,
              "rgb(255,234,0)"
             ],
             [
              0.875,
              "rgb(255,111,0)"
             ],
             [
              1,
              "rgb(255,0,0)"
             ]
            ],
            "size": 7
           },
           "mode": "markers+lines",
           "type": "scatter3d",
           "x": [
            0.3745401188473625,
            0.8317325489017311,
            1.224211783111528,
            1.5611808847373805,
            1.850533735517361,
            2.0990412766700994,
            2.3125112556720366,
            2.4959252478180165,
            2.6535561854036107,
            2.7890691674712267,
            2.905607928589516,
            3.005869006779868
           ],
           "y": [
            0.9507143064099162,
            1.197197090387812,
            1.4080249938110094,
            1.5882754397251262,
            1.7423035018789268,
            1.8738446649291751,
            1.9861029662052991,
            2.081826598620451,
            2.163372758478217,
            2.232763268172065,
            2.2917322861206446,
            2.3417672295910843
           ],
           "z": [
            0,
            35.75484025998244,
            26.53625144224801,
            19.75362654801073,
            14.763198745602935,
            11.09133467835302,
            8.389571889366584,
            6.401538876940176,
            4.938617459787518,
            3.862037049746706,
            3.069701018720262,
            2.486494570269137
           ]
          }
         ]
        },
        {
         "data": [
          {
           "marker": {
            "color": [
             0,
             35.75484025998244,
             26.53625144224801,
             19.75362654801073,
             14.763198745602935,
             11.09133467835302,
             8.389571889366584,
             6.401538876940176,
             4.938617459787518,
             3.862037049746706,
             3.069701018720262,
             2.486494570269137,
             2.0571540299063282
            ],
            "colorscale": [
             [
              0,
              "rgb(150,0,90)"
             ],
             [
              0.125,
              "rgb(0,0,200)"
             ],
             [
              0.25,
              "rgb(0,25,255)"
             ],
             [
              0.375,
              "rgb(0,152,255)"
             ],
             [
              0.5,
              "rgb(44,255,150)"
             ],
             [
              0.625,
              "rgb(151,255,0)"
             ],
             [
              0.75,
              "rgb(255,234,0)"
             ],
             [
              0.875,
              "rgb(255,111,0)"
             ],
             [
              1,
              "rgb(255,0,0)"
             ]
            ],
            "size": 7
           },
           "mode": "markers+lines",
           "type": "scatter3d",
           "x": [
            0.3745401188473625,
            0.8317325489017311,
            1.224211783111528,
            1.5611808847373805,
            1.850533735517361,
            2.0990412766700994,
            2.3125112556720366,
            2.4959252478180165,
            2.6535561854036107,
            2.7890691674712267,
            2.905607928589516,
            3.005869006779868,
            3.0921653604817427
           ],
           "y": [
            0.9507143064099162,
            1.197197090387812,
            1.4080249938110094,
            1.5882754397251262,
            1.7423035018789268,
            1.8738446649291751,
            1.9861029662052991,
            2.081826598620451,
            2.163372758478217,
            2.232763268172065,
            2.2917322861206446,
            2.3417672295910843,
            2.3841438759296536
           ],
           "z": [
            0,
            35.75484025998244,
            26.53625144224801,
            19.75362654801073,
            14.763198745602935,
            11.09133467835302,
            8.389571889366584,
            6.401538876940176,
            4.938617459787518,
            3.862037049746706,
            3.069701018720262,
            2.486494570269137,
            2.0571540299063282
           ]
          }
         ]
        },
        {
         "data": [
          {
           "marker": {
            "color": [
             0,
             35.75484025998244,
             26.53625144224801,
             19.75362654801073,
             14.763198745602935,
             11.09133467835302,
             8.389571889366584,
             6.401538876940176,
             4.938617459787518,
             3.862037049746706,
             3.069701018720262,
             2.486494570269137,
             2.0571540299063282,
             1.7410206268409614
            ],
            "colorscale": [
             [
              0,
              "rgb(150,0,90)"
             ],
             [
              0.125,
              "rgb(0,0,200)"
             ],
             [
              0.25,
              "rgb(0,25,255)"
             ],
             [
              0.375,
              "rgb(0,152,255)"
             ],
             [
              0.5,
              "rgb(44,255,150)"
             ],
             [
              0.625,
              "rgb(151,255,0)"
             ],
             [
              0.75,
              "rgb(255,234,0)"
             ],
             [
              0.875,
              "rgb(255,111,0)"
             ],
             [
              1,
              "rgb(255,0,0)"
             ]
            ],
            "size": 7
           },
           "mode": "markers+lines",
           "type": "scatter3d",
           "x": [
            0.3745401188473625,
            0.8317325489017311,
            1.224211783111528,
            1.5611808847373805,
            1.850533735517361,
            2.0990412766700994,
            2.3125112556720366,
            2.4959252478180165,
            2.6535561854036107,
            2.7890691674712267,
            2.905607928589516,
            3.005869006779868,
            3.0921653604817427,
            3.1664809355129333
           ],
           "y": [
            0.9507143064099162,
            1.197197090387812,
            1.4080249938110094,
            1.5882754397251262,
            1.7423035018789268,
            1.8738446649291751,
            1.9861029662052991,
            2.081826598620451,
            2.163372758478217,
            2.232763268172065,
            2.2917322861206446,
            2.3417672295910843,
            2.3841438759296536,
            2.419956470366555
           ],
           "z": [
            0,
            35.75484025998244,
            26.53625144224801,
            19.75362654801073,
            14.763198745602935,
            11.09133467835302,
            8.389571889366584,
            6.401538876940176,
            4.938617459787518,
            3.862037049746706,
            3.069701018720262,
            2.486494570269137,
            2.0571540299063282,
            1.7410206268409614
           ]
          }
         ]
        },
        {
         "data": [
          {
           "marker": {
            "color": [
             0,
             35.75484025998244,
             26.53625144224801,
             19.75362654801073,
             14.763198745602935,
             11.09133467835302,
             8.389571889366584,
             6.401538876940176,
             4.938617459787518,
             3.862037049746706,
             3.069701018720262,
             2.486494570269137,
             2.0571540299063282,
             1.7410206268409614,
             1.508180737071959
            ],
            "colorscale": [
             [
              0,
              "rgb(150,0,90)"
             ],
             [
              0.125,
              "rgb(0,0,200)"
             ],
             [
              0.25,
              "rgb(0,25,255)"
             ],
             [
              0.375,
              "rgb(0,152,255)"
             ],
             [
              0.5,
              "rgb(44,255,150)"
             ],
             [
              0.625,
              "rgb(151,255,0)"
             ],
             [
              0.75,
              "rgb(255,234,0)"
             ],
             [
              0.875,
              "rgb(255,111,0)"
             ],
             [
              1,
              "rgb(255,0,0)"
             ]
            ],
            "size": 7
           },
           "mode": "markers+lines",
           "type": "scatter3d",
           "x": [
            0.3745401188473625,
            0.8317325489017311,
            1.224211783111528,
            1.5611808847373805,
            1.850533735517361,
            2.0990412766700994,
            2.3125112556720366,
            2.4959252478180165,
            2.6535561854036107,
            2.7890691674712267,
            2.905607928589516,
            3.005869006779868,
            3.0921653604817427,
            3.1664809355129333,
            3.2305174694581775
           ],
           "y": [
            0.9507143064099162,
            1.197197090387812,
            1.4080249938110094,
            1.5882754397251262,
            1.7423035018789268,
            1.8738446649291751,
            1.9861029662052991,
            2.081826598620451,
            2.163372758478217,
            2.232763268172065,
            2.2917322861206446,
            2.3417672295910843,
            2.3841438759296536,
            2.419956470366555,
            2.450143550748451
           ],
           "z": [
            0,
            35.75484025998244,
            26.53625144224801,
            19.75362654801073,
            14.763198745602935,
            11.09133467835302,
            8.389571889366584,
            6.401538876940176,
            4.938617459787518,
            3.862037049746706,
            3.069701018720262,
            2.486494570269137,
            2.0571540299063282,
            1.7410206268409614,
            1.508180737071959
           ]
          }
         ]
        },
        {
         "data": [
          {
           "marker": {
            "color": [
             0,
             35.75484025998244,
             26.53625144224801,
             19.75362654801073,
             14.763198745602935,
             11.09133467835302,
             8.389571889366584,
             6.401538876940176,
             4.938617459787518,
             3.862037049746706,
             3.069701018720262,
             2.486494570269137,
             2.0571540299063282,
             1.7410206268409614,
             1.508180737071959,
             1.3366261762535963
            ],
            "colorscale": [
             [
              0,
              "rgb(150,0,90)"
             ],
             [
              0.125,
              "rgb(0,0,200)"
             ],
             [
              0.25,
              "rgb(0,25,255)"
             ],
             [
              0.375,
              "rgb(0,152,255)"
             ],
             [
              0.5,
              "rgb(44,255,150)"
             ],
             [
              0.625,
              "rgb(151,255,0)"
             ],
             [
              0.75,
              "rgb(255,234,0)"
             ],
             [
              0.875,
              "rgb(255,111,0)"
             ],
             [
              1,
              "rgb(255,0,0)"
             ]
            ],
            "size": 7
           },
           "mode": "markers+lines",
           "type": "scatter3d",
           "x": [
            0.3745401188473625,
            0.8317325489017311,
            1.224211783111528,
            1.5611808847373805,
            1.850533735517361,
            2.0990412766700994,
            2.3125112556720366,
            2.4959252478180165,
            2.6535561854036107,
            2.7890691674712267,
            2.905607928589516,
            3.005869006779868,
            3.0921653604817427,
            3.1664809355129333,
            3.2305174694581775,
            3.2857346377721646
           ],
           "y": [
            0.9507143064099162,
            1.197197090387812,
            1.4080249938110094,
            1.5882754397251262,
            1.7423035018789268,
            1.8738446649291751,
            1.9861029662052991,
            2.081826598620451,
            2.163372758478217,
            2.232763268172065,
            2.2917322861206446,
            2.3417672295910843,
            2.3841438759296536,
            2.419956470366555,
            2.450143550748451,
            2.4755100984990226
           ],
           "z": [
            0,
            35.75484025998244,
            26.53625144224801,
            19.75362654801073,
            14.763198745602935,
            11.09133467835302,
            8.389571889366584,
            6.401538876940176,
            4.938617459787518,
            3.862037049746706,
            3.069701018720262,
            2.486494570269137,
            2.0571540299063282,
            1.7410206268409614,
            1.508180737071959,
            1.3366261762535963
           ]
          }
         ]
        },
        {
         "data": [
          {
           "marker": {
            "color": [
             0,
             35.75484025998244,
             26.53625144224801,
             19.75362654801073,
             14.763198745602935,
             11.09133467835302,
             8.389571889366584,
             6.401538876940176,
             4.938617459787518,
             3.862037049746706,
             3.069701018720262,
             2.486494570269137,
             2.0571540299063282,
             1.7410206268409614,
             1.508180737071959,
             1.3366261762535963,
             1.2101649653654851
            ],
            "colorscale": [
             [
              0,
              "rgb(150,0,90)"
             ],
             [
              0.125,
              "rgb(0,0,200)"
             ],
             [
              0.25,
              "rgb(0,25,255)"
             ],
             [
              0.375,
              "rgb(0,152,255)"
             ],
             [
              0.5,
              "rgb(44,255,150)"
             ],
             [
              0.625,
              "rgb(151,255,0)"
             ],
             [
              0.75,
              "rgb(255,234,0)"
             ],
             [
              0.875,
              "rgb(255,111,0)"
             ],
             [
              1,
              "rgb(255,0,0)"
             ]
            ],
            "size": 7
           },
           "mode": "markers+lines",
           "type": "scatter3d",
           "x": [
            0.3745401188473625,
            0.8317325489017311,
            1.224211783111528,
            1.5611808847373805,
            1.850533735517361,
            2.0990412766700994,
            2.3125112556720366,
            2.4959252478180165,
            2.6535561854036107,
            2.7890691674712267,
            2.905607928589516,
            3.005869006779868,
            3.0921653604817427,
            3.1664809355129333,
            3.2305174694581775,
            3.2857346377721646,
            3.333384488789707
           ],
           "y": [
            0.9507143064099162,
            1.197197090387812,
            1.4080249938110094,
            1.5882754397251262,
            1.7423035018789268,
            1.8738446649291751,
            1.9861029662052991,
            2.081826598620451,
            2.163372758478217,
            2.232763268172065,
            2.2917322861206446,
            2.3417672295910843,
            2.3841438759296536,
            2.419956470366555,
            2.450143550748451,
            2.4755100984990226,
            2.496746538430158
           ],
           "z": [
            0,
            35.75484025998244,
            26.53625144224801,
            19.75362654801073,
            14.763198745602935,
            11.09133467835302,
            8.389571889366584,
            6.401538876940176,
            4.938617459787518,
            3.862037049746706,
            3.069701018720262,
            2.486494570269137,
            2.0571540299063282,
            1.7410206268409614,
            1.508180737071959,
            1.3366261762535963,
            1.2101649653654851
           ]
          }
         ]
        },
        {
         "data": [
          {
           "marker": {
            "color": [
             0,
             35.75484025998244,
             26.53625144224801,
             19.75362654801073,
             14.763198745602935,
             11.09133467835302,
             8.389571889366584,
             6.401538876940176,
             4.938617459787518,
             3.862037049746706,
             3.069701018720262,
             2.486494570269137,
             2.0571540299063282,
             1.7410206268409614,
             1.508180737071959,
             1.3366261762535963,
             1.2101649653654851,
             1.1168842355485544
            ],
            "colorscale": [
             [
              0,
              "rgb(150,0,90)"
             ],
             [
              0.125,
              "rgb(0,0,200)"
             ],
             [
              0.25,
              "rgb(0,25,255)"
             ],
             [
              0.375,
              "rgb(0,152,255)"
             ],
             [
              0.5,
              "rgb(44,255,150)"
             ],
             [
              0.625,
              "rgb(151,255,0)"
             ],
             [
              0.75,
              "rgb(255,234,0)"
             ],
             [
              0.875,
              "rgb(255,111,0)"
             ],
             [
              1,
              "rgb(255,0,0)"
             ]
            ],
            "size": 7
           },
           "mode": "markers+lines",
           "type": "scatter3d",
           "x": [
            0.3745401188473625,
            0.8317325489017311,
            1.224211783111528,
            1.5611808847373805,
            1.850533735517361,
            2.0990412766700994,
            2.3125112556720366,
            2.4959252478180165,
            2.6535561854036107,
            2.7890691674712267,
            2.905607928589516,
            3.005869006779868,
            3.0921653604817427,
            3.1664809355129333,
            3.2305174694581775,
            3.2857346377721646,
            3.333384488789707,
            3.3745409800903396
           ],
           "y": [
            0.9507143064099162,
            1.197197090387812,
            1.4080249938110094,
            1.5882754397251262,
            1.7423035018789268,
            1.8738446649291751,
            1.9861029662052991,
            2.081826598620451,
            2.163372758478217,
            2.232763268172065,
            2.2917322861206446,
            2.3417672295910843,
            2.3841438759296536,
            2.419956470366555,
            2.450143550748451,
            2.4755100984990226,
            2.496746538430158,
            2.5144450356792536
           ],
           "z": [
            0,
            35.75484025998244,
            26.53625144224801,
            19.75362654801073,
            14.763198745602935,
            11.09133467835302,
            8.389571889366584,
            6.401538876940176,
            4.938617459787518,
            3.862037049746706,
            3.069701018720262,
            2.486494570269137,
            2.0571540299063282,
            1.7410206268409614,
            1.508180737071959,
            1.3366261762535963,
            1.2101649653654851,
            1.1168842355485544
           ]
          }
         ]
        },
        {
         "data": [
          {
           "marker": {
            "color": [
             0,
             35.75484025998244,
             26.53625144224801,
             19.75362654801073,
             14.763198745602935,
             11.09133467835302,
             8.389571889366584,
             6.401538876940176,
             4.938617459787518,
             3.862037049746706,
             3.069701018720262,
             2.486494570269137,
             2.0571540299063282,
             1.7410206268409614,
             1.508180737071959,
             1.3366261762535963,
             1.2101649653654851,
             1.1168842355485544,
             1.0480193537352995
            ],
            "colorscale": [
             [
              0,
              "rgb(150,0,90)"
             ],
             [
              0.125,
              "rgb(0,0,200)"
             ],
             [
              0.25,
              "rgb(0,25,255)"
             ],
             [
              0.375,
              "rgb(0,152,255)"
             ],
             [
              0.5,
              "rgb(44,255,150)"
             ],
             [
              0.625,
              "rgb(151,255,0)"
             ],
             [
              0.75,
              "rgb(255,234,0)"
             ],
             [
              0.875,
              "rgb(255,111,0)"
             ],
             [
              1,
              "rgb(255,0,0)"
             ]
            ],
            "size": 7
           },
           "mode": "markers+lines",
           "type": "scatter3d",
           "x": [
            0.3745401188473625,
            0.8317325489017311,
            1.224211783111528,
            1.5611808847373805,
            1.850533735517361,
            2.0990412766700994,
            2.3125112556720366,
            2.4959252478180165,
            2.6535561854036107,
            2.7890691674712267,
            2.905607928589516,
            3.005869006779868,
            3.0921653604817427,
            3.1664809355129333,
            3.2305174694581775,
            3.2857346377721646,
            3.333384488789707,
            3.3745409800903396,
            3.4101253130876703
           ],
           "y": [
            0.9507143064099162,
            1.197197090387812,
            1.4080249938110094,
            1.5882754397251262,
            1.7423035018789268,
            1.8738446649291751,
            1.9861029662052991,
            2.081826598620451,
            2.163372758478217,
            2.232763268172065,
            2.2917322861206446,
            2.3417672295910843,
            2.3841438759296536,
            2.419956470366555,
            2.450143550748451,
            2.4755100984990226,
            2.496746538430158,
            2.5144450356792536,
            2.5291134742774366
           ],
           "z": [
            0,
            35.75484025998244,
            26.53625144224801,
            19.75362654801073,
            14.763198745602935,
            11.09133467835302,
            8.389571889366584,
            6.401538876940176,
            4.938617459787518,
            3.862037049746706,
            3.069701018720262,
            2.486494570269137,
            2.0571540299063282,
            1.7410206268409614,
            1.508180737071959,
            1.3366261762535963,
            1.2101649653654851,
            1.1168842355485544,
            1.0480193537352995
           ]
          }
         ]
        },
        {
         "data": [
          {
           "marker": {
            "color": [
             0,
             35.75484025998244,
             26.53625144224801,
             19.75362654801073,
             14.763198745602935,
             11.09133467835302,
             8.389571889366584,
             6.401538876940176,
             4.938617459787518,
             3.862037049746706,
             3.069701018720262,
             2.486494570269137,
             2.0571540299063282,
             1.7410206268409614,
             1.508180737071959,
             1.3366261762535963,
             1.2101649653654851,
             1.1168842355485544,
             1.0480193537352995,
             0.9971219137544148
            ],
            "colorscale": [
             [
              0,
              "rgb(150,0,90)"
             ],
             [
              0.125,
              "rgb(0,0,200)"
             ],
             [
              0.25,
              "rgb(0,25,255)"
             ],
             [
              0.375,
              "rgb(0,152,255)"
             ],
             [
              0.5,
              "rgb(44,255,150)"
             ],
             [
              0.625,
              "rgb(151,255,0)"
             ],
             [
              0.75,
              "rgb(255,234,0)"
             ],
             [
              0.875,
              "rgb(255,111,0)"
             ],
             [
              1,
              "rgb(255,0,0)"
             ]
            ],
            "size": 7
           },
           "mode": "markers+lines",
           "type": "scatter3d",
           "x": [
            0.3745401188473625,
            0.8317325489017311,
            1.224211783111528,
            1.5611808847373805,
            1.850533735517361,
            2.0990412766700994,
            2.3125112556720366,
            2.4959252478180165,
            2.6535561854036107,
            2.7890691674712267,
            2.905607928589516,
            3.005869006779868,
            3.0921653604817427,
            3.1664809355129333,
            3.2305174694581775,
            3.2857346377721646,
            3.333384488789707,
            3.3745409800903396,
            3.4101253130876703,
            3.4409276635786017
           ],
           "y": [
            0.9507143064099162,
            1.197197090387812,
            1.4080249938110094,
            1.5882754397251262,
            1.7423035018789268,
            1.8738446649291751,
            1.9861029662052991,
            2.081826598620451,
            2.163372758478217,
            2.232763268172065,
            2.2917322861206446,
            2.3417672295910843,
            2.3841438759296536,
            2.419956470366555,
            2.450143550748451,
            2.4755100984990226,
            2.496746538430158,
            2.5144450356792536,
            2.5291134742774366,
            2.541187447154736
           ],
           "z": [
            0,
            35.75484025998244,
            26.53625144224801,
            19.75362654801073,
            14.763198745602935,
            11.09133467835302,
            8.389571889366584,
            6.401538876940176,
            4.938617459787518,
            3.862037049746706,
            3.069701018720262,
            2.486494570269137,
            2.0571540299063282,
            1.7410206268409614,
            1.508180737071959,
            1.3366261762535963,
            1.2101649653654851,
            1.1168842355485544,
            1.0480193537352995,
            0.9971219137544148
           ]
          }
         ]
        },
        {
         "data": [
          {
           "marker": {
            "color": [
             0,
             35.75484025998244,
             26.53625144224801,
             19.75362654801073,
             14.763198745602935,
             11.09133467835302,
             8.389571889366584,
             6.401538876940176,
             4.938617459787518,
             3.862037049746706,
             3.069701018720262,
             2.486494570269137,
             2.0571540299063282,
             1.7410206268409614,
             1.508180737071959,
             1.3366261762535963,
             1.2101649653654851,
             1.1168842355485544,
             1.0480193537352995,
             0.9971219137544148,
             0.9594476092658816
            ],
            "colorscale": [
             [
              0,
              "rgb(150,0,90)"
             ],
             [
              0.125,
              "rgb(0,0,200)"
             ],
             [
              0.25,
              "rgb(0,25,255)"
             ],
             [
              0.375,
              "rgb(0,152,255)"
             ],
             [
              0.5,
              "rgb(44,255,150)"
             ],
             [
              0.625,
              "rgb(151,255,0)"
             ],
             [
              0.75,
              "rgb(255,234,0)"
             ],
             [
              0.875,
              "rgb(255,111,0)"
             ],
             [
              1,
              "rgb(255,0,0)"
             ]
            ],
            "size": 7
           },
           "mode": "markers+lines",
           "type": "scatter3d",
           "x": [
            0.3745401188473625,
            0.8317325489017311,
            1.224211783111528,
            1.5611808847373805,
            1.850533735517361,
            2.0990412766700994,
            2.3125112556720366,
            2.4959252478180165,
            2.6535561854036107,
            2.7890691674712267,
            2.905607928589516,
            3.005869006779868,
            3.0921653604817427,
            3.1664809355129333,
            3.2305174694581775,
            3.2857346377721646,
            3.333384488789707,
            3.3745409800903396,
            3.4101253130876703,
            3.4409276635786017,
            3.4676258209550825
           ],
           "y": [
            0.9507143064099162,
            1.197197090387812,
            1.4080249938110094,
            1.5882754397251262,
            1.7423035018789268,
            1.8738446649291751,
            1.9861029662052991,
            2.081826598620451,
            2.163372758478217,
            2.232763268172065,
            2.2917322861206446,
            2.3417672295910843,
            2.3841438759296536,
            2.419956470366555,
            2.450143550748451,
            2.4755100984990226,
            2.496746538430158,
            2.5144450356792536,
            2.5291134742774366,
            2.541187447154736,
            2.551040540470749
           ],
           "z": [
            0,
            35.75484025998244,
            26.53625144224801,
            19.75362654801073,
            14.763198745602935,
            11.09133467835302,
            8.389571889366584,
            6.401538876940176,
            4.938617459787518,
            3.862037049746706,
            3.069701018720262,
            2.486494570269137,
            2.0571540299063282,
            1.7410206268409614,
            1.508180737071959,
            1.3366261762535963,
            1.2101649653654851,
            1.1168842355485544,
            1.0480193537352995,
            0.9971219137544148,
            0.9594476092658816
           ]
          }
         ]
        },
        {
         "data": [
          {
           "marker": {
            "color": [
             0,
             35.75484025998244,
             26.53625144224801,
             19.75362654801073,
             14.763198745602935,
             11.09133467835302,
             8.389571889366584,
             6.401538876940176,
             4.938617459787518,
             3.862037049746706,
             3.069701018720262,
             2.486494570269137,
             2.0571540299063282,
             1.7410206268409614,
             1.508180737071959,
             1.3366261762535963,
             1.2101649653654851,
             1.1168842355485544,
             1.0480193537352995,
             0.9971219137544148,
             0.9594476092658816,
             0.931505878541736
            ],
            "colorscale": [
             [
              0,
              "rgb(150,0,90)"
             ],
             [
              0.125,
              "rgb(0,0,200)"
             ],
             [
              0.25,
              "rgb(0,25,255)"
             ],
             [
              0.375,
              "rgb(0,152,255)"
             ],
             [
              0.5,
              "rgb(44,255,150)"
             ],
             [
              0.625,
              "rgb(151,255,0)"
             ],
             [
              0.75,
              "rgb(255,234,0)"
             ],
             [
              0.875,
              "rgb(255,111,0)"
             ],
             [
              1,
              "rgb(255,0,0)"
             ]
            ],
            "size": 7
           },
           "mode": "markers+lines",
           "type": "scatter3d",
           "x": [
            0.3745401188473625,
            0.8317325489017311,
            1.224211783111528,
            1.5611808847373805,
            1.850533735517361,
            2.0990412766700994,
            2.3125112556720366,
            2.4959252478180165,
            2.6535561854036107,
            2.7890691674712267,
            2.905607928589516,
            3.005869006779868,
            3.0921653604817427,
            3.1664809355129333,
            3.2305174694581775,
            3.2857346377721646,
            3.333384488789707,
            3.3745409800903396,
            3.4101253130876703,
            3.4409276635786017,
            3.4676258209550825,
            3.4908011758451174
           ],
           "y": [
            0.9507143064099162,
            1.197197090387812,
            1.4080249938110094,
            1.5882754397251262,
            1.7423035018789268,
            1.8738446649291751,
            1.9861029662052991,
            2.081826598620451,
            2.163372758478217,
            2.232763268172065,
            2.2917322861206446,
            2.3417672295910843,
            2.3841438759296536,
            2.419956470366555,
            2.450143550748451,
            2.4755100984990226,
            2.496746538430158,
            2.5144450356792536,
            2.5291134742774366,
            2.541187447154736,
            2.551040540470749,
            2.558993154916269
           ],
           "z": [
            0,
            35.75484025998244,
            26.53625144224801,
            19.75362654801073,
            14.763198745602935,
            11.09133467835302,
            8.389571889366584,
            6.401538876940176,
            4.938617459787518,
            3.862037049746706,
            3.069701018720262,
            2.486494570269137,
            2.0571540299063282,
            1.7410206268409614,
            1.508180737071959,
            1.3366261762535963,
            1.2101649653654851,
            1.1168842355485544,
            1.0480193537352995,
            0.9971219137544148,
            0.9594476092658816,
            0.931505878541736
           ]
          }
         ]
        },
        {
         "data": [
          {
           "marker": {
            "color": [
             0,
             35.75484025998244,
             26.53625144224801,
             19.75362654801073,
             14.763198745602935,
             11.09133467835302,
             8.389571889366584,
             6.401538876940176,
             4.938617459787518,
             3.862037049746706,
             3.069701018720262,
             2.486494570269137,
             2.0571540299063282,
             1.7410206268409614,
             1.508180737071959,
             1.3366261762535963,
             1.2101649653654851,
             1.1168842355485544,
             1.0480193537352995,
             0.9971219137544148,
             0.9594476092658816,
             0.931505878541736,
             0.9107285683127627
            ],
            "colorscale": [
             [
              0,
              "rgb(150,0,90)"
             ],
             [
              0.125,
              "rgb(0,0,200)"
             ],
             [
              0.25,
              "rgb(0,25,255)"
             ],
             [
              0.375,
              "rgb(0,152,255)"
             ],
             [
              0.5,
              "rgb(44,255,150)"
             ],
             [
              0.625,
              "rgb(151,255,0)"
             ],
             [
              0.75,
              "rgb(255,234,0)"
             ],
             [
              0.875,
              "rgb(255,111,0)"
             ],
             [
              1,
              "rgb(255,0,0)"
             ]
            ],
            "size": 7
           },
           "mode": "markers+lines",
           "type": "scatter3d",
           "x": [
            0.3745401188473625,
            0.8317325489017311,
            1.224211783111528,
            1.5611808847373805,
            1.850533735517361,
            2.0990412766700994,
            2.3125112556720366,
            2.4959252478180165,
            2.6535561854036107,
            2.7890691674712267,
            2.905607928589516,
            3.005869006779868,
            3.0921653604817427,
            3.1664809355129333,
            3.2305174694581775,
            3.2857346377721646,
            3.333384488789707,
            3.3745409800903396,
            3.4101253130876703,
            3.4409276635786017,
            3.4676258209550825,
            3.4908011758451174,
            3.5109524333895292
           ],
           "y": [
            0.9507143064099162,
            1.197197090387812,
            1.4080249938110094,
            1.5882754397251262,
            1.7423035018789268,
            1.8738446649291751,
            1.9861029662052991,
            2.081826598620451,
            2.163372758478217,
            2.232763268172065,
            2.2917322861206446,
            2.3417672295910843,
            2.3841438759296536,
            2.419956470366555,
            2.450143550748451,
            2.4755100984990226,
            2.496746538430158,
            2.5144450356792536,
            2.5291134742774366,
            2.541187447154736,
            2.551040540470749,
            2.558993154916269,
            2.5653200721131384
           ],
           "z": [
            0,
            35.75484025998244,
            26.53625144224801,
            19.75362654801073,
            14.763198745602935,
            11.09133467835302,
            8.389571889366584,
            6.401538876940176,
            4.938617459787518,
            3.862037049746706,
            3.069701018720262,
            2.486494570269137,
            2.0571540299063282,
            1.7410206268409614,
            1.508180737071959,
            1.3366261762535963,
            1.2101649653654851,
            1.1168842355485544,
            1.0480193537352995,
            0.9971219137544148,
            0.9594476092658816,
            0.931505878541736,
            0.9107285683127627
           ]
          }
         ]
        },
        {
         "data": [
          {
           "marker": {
            "color": [
             0,
             35.75484025998244,
             26.53625144224801,
             19.75362654801073,
             14.763198745602935,
             11.09133467835302,
             8.389571889366584,
             6.401538876940176,
             4.938617459787518,
             3.862037049746706,
             3.069701018720262,
             2.486494570269137,
             2.0571540299063282,
             1.7410206268409614,
             1.508180737071959,
             1.3366261762535963,
             1.2101649653654851,
             1.1168842355485544,
             1.0480193537352995,
             0.9971219137544148,
             0.9594476092658816,
             0.931505878541736,
             0.9107285683127627,
             0.895226162531146
            ],
            "colorscale": [
             [
              0,
              "rgb(150,0,90)"
             ],
             [
              0.125,
              "rgb(0,0,200)"
             ],
             [
              0.25,
              "rgb(0,25,255)"
             ],
             [
              0.375,
              "rgb(0,152,255)"
             ],
             [
              0.5,
              "rgb(44,255,150)"
             ],
             [
              0.625,
              "rgb(151,255,0)"
             ],
             [
              0.75,
              "rgb(255,234,0)"
             ],
             [
              0.875,
              "rgb(255,111,0)"
             ],
             [
              1,
              "rgb(255,0,0)"
             ]
            ],
            "size": 7
           },
           "mode": "markers+lines",
           "type": "scatter3d",
           "x": [
            0.3745401188473625,
            0.8317325489017311,
            1.224211783111528,
            1.5611808847373805,
            1.850533735517361,
            2.0990412766700994,
            2.3125112556720366,
            2.4959252478180165,
            2.6535561854036107,
            2.7890691674712267,
            2.905607928589516,
            3.005869006779868,
            3.0921653604817427,
            3.1664809355129333,
            3.2305174694581775,
            3.2857346377721646,
            3.333384488789707,
            3.3745409800903396,
            3.4101253130876703,
            3.4409276635786017,
            3.4676258209550825,
            3.4908011758451174,
            3.5109524333895292,
            3.5285073757004275
           ],
           "y": [
            0.9507143064099162,
            1.197197090387812,
            1.4080249938110094,
            1.5882754397251262,
            1.7423035018789268,
            1.8738446649291751,
            1.9861029662052991,
            2.081826598620451,
            2.163372758478217,
            2.232763268172065,
            2.2917322861206446,
            2.3417672295910843,
            2.3841438759296536,
            2.419956470366555,
            2.450143550748451,
            2.4755100984990226,
            2.496746538430158,
            2.5144450356792536,
            2.5291134742774366,
            2.541187447154736,
            2.551040540470749,
            2.558993154916269,
            2.5653200721131384,
            2.5702569446318644
           ],
           "z": [
            0,
            35.75484025998244,
            26.53625144224801,
            19.75362654801073,
            14.763198745602935,
            11.09133467835302,
            8.389571889366584,
            6.401538876940176,
            4.938617459787518,
            3.862037049746706,
            3.069701018720262,
            2.486494570269137,
            2.0571540299063282,
            1.7410206268409614,
            1.508180737071959,
            1.3366261762535963,
            1.2101649653654851,
            1.1168842355485544,
            1.0480193537352995,
            0.9971219137544148,
            0.9594476092658816,
            0.931505878541736,
            0.9107285683127627,
            0.895226162531146
           ]
          }
         ]
        },
        {
         "data": [
          {
           "marker": {
            "color": [
             0,
             35.75484025998244,
             26.53625144224801,
             19.75362654801073,
             14.763198745602935,
             11.09133467835302,
             8.389571889366584,
             6.401538876940176,
             4.938617459787518,
             3.862037049746706,
             3.069701018720262,
             2.486494570269137,
             2.0571540299063282,
             1.7410206268409614,
             1.508180737071959,
             1.3366261762535963,
             1.2101649653654851,
             1.1168842355485544,
             1.0480193537352995,
             0.9971219137544148,
             0.9594476092658816,
             0.931505878541736,
             0.9107285683127627,
             0.895226162531146,
             0.8836084345467929
            ],
            "colorscale": [
             [
              0,
              "rgb(150,0,90)"
             ],
             [
              0.125,
              "rgb(0,0,200)"
             ],
             [
              0.25,
              "rgb(0,25,255)"
             ],
             [
              0.375,
              "rgb(0,152,255)"
             ],
             [
              0.5,
              "rgb(44,255,150)"
             ],
             [
              0.625,
              "rgb(151,255,0)"
             ],
             [
              0.75,
              "rgb(255,234,0)"
             ],
             [
              0.875,
              "rgb(255,111,0)"
             ],
             [
              1,
              "rgb(255,0,0)"
             ]
            ],
            "size": 7
           },
           "mode": "markers+lines",
           "type": "scatter3d",
           "x": [
            0.3745401188473625,
            0.8317325489017311,
            1.224211783111528,
            1.5611808847373805,
            1.850533735517361,
            2.0990412766700994,
            2.3125112556720366,
            2.4959252478180165,
            2.6535561854036107,
            2.7890691674712267,
            2.905607928589516,
            3.005869006779868,
            3.0921653604817427,
            3.1664809355129333,
            3.2305174694581775,
            3.2857346377721646,
            3.333384488789707,
            3.3745409800903396,
            3.4101253130876703,
            3.4409276635786017,
            3.4676258209550825,
            3.4908011758451174,
            3.5109524333895292,
            3.5285073757004275,
            3.5438329510203994
           ],
           "y": [
            0.9507143064099162,
            1.197197090387812,
            1.4080249938110094,
            1.5882754397251262,
            1.7423035018789268,
            1.8738446649291751,
            1.9861029662052991,
            2.081826598620451,
            2.163372758478217,
            2.232763268172065,
            2.2917322861206446,
            2.3417672295910843,
            2.3841438759296536,
            2.419956470366555,
            2.450143550748451,
            2.4755100984990226,
            2.496746538430158,
            2.5144450356792536,
            2.5291134742774366,
            2.541187447154736,
            2.551040540470749,
            2.558993154916269,
            2.5653200721131384,
            2.5702569446318644,
            2.5740058627507576
           ],
           "z": [
            0,
            35.75484025998244,
            26.53625144224801,
            19.75362654801073,
            14.763198745602935,
            11.09133467835302,
            8.389571889366584,
            6.401538876940176,
            4.938617459787518,
            3.862037049746706,
            3.069701018720262,
            2.486494570269137,
            2.0571540299063282,
            1.7410206268409614,
            1.508180737071959,
            1.3366261762535963,
            1.2101649653654851,
            1.1168842355485544,
            1.0480193537352995,
            0.9971219137544148,
            0.9594476092658816,
            0.931505878541736,
            0.9107285683127627,
            0.895226162531146,
            0.8836084345467929
           ]
          }
         ]
        },
        {
         "data": [
          {
           "marker": {
            "color": [
             0,
             35.75484025998244,
             26.53625144224801,
             19.75362654801073,
             14.763198745602935,
             11.09133467835302,
             8.389571889366584,
             6.401538876940176,
             4.938617459787518,
             3.862037049746706,
             3.069701018720262,
             2.486494570269137,
             2.0571540299063282,
             1.7410206268409614,
             1.508180737071959,
             1.3366261762535963,
             1.2101649653654851,
             1.1168842355485544,
             1.0480193537352995,
             0.9971219137544148,
             0.9594476092658816,
             0.931505878541736,
             0.9107285683127627,
             0.895226162531146,
             0.8836084345467929,
             0.8748524969907335
            ],
            "colorscale": [
             [
              0,
              "rgb(150,0,90)"
             ],
             [
              0.125,
              "rgb(0,0,200)"
             ],
             [
              0.25,
              "rgb(0,25,255)"
             ],
             [
              0.375,
              "rgb(0,152,255)"
             ],
             [
              0.5,
              "rgb(44,255,150)"
             ],
             [
              0.625,
              "rgb(151,255,0)"
             ],
             [
              0.75,
              "rgb(255,234,0)"
             ],
             [
              0.875,
              "rgb(255,111,0)"
             ],
             [
              1,
              "rgb(255,0,0)"
             ]
            ],
            "size": 7
           },
           "mode": "markers+lines",
           "type": "scatter3d",
           "x": [
            0.3745401188473625,
            0.8317325489017311,
            1.224211783111528,
            1.5611808847373805,
            1.850533735517361,
            2.0990412766700994,
            2.3125112556720366,
            2.4959252478180165,
            2.6535561854036107,
            2.7890691674712267,
            2.905607928589516,
            3.005869006779868,
            3.0921653604817427,
            3.1664809355129333,
            3.2305174694581775,
            3.2857346377721646,
            3.333384488789707,
            3.3745409800903396,
            3.4101253130876703,
            3.4409276635786017,
            3.4676258209550825,
            3.4908011758451174,
            3.5109524333895292,
            3.5285073757004275,
            3.5438329510203994,
            3.5572439276222223
           ],
           "y": [
            0.9507143064099162,
            1.197197090387812,
            1.4080249938110094,
            1.5882754397251262,
            1.7423035018789268,
            1.8738446649291751,
            1.9861029662052991,
            2.081826598620451,
            2.163372758478217,
            2.232763268172065,
            2.2917322861206446,
            2.3417672295910843,
            2.3841438759296536,
            2.419956470366555,
            2.450143550748451,
            2.4755100984990226,
            2.496746538430158,
            2.5144450356792536,
            2.5291134742774366,
            2.541187447154736,
            2.551040540470749,
            2.558993154916269,
            2.5653200721131384,
            2.5702569446318644,
            2.5740058627507576,
            2.576740129297298
           ],
           "z": [
            0,
            35.75484025998244,
            26.53625144224801,
            19.75362654801073,
            14.763198745602935,
            11.09133467835302,
            8.389571889366584,
            6.401538876940176,
            4.938617459787518,
            3.862037049746706,
            3.069701018720262,
            2.486494570269137,
            2.0571540299063282,
            1.7410206268409614,
            1.508180737071959,
            1.3366261762535963,
            1.2101649653654851,
            1.1168842355485544,
            1.0480193537352995,
            0.9971219137544148,
            0.9594476092658816,
            0.931505878541736,
            0.9107285683127627,
            0.895226162531146,
            0.8836084345467929,
            0.8748524969907335
           ]
          }
         ]
        },
        {
         "data": [
          {
           "marker": {
            "color": [
             0,
             35.75484025998244,
             26.53625144224801,
             19.75362654801073,
             14.763198745602935,
             11.09133467835302,
             8.389571889366584,
             6.401538876940176,
             4.938617459787518,
             3.862037049746706,
             3.069701018720262,
             2.486494570269137,
             2.0571540299063282,
             1.7410206268409614,
             1.508180737071959,
             1.3366261762535963,
             1.2101649653654851,
             1.1168842355485544,
             1.0480193537352995,
             0.9971219137544148,
             0.9594476092658816,
             0.931505878541736,
             0.9107285683127627,
             0.895226162531146,
             0.8836084345467929,
             0.8748524969907335,
             0.8682057231829385
            ],
            "colorscale": [
             [
              0,
              "rgb(150,0,90)"
             ],
             [
              0.125,
              "rgb(0,0,200)"
             ],
             [
              0.25,
              "rgb(0,25,255)"
             ],
             [
              0.375,
              "rgb(0,152,255)"
             ],
             [
              0.5,
              "rgb(44,255,150)"
             ],
             [
              0.625,
              "rgb(151,255,0)"
             ],
             [
              0.75,
              "rgb(255,234,0)"
             ],
             [
              0.875,
              "rgb(255,111,0)"
             ],
             [
              1,
              "rgb(255,0,0)"
             ]
            ],
            "size": 7
           },
           "mode": "markers+lines",
           "type": "scatter3d",
           "x": [
            0.3745401188473625,
            0.8317325489017311,
            1.224211783111528,
            1.5611808847373805,
            1.850533735517361,
            2.0990412766700994,
            2.3125112556720366,
            2.4959252478180165,
            2.6535561854036107,
            2.7890691674712267,
            2.905607928589516,
            3.005869006779868,
            3.0921653604817427,
            3.1664809355129333,
            3.2305174694581775,
            3.2857346377721646,
            3.333384488789707,
            3.3745409800903396,
            3.4101253130876703,
            3.4409276635786017,
            3.4676258209550825,
            3.4908011758451174,
            3.5109524333895292,
            3.5285073757004275,
            3.5438329510203994,
            3.5572439276222223,
            3.569010316625877
           ],
           "y": [
            0.9507143064099162,
            1.197197090387812,
            1.4080249938110094,
            1.5882754397251262,
            1.7423035018789268,
            1.8738446649291751,
            1.9861029662052991,
            2.081826598620451,
            2.163372758478217,
            2.232763268172065,
            2.2917322861206446,
            2.3417672295910843,
            2.3841438759296536,
            2.419956470366555,
            2.450143550748451,
            2.4755100984990226,
            2.496746538430158,
            2.5144450356792536,
            2.5291134742774366,
            2.541187447154736,
            2.551040540470749,
            2.558993154916269,
            2.5653200721131384,
            2.5702569446318644,
            2.5740058627507576,
            2.576740129297298,
            2.5786083552282077
           ],
           "z": [
            0,
            35.75484025998244,
            26.53625144224801,
            19.75362654801073,
            14.763198745602935,
            11.09133467835302,
            8.389571889366584,
            6.401538876940176,
            4.938617459787518,
            3.862037049746706,
            3.069701018720262,
            2.486494570269137,
            2.0571540299063282,
            1.7410206268409614,
            1.508180737071959,
            1.3366261762535963,
            1.2101649653654851,
            1.1168842355485544,
            1.0480193537352995,
            0.9971219137544148,
            0.9594476092658816,
            0.931505878541736,
            0.9107285683127627,
            0.895226162531146,
            0.8836084345467929,
            0.8748524969907335,
            0.8682057231829385
           ]
          }
         ]
        },
        {
         "data": [
          {
           "marker": {
            "color": [
             0,
             35.75484025998244,
             26.53625144224801,
             19.75362654801073,
             14.763198745602935,
             11.09133467835302,
             8.389571889366584,
             6.401538876940176,
             4.938617459787518,
             3.862037049746706,
             3.069701018720262,
             2.486494570269137,
             2.0571540299063282,
             1.7410206268409614,
             1.508180737071959,
             1.3366261762535963,
             1.2101649653654851,
             1.1168842355485544,
             1.0480193537352995,
             0.9971219137544148,
             0.9594476092658816,
             0.931505878541736,
             0.9107285683127627,
             0.895226162531146,
             0.8836084345467929,
             0.8748524969907335,
             0.8682057231829385,
             0.8631143242795148
            ],
            "colorscale": [
             [
              0,
              "rgb(150,0,90)"
             ],
             [
              0.125,
              "rgb(0,0,200)"
             ],
             [
              0.25,
              "rgb(0,25,255)"
             ],
             [
              0.375,
              "rgb(0,152,255)"
             ],
             [
              0.5,
              "rgb(44,255,150)"
             ],
             [
              0.625,
              "rgb(151,255,0)"
             ],
             [
              0.75,
              "rgb(255,234,0)"
             ],
             [
              0.875,
              "rgb(255,111,0)"
             ],
             [
              1,
              "rgb(255,0,0)"
             ]
            ],
            "size": 7
           },
           "mode": "markers+lines",
           "type": "scatter3d",
           "x": [
            0.3745401188473625,
            0.8317325489017311,
            1.224211783111528,
            1.5611808847373805,
            1.850533735517361,
            2.0990412766700994,
            2.3125112556720366,
            2.4959252478180165,
            2.6535561854036107,
            2.7890691674712267,
            2.905607928589516,
            3.005869006779868,
            3.0921653604817427,
            3.1664809355129333,
            3.2305174694581775,
            3.2857346377721646,
            3.333384488789707,
            3.3745409800903396,
            3.4101253130876703,
            3.4409276635786017,
            3.4676258209550825,
            3.4908011758451174,
            3.5109524333895292,
            3.5285073757004275,
            3.5438329510203994,
            3.5572439276222223,
            3.569010316625877,
            3.5793637388639135
           ],
           "y": [
            0.9507143064099162,
            1.197197090387812,
            1.4080249938110094,
            1.5882754397251262,
            1.7423035018789268,
            1.8738446649291751,
            1.9861029662052991,
            2.081826598620451,
            2.163372758478217,
            2.232763268172065,
            2.2917322861206446,
            2.3417672295910843,
            2.3841438759296536,
            2.419956470366555,
            2.450143550748451,
            2.4755100984990226,
            2.496746538430158,
            2.5144450356792536,
            2.5291134742774366,
            2.541187447154736,
            2.551040540470749,
            2.558993154916269,
            2.5653200721131384,
            2.5702569446318644,
            2.5740058627507576,
            2.576740129297298,
            2.5786083552282077,
            2.5797379725784473
           ],
           "z": [
            0,
            35.75484025998244,
            26.53625144224801,
            19.75362654801073,
            14.763198745602935,
            11.09133467835302,
            8.389571889366584,
            6.401538876940176,
            4.938617459787518,
            3.862037049746706,
            3.069701018720262,
            2.486494570269137,
            2.0571540299063282,
            1.7410206268409614,
            1.508180737071959,
            1.3366261762535963,
            1.2101649653654851,
            1.1168842355485544,
            1.0480193537352995,
            0.9971219137544148,
            0.9594476092658816,
            0.931505878541736,
            0.9107285683127627,
            0.895226162531146,
            0.8836084345467929,
            0.8748524969907335,
            0.8682057231829385,
            0.8631143242795148
           ]
          }
         ]
        },
        {
         "data": [
          {
           "marker": {
            "color": [
             0,
             35.75484025998244,
             26.53625144224801,
             19.75362654801073,
             14.763198745602935,
             11.09133467835302,
             8.389571889366584,
             6.401538876940176,
             4.938617459787518,
             3.862037049746706,
             3.069701018720262,
             2.486494570269137,
             2.0571540299063282,
             1.7410206268409614,
             1.508180737071959,
             1.3366261762535963,
             1.2101649653654851,
             1.1168842355485544,
             1.0480193537352995,
             0.9971219137544148,
             0.9594476092658816,
             0.931505878541736,
             0.9107285683127627,
             0.895226162531146,
             0.8836084345467929,
             0.8748524969907335,
             0.8682057231829385,
             0.8631143242795148,
             0.859170801905754
            ],
            "colorscale": [
             [
              0,
              "rgb(150,0,90)"
             ],
             [
              0.125,
              "rgb(0,0,200)"
             ],
             [
              0.25,
              "rgb(0,25,255)"
             ],
             [
              0.375,
              "rgb(0,152,255)"
             ],
             [
              0.5,
              "rgb(44,255,150)"
             ],
             [
              0.625,
              "rgb(151,255,0)"
             ],
             [
              0.75,
              "rgb(255,234,0)"
             ],
             [
              0.875,
              "rgb(255,111,0)"
             ],
             [
              1,
              "rgb(255,0,0)"
             ]
            ],
            "size": 7
           },
           "mode": "markers+lines",
           "type": "scatter3d",
           "x": [
            0.3745401188473625,
            0.8317325489017311,
            1.224211783111528,
            1.5611808847373805,
            1.850533735517361,
            2.0990412766700994,
            2.3125112556720366,
            2.4959252478180165,
            2.6535561854036107,
            2.7890691674712267,
            2.905607928589516,
            3.005869006779868,
            3.0921653604817427,
            3.1664809355129333,
            3.2305174694581775,
            3.2857346377721646,
            3.333384488789707,
            3.3745409800903396,
            3.4101253130876703,
            3.4409276635786017,
            3.4676258209550825,
            3.4908011758451174,
            3.5109524333895292,
            3.5285073757004275,
            3.5438329510203994,
            3.5572439276222223,
            3.569010316625877,
            3.5793637388639135,
            3.588502886012471
           ],
           "y": [
            0.9507143064099162,
            1.197197090387812,
            1.4080249938110094,
            1.5882754397251262,
            1.7423035018789268,
            1.8738446649291751,
            1.9861029662052991,
            2.081826598620451,
            2.163372758478217,
            2.232763268172065,
            2.2917322861206446,
            2.3417672295910843,
            2.3841438759296536,
            2.419956470366555,
            2.450143550748451,
            2.4755100984990226,
            2.496746538430158,
            2.5144450356792536,
            2.5291134742774366,
            2.541187447154736,
            2.551040540470749,
            2.558993154916269,
            2.5653200721131384,
            2.5702569446318644,
            2.5740058627507576,
            2.576740129297298,
            2.5786083552282077,
            2.5797379725784473,
            2.5802382476629506
           ],
           "z": [
            0,
            35.75484025998244,
            26.53625144224801,
            19.75362654801073,
            14.763198745602935,
            11.09133467835302,
            8.389571889366584,
            6.401538876940176,
            4.938617459787518,
            3.862037049746706,
            3.069701018720262,
            2.486494570269137,
            2.0571540299063282,
            1.7410206268409614,
            1.508180737071959,
            1.3366261762535963,
            1.2101649653654851,
            1.1168842355485544,
            1.0480193537352995,
            0.9971219137544148,
            0.9594476092658816,
            0.931505878541736,
            0.9107285683127627,
            0.895226162531146,
            0.8836084345467929,
            0.8748524969907335,
            0.8682057231829385,
            0.8631143242795148,
            0.859170801905754
           ]
          }
         ]
        },
        {
         "data": [
          {
           "marker": {
            "color": [
             0,
             35.75484025998244,
             26.53625144224801,
             19.75362654801073,
             14.763198745602935,
             11.09133467835302,
             8.389571889366584,
             6.401538876940176,
             4.938617459787518,
             3.862037049746706,
             3.069701018720262,
             2.486494570269137,
             2.0571540299063282,
             1.7410206268409614,
             1.508180737071959,
             1.3366261762535963,
             1.2101649653654851,
             1.1168842355485544,
             1.0480193537352995,
             0.9971219137544148,
             0.9594476092658816,
             0.931505878541736,
             0.9107285683127627,
             0.895226162531146,
             0.8836084345467929,
             0.8748524969907335,
             0.8682057231829385,
             0.8631143242795148,
             0.859170801905754,
             0.8560752878950456
            ],
            "colorscale": [
             [
              0,
              "rgb(150,0,90)"
             ],
             [
              0.125,
              "rgb(0,0,200)"
             ],
             [
              0.25,
              "rgb(0,25,255)"
             ],
             [
              0.375,
              "rgb(0,152,255)"
             ],
             [
              0.5,
              "rgb(44,255,150)"
             ],
             [
              0.625,
              "rgb(151,255,0)"
             ],
             [
              0.75,
              "rgb(255,234,0)"
             ],
             [
              0.875,
              "rgb(255,111,0)"
             ],
             [
              1,
              "rgb(255,0,0)"
             ]
            ],
            "size": 7
           },
           "mode": "markers+lines",
           "type": "scatter3d",
           "x": [
            0.3745401188473625,
            0.8317325489017311,
            1.224211783111528,
            1.5611808847373805,
            1.850533735517361,
            2.0990412766700994,
            2.3125112556720366,
            2.4959252478180165,
            2.6535561854036107,
            2.7890691674712267,
            2.905607928589516,
            3.005869006779868,
            3.0921653604817427,
            3.1664809355129333,
            3.2305174694581775,
            3.2857346377721646,
            3.333384488789707,
            3.3745409800903396,
            3.4101253130876703,
            3.4409276635786017,
            3.4676258209550825,
            3.4908011758451174,
            3.5109524333895292,
            3.5285073757004275,
            3.5438329510203994,
            3.5572439276222223,
            3.569010316625877,
            3.5793637388639135,
            3.588502886012471,
            3.596598204835678
           ],
           "y": [
            0.9507143064099162,
            1.197197090387812,
            1.4080249938110094,
            1.5882754397251262,
            1.7423035018789268,
            1.8738446649291751,
            1.9861029662052991,
            2.081826598620451,
            2.163372758478217,
            2.232763268172065,
            2.2917322861206446,
            2.3417672295910843,
            2.3841438759296536,
            2.419956470366555,
            2.450143550748451,
            2.4755100984990226,
            2.496746538430158,
            2.5144450356792536,
            2.5291134742774366,
            2.541187447154736,
            2.551040540470749,
            2.558993154916269,
            2.5653200721131384,
            2.5702569446318644,
            2.5740058627507576,
            2.576740129297298,
            2.5786083552282077,
            2.5797379725784473,
            2.5802382476629506,
            2.5802028656240554
           ],
           "z": [
            0,
            35.75484025998244,
            26.53625144224801,
            19.75362654801073,
            14.763198745602935,
            11.09133467835302,
            8.389571889366584,
            6.401538876940176,
            4.938617459787518,
            3.862037049746706,
            3.069701018720262,
            2.486494570269137,
            2.0571540299063282,
            1.7410206268409614,
            1.508180737071959,
            1.3366261762535963,
            1.2101649653654851,
            1.1168842355485544,
            1.0480193537352995,
            0.9971219137544148,
            0.9594476092658816,
            0.931505878541736,
            0.9107285683127627,
            0.895226162531146,
            0.8836084345467929,
            0.8748524969907335,
            0.8682057231829385,
            0.8631143242795148,
            0.859170801905754,
            0.8560752878950456
           ]
          }
         ]
        },
        {
         "data": [
          {
           "marker": {
            "color": [
             0,
             35.75484025998244,
             26.53625144224801,
             19.75362654801073,
             14.763198745602935,
             11.09133467835302,
             8.389571889366584,
             6.401538876940176,
             4.938617459787518,
             3.862037049746706,
             3.069701018720262,
             2.486494570269137,
             2.0571540299063282,
             1.7410206268409614,
             1.508180737071959,
             1.3366261762535963,
             1.2101649653654851,
             1.1168842355485544,
             1.0480193537352995,
             0.9971219137544148,
             0.9594476092658816,
             0.931505878541736,
             0.9107285683127627,
             0.895226162531146,
             0.8836084345467929,
             0.8748524969907335,
             0.8682057231829385,
             0.8631143242795148,
             0.859170801905754,
             0.8560752878950456,
             0.8536071010739922
            ],
            "colorscale": [
             [
              0,
              "rgb(150,0,90)"
             ],
             [
              0.125,
              "rgb(0,0,200)"
             ],
             [
              0.25,
              "rgb(0,25,255)"
             ],
             [
              0.375,
              "rgb(0,152,255)"
             ],
             [
              0.5,
              "rgb(44,255,150)"
             ],
             [
              0.625,
              "rgb(151,255,0)"
             ],
             [
              0.75,
              "rgb(255,234,0)"
             ],
             [
              0.875,
              "rgb(255,111,0)"
             ],
             [
              1,
              "rgb(255,0,0)"
             ]
            ],
            "size": 7
           },
           "mode": "markers+lines",
           "type": "scatter3d",
           "x": [
            0.3745401188473625,
            0.8317325489017311,
            1.224211783111528,
            1.5611808847373805,
            1.850533735517361,
            2.0990412766700994,
            2.3125112556720366,
            2.4959252478180165,
            2.6535561854036107,
            2.7890691674712267,
            2.905607928589516,
            3.005869006779868,
            3.0921653604817427,
            3.1664809355129333,
            3.2305174694581775,
            3.2857346377721646,
            3.333384488789707,
            3.3745409800903396,
            3.4101253130876703,
            3.4409276635786017,
            3.4676258209550825,
            3.4908011758451174,
            3.5109524333895292,
            3.5285073757004275,
            3.5438329510203994,
            3.5572439276222223,
            3.569010316625877,
            3.5793637388639135,
            3.588502886012471,
            3.596598204835678,
            3.603795915061564
           ],
           "y": [
            0.9507143064099162,
            1.197197090387812,
            1.4080249938110094,
            1.5882754397251262,
            1.7423035018789268,
            1.8738446649291751,
            1.9861029662052991,
            2.081826598620451,
            2.163372758478217,
            2.232763268172065,
            2.2917322861206446,
            2.3417672295910843,
            2.3841438759296536,
            2.419956470366555,
            2.450143550748451,
            2.4755100984990226,
            2.496746538430158,
            2.5144450356792536,
            2.5291134742774366,
            2.541187447154736,
            2.551040540470749,
            2.558993154916269,
            2.5653200721131384,
            2.5702569446318644,
            2.5740058627507576,
            2.576740129297298,
            2.5786083552282077,
            2.5797379725784473,
            2.5802382476629506,
            2.5802028656240554,
            2.5797121473040545
           ],
           "z": [
            0,
            35.75484025998244,
            26.53625144224801,
            19.75362654801073,
            14.763198745602935,
            11.09133467835302,
            8.389571889366584,
            6.401538876940176,
            4.938617459787518,
            3.862037049746706,
            3.069701018720262,
            2.486494570269137,
            2.0571540299063282,
            1.7410206268409614,
            1.508180737071959,
            1.3366261762535963,
            1.2101649653654851,
            1.1168842355485544,
            1.0480193537352995,
            0.9971219137544148,
            0.9594476092658816,
            0.931505878541736,
            0.9107285683127627,
            0.895226162531146,
            0.8836084345467929,
            0.8748524969907335,
            0.8682057231829385,
            0.8631143242795148,
            0.859170801905754,
            0.8560752878950456,
            0.8536071010739922
           ]
          }
         ]
        },
        {
         "data": [
          {
           "marker": {
            "color": [
             0,
             35.75484025998244,
             26.53625144224801,
             19.75362654801073,
             14.763198745602935,
             11.09133467835302,
             8.389571889366584,
             6.401538876940176,
             4.938617459787518,
             3.862037049746706,
             3.069701018720262,
             2.486494570269137,
             2.0571540299063282,
             1.7410206268409614,
             1.508180737071959,
             1.3366261762535963,
             1.2101649653654851,
             1.1168842355485544,
             1.0480193537352995,
             0.9971219137544148,
             0.9594476092658816,
             0.931505878541736,
             0.9107285683127627,
             0.895226162531146,
             0.8836084345467929,
             0.8748524969907335,
             0.8682057231829385,
             0.8631143242795148,
             0.859170801905754,
             0.8560752878950456,
             0.8536071010739922,
             0.8516038209509867
            ],
            "colorscale": [
             [
              0,
              "rgb(150,0,90)"
             ],
             [
              0.125,
              "rgb(0,0,200)"
             ],
             [
              0.25,
              "rgb(0,25,255)"
             ],
             [
              0.375,
              "rgb(0,152,255)"
             ],
             [
              0.5,
              "rgb(44,255,150)"
             ],
             [
              0.625,
              "rgb(151,255,0)"
             ],
             [
              0.75,
              "rgb(255,234,0)"
             ],
             [
              0.875,
              "rgb(255,111,0)"
             ],
             [
              1,
              "rgb(255,0,0)"
             ]
            ],
            "size": 7
           },
           "mode": "markers+lines",
           "type": "scatter3d",
           "x": [
            0.3745401188473625,
            0.8317325489017311,
            1.224211783111528,
            1.5611808847373805,
            1.850533735517361,
            2.0990412766700994,
            2.3125112556720366,
            2.4959252478180165,
            2.6535561854036107,
            2.7890691674712267,
            2.905607928589516,
            3.005869006779868,
            3.0921653604817427,
            3.1664809355129333,
            3.2305174694581775,
            3.2857346377721646,
            3.333384488789707,
            3.3745409800903396,
            3.4101253130876703,
            3.4409276635786017,
            3.4676258209550825,
            3.4908011758451174,
            3.5109524333895292,
            3.5285073757004275,
            3.5438329510203994,
            3.5572439276222223,
            3.569010316625877,
            3.5793637388639135,
            3.588502886012471,
            3.596598204835678,
            3.603795915061564,
            3.6102214556855614
           ],
           "y": [
            0.9507143064099162,
            1.197197090387812,
            1.4080249938110094,
            1.5882754397251262,
            1.7423035018789268,
            1.8738446649291751,
            1.9861029662052991,
            2.081826598620451,
            2.163372758478217,
            2.232763268172065,
            2.2917322861206446,
            2.3417672295910843,
            2.3841438759296536,
            2.419956470366555,
            2.450143550748451,
            2.4755100984990226,
            2.496746538430158,
            2.5144450356792536,
            2.5291134742774366,
            2.541187447154736,
            2.551040540470749,
            2.558993154916269,
            2.5653200721131384,
            2.5702569446318644,
            2.5740058627507576,
            2.576740129297298,
            2.5786083552282077,
            2.5797379725784473,
            2.5802382476629506,
            2.5802028656240554,
            2.5797121473040545,
            2.5788349507474986
           ],
           "z": [
            0,
            35.75484025998244,
            26.53625144224801,
            19.75362654801073,
            14.763198745602935,
            11.09133467835302,
            8.389571889366584,
            6.401538876940176,
            4.938617459787518,
            3.862037049746706,
            3.069701018720262,
            2.486494570269137,
            2.0571540299063282,
            1.7410206268409614,
            1.508180737071959,
            1.3366261762535963,
            1.2101649653654851,
            1.1168842355485544,
            1.0480193537352995,
            0.9971219137544148,
            0.9594476092658816,
            0.931505878541736,
            0.9107285683127627,
            0.895226162531146,
            0.8836084345467929,
            0.8748524969907335,
            0.8682057231829385,
            0.8631143242795148,
            0.859170801905754,
            0.8560752878950456,
            0.8536071010739922,
            0.8516038209509867
           ]
          }
         ]
        },
        {
         "data": [
          {
           "marker": {
            "color": [
             0,
             35.75484025998244,
             26.53625144224801,
             19.75362654801073,
             14.763198745602935,
             11.09133467835302,
             8.389571889366584,
             6.401538876940176,
             4.938617459787518,
             3.862037049746706,
             3.069701018720262,
             2.486494570269137,
             2.0571540299063282,
             1.7410206268409614,
             1.508180737071959,
             1.3366261762535963,
             1.2101649653654851,
             1.1168842355485544,
             1.0480193537352995,
             0.9971219137544148,
             0.9594476092658816,
             0.931505878541736,
             0.9107285683127627,
             0.895226162531146,
             0.8836084345467929,
             0.8748524969907335,
             0.8682057231829385,
             0.8631143242795148,
             0.859170801905754,
             0.8560752878950456,
             0.8536071010739922,
             0.8516038209509867,
             0.8499458917545191
            ],
            "colorscale": [
             [
              0,
              "rgb(150,0,90)"
             ],
             [
              0.125,
              "rgb(0,0,200)"
             ],
             [
              0.25,
              "rgb(0,25,255)"
             ],
             [
              0.375,
              "rgb(0,152,255)"
             ],
             [
              0.5,
              "rgb(44,255,150)"
             ],
             [
              0.625,
              "rgb(151,255,0)"
             ],
             [
              0.75,
              "rgb(255,234,0)"
             ],
             [
              0.875,
              "rgb(255,111,0)"
             ],
             [
              1,
              "rgb(255,0,0)"
             ]
            ],
            "size": 7
           },
           "mode": "markers+lines",
           "type": "scatter3d",
           "x": [
            0.3745401188473625,
            0.8317325489017311,
            1.224211783111528,
            1.5611808847373805,
            1.850533735517361,
            2.0990412766700994,
            2.3125112556720366,
            2.4959252478180165,
            2.6535561854036107,
            2.7890691674712267,
            2.905607928589516,
            3.005869006779868,
            3.0921653604817427,
            3.1664809355129333,
            3.2305174694581775,
            3.2857346377721646,
            3.333384488789707,
            3.3745409800903396,
            3.4101253130876703,
            3.4409276635786017,
            3.4676258209550825,
            3.4908011758451174,
            3.5109524333895292,
            3.5285073757004275,
            3.5438329510203994,
            3.5572439276222223,
            3.569010316625877,
            3.5793637388639135,
            3.588502886012471,
            3.596598204835678,
            3.603795915061564,
            3.6102214556855614,
            3.6159824410121897
           ],
           "y": [
            0.9507143064099162,
            1.197197090387812,
            1.4080249938110094,
            1.5882754397251262,
            1.7423035018789268,
            1.8738446649291751,
            1.9861029662052991,
            2.081826598620451,
            2.163372758478217,
            2.232763268172065,
            2.2917322861206446,
            2.3417672295910843,
            2.3841438759296536,
            2.419956470366555,
            2.450143550748451,
            2.4755100984990226,
            2.496746538430158,
            2.5144450356792536,
            2.5291134742774366,
            2.541187447154736,
            2.551040540470749,
            2.558993154916269,
            2.5653200721131384,
            2.5702569446318644,
            2.5740058627507576,
            2.576740129297298,
            2.5786083552282077,
            2.5797379725784473,
            2.5802382476629506,
            2.5802028656240554,
            2.5797121473040545,
            2.5788349507474986,
            2.577630302197141
           ],
           "z": [
            0,
            35.75484025998244,
            26.53625144224801,
            19.75362654801073,
            14.763198745602935,
            11.09133467835302,
            8.389571889366584,
            6.401538876940176,
            4.938617459787518,
            3.862037049746706,
            3.069701018720262,
            2.486494570269137,
            2.0571540299063282,
            1.7410206268409614,
            1.508180737071959,
            1.3366261762535963,
            1.2101649653654851,
            1.1168842355485544,
            1.0480193537352995,
            0.9971219137544148,
            0.9594476092658816,
            0.931505878541736,
            0.9107285683127627,
            0.895226162531146,
            0.8836084345467929,
            0.8748524969907335,
            0.8682057231829385,
            0.8631143242795148,
            0.859170801905754,
            0.8560752878950456,
            0.8536071010739922,
            0.8516038209509867,
            0.8499458917545191
           ]
          }
         ]
        },
        {
         "data": [
          {
           "marker": {
            "color": [
             0,
             35.75484025998244,
             26.53625144224801,
             19.75362654801073,
             14.763198745602935,
             11.09133467835302,
             8.389571889366584,
             6.401538876940176,
             4.938617459787518,
             3.862037049746706,
             3.069701018720262,
             2.486494570269137,
             2.0571540299063282,
             1.7410206268409614,
             1.508180737071959,
             1.3366261762535963,
             1.2101649653654851,
             1.1168842355485544,
             1.0480193537352995,
             0.9971219137544148,
             0.9594476092658816,
             0.931505878541736,
             0.9107285683127627,
             0.895226162531146,
             0.8836084345467929,
             0.8748524969907335,
             0.8682057231829385,
             0.8631143242795148,
             0.859170801905754,
             0.8560752878950456,
             0.8536071010739922,
             0.8516038209509867,
             0.8499458917545191,
             0.8485452952703988
            ],
            "colorscale": [
             [
              0,
              "rgb(150,0,90)"
             ],
             [
              0.125,
              "rgb(0,0,200)"
             ],
             [
              0.25,
              "rgb(0,25,255)"
             ],
             [
              0.375,
              "rgb(0,152,255)"
             ],
             [
              0.5,
              "rgb(44,255,150)"
             ],
             [
              0.625,
              "rgb(151,255,0)"
             ],
             [
              0.75,
              "rgb(255,234,0)"
             ],
             [
              0.875,
              "rgb(255,111,0)"
             ],
             [
              1,
              "rgb(255,0,0)"
             ]
            ],
            "size": 7
           },
           "mode": "markers+lines",
           "type": "scatter3d",
           "x": [
            0.3745401188473625,
            0.8317325489017311,
            1.224211783111528,
            1.5611808847373805,
            1.850533735517361,
            2.0990412766700994,
            2.3125112556720366,
            2.4959252478180165,
            2.6535561854036107,
            2.7890691674712267,
            2.905607928589516,
            3.005869006779868,
            3.0921653604817427,
            3.1664809355129333,
            3.2305174694581775,
            3.2857346377721646,
            3.333384488789707,
            3.3745409800903396,
            3.4101253130876703,
            3.4409276635786017,
            3.4676258209550825,
            3.4908011758451174,
            3.5109524333895292,
            3.5285073757004275,
            3.5438329510203994,
            3.5572439276222223,
            3.569010316625877,
            3.5793637388639135,
            3.588502886012471,
            3.596598204835678,
            3.603795915061564,
            3.6102214556855614,
            3.6159824410121897,
            3.6211711961784587
           ],
           "y": [
            0.9507143064099162,
            1.197197090387812,
            1.4080249938110094,
            1.5882754397251262,
            1.7423035018789268,
            1.8738446649291751,
            1.9861029662052991,
            2.081826598620451,
            2.163372758478217,
            2.232763268172065,
            2.2917322861206446,
            2.3417672295910843,
            2.3841438759296536,
            2.419956470366555,
            2.450143550748451,
            2.4755100984990226,
            2.496746538430158,
            2.5144450356792536,
            2.5291134742774366,
            2.541187447154736,
            2.551040540470749,
            2.558993154916269,
            2.5653200721131384,
            2.5702569446318644,
            2.5740058627507576,
            2.576740129297298,
            2.5786083552282077,
            2.5797379725784473,
            2.5802382476629506,
            2.5802028656240554,
            2.5797121473040545,
            2.5788349507474986,
            2.577630302197141,
            2.576148795065182
           ],
           "z": [
            0,
            35.75484025998244,
            26.53625144224801,
            19.75362654801073,
            14.763198745602935,
            11.09133467835302,
            8.389571889366584,
            6.401538876940176,
            4.938617459787518,
            3.862037049746706,
            3.069701018720262,
            2.486494570269137,
            2.0571540299063282,
            1.7410206268409614,
            1.508180737071959,
            1.3366261762535963,
            1.2101649653654851,
            1.1168842355485544,
            1.0480193537352995,
            0.9971219137544148,
            0.9594476092658816,
            0.931505878541736,
            0.9107285683127627,
            0.895226162531146,
            0.8836084345467929,
            0.8748524969907335,
            0.8682057231829385,
            0.8631143242795148,
            0.859170801905754,
            0.8560752878950456,
            0.8536071010739922,
            0.8516038209509867,
            0.8499458917545191,
            0.8485452952703988
           ]
          }
         ]
        },
        {
         "data": [
          {
           "marker": {
            "color": [
             0,
             35.75484025998244,
             26.53625144224801,
             19.75362654801073,
             14.763198745602935,
             11.09133467835302,
             8.389571889366584,
             6.401538876940176,
             4.938617459787518,
             3.862037049746706,
             3.069701018720262,
             2.486494570269137,
             2.0571540299063282,
             1.7410206268409614,
             1.508180737071959,
             1.3366261762535963,
             1.2101649653654851,
             1.1168842355485544,
             1.0480193537352995,
             0.9971219137544148,
             0.9594476092658816,
             0.931505878541736,
             0.9107285683127627,
             0.895226162531146,
             0.8836084345467929,
             0.8748524969907335,
             0.8682057231829385,
             0.8631143242795148,
             0.859170801905754,
             0.8560752878950456,
             0.8536071010739922,
             0.8516038209509867,
             0.8499458917545191,
             0.8485452952703988,
             0.8473372171831792
            ],
            "colorscale": [
             [
              0,
              "rgb(150,0,90)"
             ],
             [
              0.125,
              "rgb(0,0,200)"
             ],
             [
              0.25,
              "rgb(0,25,255)"
             ],
             [
              0.375,
              "rgb(0,152,255)"
             ],
             [
              0.5,
              "rgb(44,255,150)"
             ],
             [
              0.625,
              "rgb(151,255,0)"
             ],
             [
              0.75,
              "rgb(255,234,0)"
             ],
             [
              0.875,
              "rgb(255,111,0)"
             ],
             [
              1,
              "rgb(255,0,0)"
             ]
            ],
            "size": 7
           },
           "mode": "markers+lines",
           "type": "scatter3d",
           "x": [
            0.3745401188473625,
            0.8317325489017311,
            1.224211783111528,
            1.5611808847373805,
            1.850533735517361,
            2.0990412766700994,
            2.3125112556720366,
            2.4959252478180165,
            2.6535561854036107,
            2.7890691674712267,
            2.905607928589516,
            3.005869006779868,
            3.0921653604817427,
            3.1664809355129333,
            3.2305174694581775,
            3.2857346377721646,
            3.333384488789707,
            3.3745409800903396,
            3.4101253130876703,
            3.4409276635786017,
            3.4676258209550825,
            3.4908011758451174,
            3.5109524333895292,
            3.5285073757004275,
            3.5438329510203994,
            3.5572439276222223,
            3.569010316625877,
            3.5793637388639135,
            3.588502886012471,
            3.596598204835678,
            3.603795915061564,
            3.6102214556855614,
            3.6159824410121897,
            3.6211711961784587,
            3.6258669319809633
           ],
           "y": [
            0.9507143064099162,
            1.197197090387812,
            1.4080249938110094,
            1.5882754397251262,
            1.7423035018789268,
            1.8738446649291751,
            1.9861029662052991,
            2.081826598620451,
            2.163372758478217,
            2.232763268172065,
            2.2917322861206446,
            2.3417672295910843,
            2.3841438759296536,
            2.419956470366555,
            2.450143550748451,
            2.4755100984990226,
            2.496746538430158,
            2.5144450356792536,
            2.5291134742774366,
            2.541187447154736,
            2.551040540470749,
            2.558993154916269,
            2.5653200721131384,
            2.5702569446318644,
            2.5740058627507576,
            2.576740129297298,
            2.5786083552282077,
            2.5797379725784473,
            2.5802382476629506,
            2.5802028656240554,
            2.5797121473040545,
            2.5788349507474986,
            2.577630302197141,
            2.576148795065182,
            2.574433789887147
           ],
           "z": [
            0,
            35.75484025998244,
            26.53625144224801,
            19.75362654801073,
            14.763198745602935,
            11.09133467835302,
            8.389571889366584,
            6.401538876940176,
            4.938617459787518,
            3.862037049746706,
            3.069701018720262,
            2.486494570269137,
            2.0571540299063282,
            1.7410206268409614,
            1.508180737071959,
            1.3366261762535963,
            1.2101649653654851,
            1.1168842355485544,
            1.0480193537352995,
            0.9971219137544148,
            0.9594476092658816,
            0.931505878541736,
            0.9107285683127627,
            0.895226162531146,
            0.8836084345467929,
            0.8748524969907335,
            0.8682057231829385,
            0.8631143242795148,
            0.859170801905754,
            0.8560752878950456,
            0.8536071010739922,
            0.8516038209509867,
            0.8499458917545191,
            0.8485452952703988,
            0.8473372171831792
           ]
          }
         ]
        },
        {
         "data": [
          {
           "marker": {
            "color": [
             0,
             35.75484025998244,
             26.53625144224801,
             19.75362654801073,
             14.763198745602935,
             11.09133467835302,
             8.389571889366584,
             6.401538876940176,
             4.938617459787518,
             3.862037049746706,
             3.069701018720262,
             2.486494570269137,
             2.0571540299063282,
             1.7410206268409614,
             1.508180737071959,
             1.3366261762535963,
             1.2101649653654851,
             1.1168842355485544,
             1.0480193537352995,
             0.9971219137544148,
             0.9594476092658816,
             0.931505878541736,
             0.9107285683127627,
             0.895226162531146,
             0.8836084345467929,
             0.8748524969907335,
             0.8682057231829385,
             0.8631143242795148,
             0.859170801905754,
             0.8560752878950456,
             0.8536071010739922,
             0.8516038209509867,
             0.8499458917545191,
             0.8485452952703988,
             0.8473372171831792,
             0.8462739158040578
            ],
            "colorscale": [
             [
              0,
              "rgb(150,0,90)"
             ],
             [
              0.125,
              "rgb(0,0,200)"
             ],
             [
              0.25,
              "rgb(0,25,255)"
             ],
             [
              0.375,
              "rgb(0,152,255)"
             ],
             [
              0.5,
              "rgb(44,255,150)"
             ],
             [
              0.625,
              "rgb(151,255,0)"
             ],
             [
              0.75,
              "rgb(255,234,0)"
             ],
             [
              0.875,
              "rgb(255,111,0)"
             ],
             [
              1,
              "rgb(255,0,0)"
             ]
            ],
            "size": 7
           },
           "mode": "markers+lines",
           "type": "scatter3d",
           "x": [
            0.3745401188473625,
            0.8317325489017311,
            1.224211783111528,
            1.5611808847373805,
            1.850533735517361,
            2.0990412766700994,
            2.3125112556720366,
            2.4959252478180165,
            2.6535561854036107,
            2.7890691674712267,
            2.905607928589516,
            3.005869006779868,
            3.0921653604817427,
            3.1664809355129333,
            3.2305174694581775,
            3.2857346377721646,
            3.333384488789707,
            3.3745409800903396,
            3.4101253130876703,
            3.4409276635786017,
            3.4676258209550825,
            3.4908011758451174,
            3.5109524333895292,
            3.5285073757004275,
            3.5438329510203994,
            3.5572439276222223,
            3.569010316625877,
            3.5793637388639135,
            3.588502886012471,
            3.596598204835678,
            3.603795915061564,
            3.6102214556855614,
            3.6159824410121897,
            3.6211711961784587,
            3.6258669319809633,
            3.630137610318507
           ],
           "y": [
            0.9507143064099162,
            1.197197090387812,
            1.4080249938110094,
            1.5882754397251262,
            1.7423035018789268,
            1.8738446649291751,
            1.9861029662052991,
            2.081826598620451,
            2.163372758478217,
            2.232763268172065,
            2.2917322861206446,
            2.3417672295910843,
            2.3841438759296536,
            2.419956470366555,
            2.450143550748451,
            2.4755100984990226,
            2.496746538430158,
            2.5144450356792536,
            2.5291134742774366,
            2.541187447154736,
            2.551040540470749,
            2.558993154916269,
            2.5653200721131384,
            2.5702569446318644,
            2.5740058627507576,
            2.576740129297298,
            2.5786083552282077,
            2.5797379725784473,
            2.5802382476629506,
            2.5802028656240554,
            2.5797121473040545,
            2.5788349507474986,
            2.577630302197141,
            2.576148795065182,
            2.574433789887147,
            2.5725224435701946
           ],
           "z": [
            0,
            35.75484025998244,
            26.53625144224801,
            19.75362654801073,
            14.763198745602935,
            11.09133467835302,
            8.389571889366584,
            6.401538876940176,
            4.938617459787518,
            3.862037049746706,
            3.069701018720262,
            2.486494570269137,
            2.0571540299063282,
            1.7410206268409614,
            1.508180737071959,
            1.3366261762535963,
            1.2101649653654851,
            1.1168842355485544,
            1.0480193537352995,
            0.9971219137544148,
            0.9594476092658816,
            0.931505878541736,
            0.9107285683127627,
            0.895226162531146,
            0.8836084345467929,
            0.8748524969907335,
            0.8682057231829385,
            0.8631143242795148,
            0.859170801905754,
            0.8560752878950456,
            0.8536071010739922,
            0.8516038209509867,
            0.8499458917545191,
            0.8485452952703988,
            0.8473372171831792,
            0.8462739158040578
           ]
          }
         ]
        },
        {
         "data": [
          {
           "marker": {
            "color": [
             0,
             35.75484025998244,
             26.53625144224801,
             19.75362654801073,
             14.763198745602935,
             11.09133467835302,
             8.389571889366584,
             6.401538876940176,
             4.938617459787518,
             3.862037049746706,
             3.069701018720262,
             2.486494570269137,
             2.0571540299063282,
             1.7410206268409614,
             1.508180737071959,
             1.3366261762535963,
             1.2101649653654851,
             1.1168842355485544,
             1.0480193537352995,
             0.9971219137544148,
             0.9594476092658816,
             0.931505878541736,
             0.9107285683127627,
             0.895226162531146,
             0.8836084345467929,
             0.8748524969907335,
             0.8682057231829385,
             0.8631143242795148,
             0.859170801905754,
             0.8560752878950456,
             0.8536071010739922,
             0.8516038209509867,
             0.8499458917545191,
             0.8485452952703988,
             0.8473372171831792,
             0.8462739158040578,
             0.8453202111427344
            ],
            "colorscale": [
             [
              0,
              "rgb(150,0,90)"
             ],
             [
              0.125,
              "rgb(0,0,200)"
             ],
             [
              0.25,
              "rgb(0,25,255)"
             ],
             [
              0.375,
              "rgb(0,152,255)"
             ],
             [
              0.5,
              "rgb(44,255,150)"
             ],
             [
              0.625,
              "rgb(151,255,0)"
             ],
             [
              0.75,
              "rgb(255,234,0)"
             ],
             [
              0.875,
              "rgb(255,111,0)"
             ],
             [
              1,
              "rgb(255,0,0)"
             ]
            ],
            "size": 7
           },
           "mode": "markers+lines",
           "type": "scatter3d",
           "x": [
            0.3745401188473625,
            0.8317325489017311,
            1.224211783111528,
            1.5611808847373805,
            1.850533735517361,
            2.0990412766700994,
            2.3125112556720366,
            2.4959252478180165,
            2.6535561854036107,
            2.7890691674712267,
            2.905607928589516,
            3.005869006779868,
            3.0921653604817427,
            3.1664809355129333,
            3.2305174694581775,
            3.2857346377721646,
            3.333384488789707,
            3.3745409800903396,
            3.4101253130876703,
            3.4409276635786017,
            3.4676258209550825,
            3.4908011758451174,
            3.5109524333895292,
            3.5285073757004275,
            3.5438329510203994,
            3.5572439276222223,
            3.569010316625877,
            3.5793637388639135,
            3.588502886012471,
            3.596598204835678,
            3.603795915061564,
            3.6102214556855614,
            3.6159824410121897,
            3.6211711961784587,
            3.6258669319809633,
            3.630137610318507,
            3.6340415442625775
           ],
           "y": [
            0.9507143064099162,
            1.197197090387812,
            1.4080249938110094,
            1.5882754397251262,
            1.7423035018789268,
            1.8738446649291751,
            1.9861029662052991,
            2.081826598620451,
            2.163372758478217,
            2.232763268172065,
            2.2917322861206446,
            2.3417672295910843,
            2.3841438759296536,
            2.419956470366555,
            2.450143550748451,
            2.4755100984990226,
            2.496746538430158,
            2.5144450356792536,
            2.5291134742774366,
            2.541187447154736,
            2.551040540470749,
            2.558993154916269,
            2.5653200721131384,
            2.5702569446318644,
            2.5740058627507576,
            2.576740129297298,
            2.5786083552282077,
            2.5797379725784473,
            2.5802382476629506,
            2.5802028656240554,
            2.5797121473040545,
            2.5788349507474986,
            2.577630302197141,
            2.576148795065182,
            2.574433789887147,
            2.5725224435701946,
            2.5704465922200628
           ],
           "z": [
            0,
            35.75484025998244,
            26.53625144224801,
            19.75362654801073,
            14.763198745602935,
            11.09133467835302,
            8.389571889366584,
            6.401538876940176,
            4.938617459787518,
            3.862037049746706,
            3.069701018720262,
            2.486494570269137,
            2.0571540299063282,
            1.7410206268409614,
            1.508180737071959,
            1.3366261762535963,
            1.2101649653654851,
            1.1168842355485544,
            1.0480193537352995,
            0.9971219137544148,
            0.9594476092658816,
            0.931505878541736,
            0.9107285683127627,
            0.895226162531146,
            0.8836084345467929,
            0.8748524969907335,
            0.8682057231829385,
            0.8631143242795148,
            0.859170801905754,
            0.8560752878950456,
            0.8536071010739922,
            0.8516038209509867,
            0.8499458917545191,
            0.8485452952703988,
            0.8473372171831792,
            0.8462739158040578,
            0.8453202111427344
           ]
          }
         ]
        },
        {
         "data": [
          {
           "marker": {
            "color": [
             0,
             35.75484025998244,
             26.53625144224801,
             19.75362654801073,
             14.763198745602935,
             11.09133467835302,
             8.389571889366584,
             6.401538876940176,
             4.938617459787518,
             3.862037049746706,
             3.069701018720262,
             2.486494570269137,
             2.0571540299063282,
             1.7410206268409614,
             1.508180737071959,
             1.3366261762535963,
             1.2101649653654851,
             1.1168842355485544,
             1.0480193537352995,
             0.9971219137544148,
             0.9594476092658816,
             0.931505878541736,
             0.9107285683127627,
             0.895226162531146,
             0.8836084345467929,
             0.8748524969907335,
             0.8682057231829385,
             0.8631143242795148,
             0.859170801905754,
             0.8560752878950456,
             0.8536071010739922,
             0.8516038209509867,
             0.8499458917545191,
             0.8485452952703988,
             0.8473372171831792,
             0.8462739158040578,
             0.8453202111427344,
             0.8444501661018753
            ],
            "colorscale": [
             [
              0,
              "rgb(150,0,90)"
             ],
             [
              0.125,
              "rgb(0,0,200)"
             ],
             [
              0.25,
              "rgb(0,25,255)"
             ],
             [
              0.375,
              "rgb(0,152,255)"
             ],
             [
              0.5,
              "rgb(44,255,150)"
             ],
             [
              0.625,
              "rgb(151,255,0)"
             ],
             [
              0.75,
              "rgb(255,234,0)"
             ],
             [
              0.875,
              "rgb(255,111,0)"
             ],
             [
              1,
              "rgb(255,0,0)"
             ]
            ],
            "size": 7
           },
           "mode": "markers+lines",
           "type": "scatter3d",
           "x": [
            0.3745401188473625,
            0.8317325489017311,
            1.224211783111528,
            1.5611808847373805,
            1.850533735517361,
            2.0990412766700994,
            2.3125112556720366,
            2.4959252478180165,
            2.6535561854036107,
            2.7890691674712267,
            2.905607928589516,
            3.005869006779868,
            3.0921653604817427,
            3.1664809355129333,
            3.2305174694581775,
            3.2857346377721646,
            3.333384488789707,
            3.3745409800903396,
            3.4101253130876703,
            3.4409276635786017,
            3.4676258209550825,
            3.4908011758451174,
            3.5109524333895292,
            3.5285073757004275,
            3.5438329510203994,
            3.5572439276222223,
            3.569010316625877,
            3.5793637388639135,
            3.588502886012471,
            3.596598204835678,
            3.603795915061564,
            3.6102214556855614,
            3.6159824410121897,
            3.6211711961784587,
            3.6258669319809633,
            3.630137610318507,
            3.6340415442625775,
            3.637628770506915
           ],
           "y": [
            0.9507143064099162,
            1.197197090387812,
            1.4080249938110094,
            1.5882754397251262,
            1.7423035018789268,
            1.8738446649291751,
            1.9861029662052991,
            2.081826598620451,
            2.163372758478217,
            2.232763268172065,
            2.2917322861206446,
            2.3417672295910843,
            2.3841438759296536,
            2.419956470366555,
            2.450143550748451,
            2.4755100984990226,
            2.496746538430158,
            2.5144450356792536,
            2.5291134742774366,
            2.541187447154736,
            2.551040540470749,
            2.558993154916269,
            2.5653200721131384,
            2.5702569446318644,
            2.5740058627507576,
            2.576740129297298,
            2.5786083552282077,
            2.5797379725784473,
            2.5802382476629506,
            2.5802028656240554,
            2.5797121473040545,
            2.5788349507474986,
            2.577630302197141,
            2.576148795065182,
            2.574433789887147,
            2.5725224435701946,
            2.5704465922200628,
            2.5682335083762653
           ],
           "z": [
            0,
            35.75484025998244,
            26.53625144224801,
            19.75362654801073,
            14.763198745602935,
            11.09133467835302,
            8.389571889366584,
            6.401538876940176,
            4.938617459787518,
            3.862037049746706,
            3.069701018720262,
            2.486494570269137,
            2.0571540299063282,
            1.7410206268409614,
            1.508180737071959,
            1.3366261762535963,
            1.2101649653654851,
            1.1168842355485544,
            1.0480193537352995,
            0.9971219137544148,
            0.9594476092658816,
            0.931505878541736,
            0.9107285683127627,
            0.895226162531146,
            0.8836084345467929,
            0.8748524969907335,
            0.8682057231829385,
            0.8631143242795148,
            0.859170801905754,
            0.8560752878950456,
            0.8536071010739922,
            0.8516038209509867,
            0.8499458917545191,
            0.8485452952703988,
            0.8473372171831792,
            0.8462739158040578,
            0.8453202111427344,
            0.8444501661018753
           ]
          }
         ]
        },
        {
         "data": [
          {
           "marker": {
            "color": [
             0,
             35.75484025998244,
             26.53625144224801,
             19.75362654801073,
             14.763198745602935,
             11.09133467835302,
             8.389571889366584,
             6.401538876940176,
             4.938617459787518,
             3.862037049746706,
             3.069701018720262,
             2.486494570269137,
             2.0571540299063282,
             1.7410206268409614,
             1.508180737071959,
             1.3366261762535963,
             1.2101649653654851,
             1.1168842355485544,
             1.0480193537352995,
             0.9971219137544148,
             0.9594476092658816,
             0.931505878541736,
             0.9107285683127627,
             0.895226162531146,
             0.8836084345467929,
             0.8748524969907335,
             0.8682057231829385,
             0.8631143242795148,
             0.859170801905754,
             0.8560752878950456,
             0.8536071010739922,
             0.8516038209509867,
             0.8499458917545191,
             0.8485452952703988,
             0.8473372171831792,
             0.8462739158040578,
             0.8453202111427344,
             0.8444501661018753,
             0.8436446447424237
            ],
            "colorscale": [
             [
              0,
              "rgb(150,0,90)"
             ],
             [
              0.125,
              "rgb(0,0,200)"
             ],
             [
              0.25,
              "rgb(0,25,255)"
             ],
             [
              0.375,
              "rgb(0,152,255)"
             ],
             [
              0.5,
              "rgb(44,255,150)"
             ],
             [
              0.625,
              "rgb(151,255,0)"
             ],
             [
              0.75,
              "rgb(255,234,0)"
             ],
             [
              0.875,
              "rgb(255,111,0)"
             ],
             [
              1,
              "rgb(255,0,0)"
             ]
            ],
            "size": 7
           },
           "mode": "markers+lines",
           "type": "scatter3d",
           "x": [
            0.3745401188473625,
            0.8317325489017311,
            1.224211783111528,
            1.5611808847373805,
            1.850533735517361,
            2.0990412766700994,
            2.3125112556720366,
            2.4959252478180165,
            2.6535561854036107,
            2.7890691674712267,
            2.905607928589516,
            3.005869006779868,
            3.0921653604817427,
            3.1664809355129333,
            3.2305174694581775,
            3.2857346377721646,
            3.333384488789707,
            3.3745409800903396,
            3.4101253130876703,
            3.4409276635786017,
            3.4676258209550825,
            3.4908011758451174,
            3.5109524333895292,
            3.5285073757004275,
            3.5438329510203994,
            3.5572439276222223,
            3.569010316625877,
            3.5793637388639135,
            3.588502886012471,
            3.596598204835678,
            3.603795915061564,
            3.6102214556855614,
            3.6159824410121897,
            3.6211711961784587,
            3.6258669319809633,
            3.630137610318507,
            3.6340415442625775,
            3.637628770506915,
            3.640942226576994
           ],
           "y": [
            0.9507143064099162,
            1.197197090387812,
            1.4080249938110094,
            1.5882754397251262,
            1.7423035018789268,
            1.8738446649291751,
            1.9861029662052991,
            2.081826598620451,
            2.163372758478217,
            2.232763268172065,
            2.2917322861206446,
            2.3417672295910843,
            2.3841438759296536,
            2.419956470366555,
            2.450143550748451,
            2.4755100984990226,
            2.496746538430158,
            2.5144450356792536,
            2.5291134742774366,
            2.541187447154736,
            2.551040540470749,
            2.558993154916269,
            2.5653200721131384,
            2.5702569446318644,
            2.5740058627507576,
            2.576740129297298,
            2.5786083552282077,
            2.5797379725784473,
            2.5802382476629506,
            2.5802028656240554,
            2.5797121473040545,
            2.5788349507474986,
            2.577630302197141,
            2.576148795065182,
            2.574433789887147,
            2.5725224435701946,
            2.5704465922200628,
            2.5682335083762653,
            2.5659065505219525
           ],
           "z": [
            0,
            35.75484025998244,
            26.53625144224801,
            19.75362654801073,
            14.763198745602935,
            11.09133467835302,
            8.389571889366584,
            6.401538876940176,
            4.938617459787518,
            3.862037049746706,
            3.069701018720262,
            2.486494570269137,
            2.0571540299063282,
            1.7410206268409614,
            1.508180737071959,
            1.3366261762535963,
            1.2101649653654851,
            1.1168842355485544,
            1.0480193537352995,
            0.9971219137544148,
            0.9594476092658816,
            0.931505878541736,
            0.9107285683127627,
            0.895226162531146,
            0.8836084345467929,
            0.8748524969907335,
            0.8682057231829385,
            0.8631143242795148,
            0.859170801905754,
            0.8560752878950456,
            0.8536071010739922,
            0.8516038209509867,
            0.8499458917545191,
            0.8485452952703988,
            0.8473372171831792,
            0.8462739158040578,
            0.8453202111427344,
            0.8444501661018753,
            0.8436446447424237
           ]
          }
         ]
        },
        {
         "data": [
          {
           "marker": {
            "color": [
             0,
             35.75484025998244,
             26.53625144224801,
             19.75362654801073,
             14.763198745602935,
             11.09133467835302,
             8.389571889366584,
             6.401538876940176,
             4.938617459787518,
             3.862037049746706,
             3.069701018720262,
             2.486494570269137,
             2.0571540299063282,
             1.7410206268409614,
             1.508180737071959,
             1.3366261762535963,
             1.2101649653654851,
             1.1168842355485544,
             1.0480193537352995,
             0.9971219137544148,
             0.9594476092658816,
             0.931505878541736,
             0.9107285683127627,
             0.895226162531146,
             0.8836084345467929,
             0.8748524969907335,
             0.8682057231829385,
             0.8631143242795148,
             0.859170801905754,
             0.8560752878950456,
             0.8536071010739922,
             0.8516038209509867,
             0.8499458917545191,
             0.8485452952703988,
             0.8473372171831792,
             0.8462739158040578,
             0.8453202111427344,
             0.8444501661018753,
             0.8436446447424237,
             0.8428895158293094
            ],
            "colorscale": [
             [
              0,
              "rgb(150,0,90)"
             ],
             [
              0.125,
              "rgb(0,0,200)"
             ],
             [
              0.25,
              "rgb(0,25,255)"
             ],
             [
              0.375,
              "rgb(0,152,255)"
             ],
             [
              0.5,
              "rgb(44,255,150)"
             ],
             [
              0.625,
              "rgb(151,255,0)"
             ],
             [
              0.75,
              "rgb(255,234,0)"
             ],
             [
              0.875,
              "rgb(255,111,0)"
             ],
             [
              1,
              "rgb(255,0,0)"
             ]
            ],
            "size": 7
           },
           "mode": "markers+lines",
           "type": "scatter3d",
           "x": [
            0.3745401188473625,
            0.8317325489017311,
            1.224211783111528,
            1.5611808847373805,
            1.850533735517361,
            2.0990412766700994,
            2.3125112556720366,
            2.4959252478180165,
            2.6535561854036107,
            2.7890691674712267,
            2.905607928589516,
            3.005869006779868,
            3.0921653604817427,
            3.1664809355129333,
            3.2305174694581775,
            3.2857346377721646,
            3.333384488789707,
            3.3745409800903396,
            3.4101253130876703,
            3.4409276635786017,
            3.4676258209550825,
            3.4908011758451174,
            3.5109524333895292,
            3.5285073757004275,
            3.5438329510203994,
            3.5572439276222223,
            3.569010316625877,
            3.5793637388639135,
            3.588502886012471,
            3.596598204835678,
            3.603795915061564,
            3.6102214556855614,
            3.6159824410121897,
            3.6211711961784587,
            3.6258669319809633,
            3.630137610318507,
            3.6340415442625775,
            3.637628770506915,
            3.640942226576994,
            3.6440187605738226
           ],
           "y": [
            0.9507143064099162,
            1.197197090387812,
            1.4080249938110094,
            1.5882754397251262,
            1.7423035018789268,
            1.8738446649291751,
            1.9861029662052991,
            2.081826598620451,
            2.163372758478217,
            2.232763268172065,
            2.2917322861206446,
            2.3417672295910843,
            2.3841438759296536,
            2.419956470366555,
            2.450143550748451,
            2.4755100984990226,
            2.496746538430158,
            2.5144450356792536,
            2.5291134742774366,
            2.541187447154736,
            2.551040540470749,
            2.558993154916269,
            2.5653200721131384,
            2.5702569446318644,
            2.5740058627507576,
            2.576740129297298,
            2.5786083552282077,
            2.5797379725784473,
            2.5802382476629506,
            2.5802028656240554,
            2.5797121473040545,
            2.5788349507474986,
            2.577630302197141,
            2.576148795065182,
            2.574433789887147,
            2.5725224435701946,
            2.5704465922200628,
            2.5682335083762653,
            2.5659065505219525,
            2.5634857201932304
           ],
           "z": [
            0,
            35.75484025998244,
            26.53625144224801,
            19.75362654801073,
            14.763198745602935,
            11.09133467835302,
            8.389571889366584,
            6.401538876940176,
            4.938617459787518,
            3.862037049746706,
            3.069701018720262,
            2.486494570269137,
            2.0571540299063282,
            1.7410206268409614,
            1.508180737071959,
            1.3366261762535963,
            1.2101649653654851,
            1.1168842355485544,
            1.0480193537352995,
            0.9971219137544148,
            0.9594476092658816,
            0.931505878541736,
            0.9107285683127627,
            0.895226162531146,
            0.8836084345467929,
            0.8748524969907335,
            0.8682057231829385,
            0.8631143242795148,
            0.859170801905754,
            0.8560752878950456,
            0.8536071010739922,
            0.8516038209509867,
            0.8499458917545191,
            0.8485452952703988,
            0.8473372171831792,
            0.8462739158040578,
            0.8453202111427344,
            0.8444501661018753,
            0.8436446447424237,
            0.8428895158293094
           ]
          }
         ]
        },
        {
         "data": [
          {
           "marker": {
            "color": [
             0,
             35.75484025998244,
             26.53625144224801,
             19.75362654801073,
             14.763198745602935,
             11.09133467835302,
             8.389571889366584,
             6.401538876940176,
             4.938617459787518,
             3.862037049746706,
             3.069701018720262,
             2.486494570269137,
             2.0571540299063282,
             1.7410206268409614,
             1.508180737071959,
             1.3366261762535963,
             1.2101649653654851,
             1.1168842355485544,
             1.0480193537352995,
             0.9971219137544148,
             0.9594476092658816,
             0.931505878541736,
             0.9107285683127627,
             0.895226162531146,
             0.8836084345467929,
             0.8748524969907335,
             0.8682057231829385,
             0.8631143242795148,
             0.859170801905754,
             0.8560752878950456,
             0.8536071010739922,
             0.8516038209509867,
             0.8499458917545191,
             0.8485452952703988,
             0.8473372171831792,
             0.8462739158040578,
             0.8453202111427344,
             0.8444501661018753,
             0.8436446447424237,
             0.8428895158293094,
             0.842174331124285
            ],
            "colorscale": [
             [
              0,
              "rgb(150,0,90)"
             ],
             [
              0.125,
              "rgb(0,0,200)"
             ],
             [
              0.25,
              "rgb(0,25,255)"
             ],
             [
              0.375,
              "rgb(0,152,255)"
             ],
             [
              0.5,
              "rgb(44,255,150)"
             ],
             [
              0.625,
              "rgb(151,255,0)"
             ],
             [
              0.75,
              "rgb(255,234,0)"
             ],
             [
              0.875,
              "rgb(255,111,0)"
             ],
             [
              1,
              "rgb(255,0,0)"
             ]
            ],
            "size": 7
           },
           "mode": "markers+lines",
           "type": "scatter3d",
           "x": [
            0.3745401188473625,
            0.8317325489017311,
            1.224211783111528,
            1.5611808847373805,
            1.850533735517361,
            2.0990412766700994,
            2.3125112556720366,
            2.4959252478180165,
            2.6535561854036107,
            2.7890691674712267,
            2.905607928589516,
            3.005869006779868,
            3.0921653604817427,
            3.1664809355129333,
            3.2305174694581775,
            3.2857346377721646,
            3.333384488789707,
            3.3745409800903396,
            3.4101253130876703,
            3.4409276635786017,
            3.4676258209550825,
            3.4908011758451174,
            3.5109524333895292,
            3.5285073757004275,
            3.5438329510203994,
            3.5572439276222223,
            3.569010316625877,
            3.5793637388639135,
            3.588502886012471,
            3.596598204835678,
            3.603795915061564,
            3.6102214556855614,
            3.6159824410121897,
            3.6211711961784587,
            3.6258669319809633,
            3.630137610318507,
            3.6340415442625775,
            3.637628770506915,
            3.640942226576994,
            3.6440187605738226,
            3.646889997275345
           ],
           "y": [
            0.9507143064099162,
            1.197197090387812,
            1.4080249938110094,
            1.5882754397251262,
            1.7423035018789268,
            1.8738446649291751,
            1.9861029662052991,
            2.081826598620451,
            2.163372758478217,
            2.232763268172065,
            2.2917322861206446,
            2.3417672295910843,
            2.3841438759296536,
            2.419956470366555,
            2.450143550748451,
            2.4755100984990226,
            2.496746538430158,
            2.5144450356792536,
            2.5291134742774366,
            2.541187447154736,
            2.551040540470749,
            2.558993154916269,
            2.5653200721131384,
            2.5702569446318644,
            2.5740058627507576,
            2.576740129297298,
            2.5786083552282077,
            2.5797379725784473,
            2.5802382476629506,
            2.5802028656240554,
            2.5797121473040545,
            2.5788349507474986,
            2.577630302197141,
            2.576148795065182,
            2.574433789887147,
            2.5725224435701946,
            2.5704465922200628,
            2.5682335083762653,
            2.5659065505219525,
            2.5634857201932304,
            2.5609881398326584
           ],
           "z": [
            0,
            35.75484025998244,
            26.53625144224801,
            19.75362654801073,
            14.763198745602935,
            11.09133467835302,
            8.389571889366584,
            6.401538876940176,
            4.938617459787518,
            3.862037049746706,
            3.069701018720262,
            2.486494570269137,
            2.0571540299063282,
            1.7410206268409614,
            1.508180737071959,
            1.3366261762535963,
            1.2101649653654851,
            1.1168842355485544,
            1.0480193537352995,
            0.9971219137544148,
            0.9594476092658816,
            0.931505878541736,
            0.9107285683127627,
            0.895226162531146,
            0.8836084345467929,
            0.8748524969907335,
            0.8682057231829385,
            0.8631143242795148,
            0.859170801905754,
            0.8560752878950456,
            0.8536071010739922,
            0.8516038209509867,
            0.8499458917545191,
            0.8485452952703988,
            0.8473372171831792,
            0.8462739158040578,
            0.8453202111427344,
            0.8444501661018753,
            0.8436446447424237,
            0.8428895158293094,
            0.842174331124285
           ]
          }
         ]
        },
        {
         "data": [
          {
           "marker": {
            "color": [
             0,
             35.75484025998244,
             26.53625144224801,
             19.75362654801073,
             14.763198745602935,
             11.09133467835302,
             8.389571889366584,
             6.401538876940176,
             4.938617459787518,
             3.862037049746706,
             3.069701018720262,
             2.486494570269137,
             2.0571540299063282,
             1.7410206268409614,
             1.508180737071959,
             1.3366261762535963,
             1.2101649653654851,
             1.1168842355485544,
             1.0480193537352995,
             0.9971219137544148,
             0.9594476092658816,
             0.931505878541736,
             0.9107285683127627,
             0.895226162531146,
             0.8836084345467929,
             0.8748524969907335,
             0.8682057231829385,
             0.8631143242795148,
             0.859170801905754,
             0.8560752878950456,
             0.8536071010739922,
             0.8516038209509867,
             0.8499458917545191,
             0.8485452952703988,
             0.8473372171831792,
             0.8462739158040578,
             0.8453202111427344,
             0.8444501661018753,
             0.8436446447424237,
             0.8428895158293094,
             0.842174331124285,
             0.8414913529608441
            ],
            "colorscale": [
             [
              0,
              "rgb(150,0,90)"
             ],
             [
              0.125,
              "rgb(0,0,200)"
             ],
             [
              0.25,
              "rgb(0,25,255)"
             ],
             [
              0.375,
              "rgb(0,152,255)"
             ],
             [
              0.5,
              "rgb(44,255,150)"
             ],
             [
              0.625,
              "rgb(151,255,0)"
             ],
             [
              0.75,
              "rgb(255,234,0)"
             ],
             [
              0.875,
              "rgb(255,111,0)"
             ],
             [
              1,
              "rgb(255,0,0)"
             ]
            ],
            "size": 7
           },
           "mode": "markers+lines",
           "type": "scatter3d",
           "x": [
            0.3745401188473625,
            0.8317325489017311,
            1.224211783111528,
            1.5611808847373805,
            1.850533735517361,
            2.0990412766700994,
            2.3125112556720366,
            2.4959252478180165,
            2.6535561854036107,
            2.7890691674712267,
            2.905607928589516,
            3.005869006779868,
            3.0921653604817427,
            3.1664809355129333,
            3.2305174694581775,
            3.2857346377721646,
            3.333384488789707,
            3.3745409800903396,
            3.4101253130876703,
            3.4409276635786017,
            3.4676258209550825,
            3.4908011758451174,
            3.5109524333895292,
            3.5285073757004275,
            3.5438329510203994,
            3.5572439276222223,
            3.569010316625877,
            3.5793637388639135,
            3.588502886012471,
            3.596598204835678,
            3.603795915061564,
            3.6102214556855614,
            3.6159824410121897,
            3.6211711961784587,
            3.6258669319809633,
            3.630137610318507,
            3.6340415442625775,
            3.637628770506915,
            3.640942226576994,
            3.6440187605738226,
            3.646889997275345,
            3.649583081029671
           ],
           "y": [
            0.9507143064099162,
            1.197197090387812,
            1.4080249938110094,
            1.5882754397251262,
            1.7423035018789268,
            1.8738446649291751,
            1.9861029662052991,
            2.081826598620451,
            2.163372758478217,
            2.232763268172065,
            2.2917322861206446,
            2.3417672295910843,
            2.3841438759296536,
            2.419956470366555,
            2.450143550748451,
            2.4755100984990226,
            2.496746538430158,
            2.5144450356792536,
            2.5291134742774366,
            2.541187447154736,
            2.551040540470749,
            2.558993154916269,
            2.5653200721131384,
            2.5702569446318644,
            2.5740058627507576,
            2.576740129297298,
            2.5786083552282077,
            2.5797379725784473,
            2.5802382476629506,
            2.5802028656240554,
            2.5797121473040545,
            2.5788349507474986,
            2.577630302197141,
            2.576148795065182,
            2.574433789887147,
            2.5725224435701946,
            2.5704465922200628,
            2.5682335083762653,
            2.5659065505219525,
            2.5634857201932304,
            2.5609881398326584,
            2.558428462661701
           ],
           "z": [
            0,
            35.75484025998244,
            26.53625144224801,
            19.75362654801073,
            14.763198745602935,
            11.09133467835302,
            8.389571889366584,
            6.401538876940176,
            4.938617459787518,
            3.862037049746706,
            3.069701018720262,
            2.486494570269137,
            2.0571540299063282,
            1.7410206268409614,
            1.508180737071959,
            1.3366261762535963,
            1.2101649653654851,
            1.1168842355485544,
            1.0480193537352995,
            0.9971219137544148,
            0.9594476092658816,
            0.931505878541736,
            0.9107285683127627,
            0.895226162531146,
            0.8836084345467929,
            0.8748524969907335,
            0.8682057231829385,
            0.8631143242795148,
            0.859170801905754,
            0.8560752878950456,
            0.8536071010739922,
            0.8516038209509867,
            0.8499458917545191,
            0.8485452952703988,
            0.8473372171831792,
            0.8462739158040578,
            0.8453202111427344,
            0.8444501661018753,
            0.8436446447424237,
            0.8428895158293094,
            0.842174331124285,
            0.8414913529608441
           ]
          }
         ]
        },
        {
         "data": [
          {
           "marker": {
            "color": [
             0,
             35.75484025998244,
             26.53625144224801,
             19.75362654801073,
             14.763198745602935,
             11.09133467835302,
             8.389571889366584,
             6.401538876940176,
             4.938617459787518,
             3.862037049746706,
             3.069701018720262,
             2.486494570269137,
             2.0571540299063282,
             1.7410206268409614,
             1.508180737071959,
             1.3366261762535963,
             1.2101649653654851,
             1.1168842355485544,
             1.0480193537352995,
             0.9971219137544148,
             0.9594476092658816,
             0.931505878541736,
             0.9107285683127627,
             0.895226162531146,
             0.8836084345467929,
             0.8748524969907335,
             0.8682057231829385,
             0.8631143242795148,
             0.859170801905754,
             0.8560752878950456,
             0.8536071010739922,
             0.8516038209509867,
             0.8499458917545191,
             0.8485452952703988,
             0.8473372171831792,
             0.8462739158040578,
             0.8453202111427344,
             0.8444501661018753,
             0.8436446447424237,
             0.8428895158293094,
             0.842174331124285,
             0.8414913529608441,
             0.8408348387938519
            ],
            "colorscale": [
             [
              0,
              "rgb(150,0,90)"
             ],
             [
              0.125,
              "rgb(0,0,200)"
             ],
             [
              0.25,
              "rgb(0,25,255)"
             ],
             [
              0.375,
              "rgb(0,152,255)"
             ],
             [
              0.5,
              "rgb(44,255,150)"
             ],
             [
              0.625,
              "rgb(151,255,0)"
             ],
             [
              0.75,
              "rgb(255,234,0)"
             ],
             [
              0.875,
              "rgb(255,111,0)"
             ],
             [
              1,
              "rgb(255,0,0)"
             ]
            ],
            "size": 7
           },
           "mode": "markers+lines",
           "type": "scatter3d",
           "x": [
            0.3745401188473625,
            0.8317325489017311,
            1.224211783111528,
            1.5611808847373805,
            1.850533735517361,
            2.0990412766700994,
            2.3125112556720366,
            2.4959252478180165,
            2.6535561854036107,
            2.7890691674712267,
            2.905607928589516,
            3.005869006779868,
            3.0921653604817427,
            3.1664809355129333,
            3.2305174694581775,
            3.2857346377721646,
            3.333384488789707,
            3.3745409800903396,
            3.4101253130876703,
            3.4409276635786017,
            3.4676258209550825,
            3.4908011758451174,
            3.5109524333895292,
            3.5285073757004275,
            3.5438329510203994,
            3.5572439276222223,
            3.569010316625877,
            3.5793637388639135,
            3.588502886012471,
            3.596598204835678,
            3.603795915061564,
            3.6102214556855614,
            3.6159824410121897,
            3.6211711961784587,
            3.6258669319809633,
            3.630137610318507,
            3.6340415442625775,
            3.637628770506915,
            3.640942226576994,
            3.6440187605738226,
            3.646889997275345,
            3.649583081029671,
            3.652121312967447
           ],
           "y": [
            0.9507143064099162,
            1.197197090387812,
            1.4080249938110094,
            1.5882754397251262,
            1.7423035018789268,
            1.8738446649291751,
            1.9861029662052991,
            2.081826598620451,
            2.163372758478217,
            2.232763268172065,
            2.2917322861206446,
            2.3417672295910843,
            2.3841438759296536,
            2.419956470366555,
            2.450143550748451,
            2.4755100984990226,
            2.496746538430158,
            2.5144450356792536,
            2.5291134742774366,
            2.541187447154736,
            2.551040540470749,
            2.558993154916269,
            2.5653200721131384,
            2.5702569446318644,
            2.5740058627507576,
            2.576740129297298,
            2.5786083552282077,
            2.5797379725784473,
            2.5802382476629506,
            2.5802028656240554,
            2.5797121473040545,
            2.5788349507474986,
            2.577630302197141,
            2.576148795065182,
            2.574433789887147,
            2.5725224435701946,
            2.5704465922200628,
            2.5682335083762653,
            2.5659065505219525,
            2.5634857201932304,
            2.5609881398326584,
            2.558428462661701,
            2.5558192242429913
           ],
           "z": [
            0,
            35.75484025998244,
            26.53625144224801,
            19.75362654801073,
            14.763198745602935,
            11.09133467835302,
            8.389571889366584,
            6.401538876940176,
            4.938617459787518,
            3.862037049746706,
            3.069701018720262,
            2.486494570269137,
            2.0571540299063282,
            1.7410206268409614,
            1.508180737071959,
            1.3366261762535963,
            1.2101649653654851,
            1.1168842355485544,
            1.0480193537352995,
            0.9971219137544148,
            0.9594476092658816,
            0.931505878541736,
            0.9107285683127627,
            0.895226162531146,
            0.8836084345467929,
            0.8748524969907335,
            0.8682057231829385,
            0.8631143242795148,
            0.859170801905754,
            0.8560752878950456,
            0.8536071010739922,
            0.8516038209509867,
            0.8499458917545191,
            0.8485452952703988,
            0.8473372171831792,
            0.8462739158040578,
            0.8453202111427344,
            0.8444501661018753,
            0.8436446447424237,
            0.8428895158293094,
            0.842174331124285,
            0.8414913529608441,
            0.8408348387938519
           ]
          }
         ]
        },
        {
         "data": [
          {
           "marker": {
            "color": [
             0,
             35.75484025998244,
             26.53625144224801,
             19.75362654801073,
             14.763198745602935,
             11.09133467835302,
             8.389571889366584,
             6.401538876940176,
             4.938617459787518,
             3.862037049746706,
             3.069701018720262,
             2.486494570269137,
             2.0571540299063282,
             1.7410206268409614,
             1.508180737071959,
             1.3366261762535963,
             1.2101649653654851,
             1.1168842355485544,
             1.0480193537352995,
             0.9971219137544148,
             0.9594476092658816,
             0.931505878541736,
             0.9107285683127627,
             0.895226162531146,
             0.8836084345467929,
             0.8748524969907335,
             0.8682057231829385,
             0.8631143242795148,
             0.859170801905754,
             0.8560752878950456,
             0.8536071010739922,
             0.8516038209509867,
             0.8499458917545191,
             0.8485452952703988,
             0.8473372171831792,
             0.8462739158040578,
             0.8453202111427344,
             0.8444501661018753,
             0.8436446447424237,
             0.8428895158293094,
             0.842174331124285,
             0.8414913529608441,
             0.8408348387938519,
             0.8402005148113441
            ],
            "colorscale": [
             [
              0,
              "rgb(150,0,90)"
             ],
             [
              0.125,
              "rgb(0,0,200)"
             ],
             [
              0.25,
              "rgb(0,25,255)"
             ],
             [
              0.375,
              "rgb(0,152,255)"
             ],
             [
              0.5,
              "rgb(44,255,150)"
             ],
             [
              0.625,
              "rgb(151,255,0)"
             ],
             [
              0.75,
              "rgb(255,234,0)"
             ],
             [
              0.875,
              "rgb(255,111,0)"
             ],
             [
              1,
              "rgb(255,0,0)"
             ]
            ],
            "size": 7
           },
           "mode": "markers+lines",
           "type": "scatter3d",
           "x": [
            0.3745401188473625,
            0.8317325489017311,
            1.224211783111528,
            1.5611808847373805,
            1.850533735517361,
            2.0990412766700994,
            2.3125112556720366,
            2.4959252478180165,
            2.6535561854036107,
            2.7890691674712267,
            2.905607928589516,
            3.005869006779868,
            3.0921653604817427,
            3.1664809355129333,
            3.2305174694581775,
            3.2857346377721646,
            3.333384488789707,
            3.3745409800903396,
            3.4101253130876703,
            3.4409276635786017,
            3.4676258209550825,
            3.4908011758451174,
            3.5109524333895292,
            3.5285073757004275,
            3.5438329510203994,
            3.5572439276222223,
            3.569010316625877,
            3.5793637388639135,
            3.588502886012471,
            3.596598204835678,
            3.603795915061564,
            3.6102214556855614,
            3.6159824410121897,
            3.6211711961784587,
            3.6258669319809633,
            3.630137610318507,
            3.6340415442625775,
            3.637628770506915,
            3.640942226576994,
            3.6440187605738226,
            3.646889997275345,
            3.649583081029671,
            3.652121312967447,
            3.654524697567267
           ],
           "y": [
            0.9507143064099162,
            1.197197090387812,
            1.4080249938110094,
            1.5882754397251262,
            1.7423035018789268,
            1.8738446649291751,
            1.9861029662052991,
            2.081826598620451,
            2.163372758478217,
            2.232763268172065,
            2.2917322861206446,
            2.3417672295910843,
            2.3841438759296536,
            2.419956470366555,
            2.450143550748451,
            2.4755100984990226,
            2.496746538430158,
            2.5144450356792536,
            2.5291134742774366,
            2.541187447154736,
            2.551040540470749,
            2.558993154916269,
            2.5653200721131384,
            2.5702569446318644,
            2.5740058627507576,
            2.576740129297298,
            2.5786083552282077,
            2.5797379725784473,
            2.5802382476629506,
            2.5802028656240554,
            2.5797121473040545,
            2.5788349507474986,
            2.577630302197141,
            2.576148795065182,
            2.574433789887147,
            2.5725224435701946,
            2.5704465922200628,
            2.5682335083762653,
            2.5659065505219525,
            2.5634857201932304,
            2.5609881398326584,
            2.558428462661701,
            2.5558192242429913,
            2.553171144027506
           ],
           "z": [
            0,
            35.75484025998244,
            26.53625144224801,
            19.75362654801073,
            14.763198745602935,
            11.09133467835302,
            8.389571889366584,
            6.401538876940176,
            4.938617459787518,
            3.862037049746706,
            3.069701018720262,
            2.486494570269137,
            2.0571540299063282,
            1.7410206268409614,
            1.508180737071959,
            1.3366261762535963,
            1.2101649653654851,
            1.1168842355485544,
            1.0480193537352995,
            0.9971219137544148,
            0.9594476092658816,
            0.931505878541736,
            0.9107285683127627,
            0.895226162531146,
            0.8836084345467929,
            0.8748524969907335,
            0.8682057231829385,
            0.8631143242795148,
            0.859170801905754,
            0.8560752878950456,
            0.8536071010739922,
            0.8516038209509867,
            0.8499458917545191,
            0.8485452952703988,
            0.8473372171831792,
            0.8462739158040578,
            0.8453202111427344,
            0.8444501661018753,
            0.8436446447424237,
            0.8428895158293094,
            0.842174331124285,
            0.8414913529608441,
            0.8408348387938519,
            0.8402005148113441
           ]
          }
         ]
        },
        {
         "data": [
          {
           "marker": {
            "color": [
             0,
             35.75484025998244,
             26.53625144224801,
             19.75362654801073,
             14.763198745602935,
             11.09133467835302,
             8.389571889366584,
             6.401538876940176,
             4.938617459787518,
             3.862037049746706,
             3.069701018720262,
             2.486494570269137,
             2.0571540299063282,
             1.7410206268409614,
             1.508180737071959,
             1.3366261762535963,
             1.2101649653654851,
             1.1168842355485544,
             1.0480193537352995,
             0.9971219137544148,
             0.9594476092658816,
             0.931505878541736,
             0.9107285683127627,
             0.895226162531146,
             0.8836084345467929,
             0.8748524969907335,
             0.8682057231829385,
             0.8631143242795148,
             0.859170801905754,
             0.8560752878950456,
             0.8536071010739922,
             0.8516038209509867,
             0.8499458917545191,
             0.8485452952703988,
             0.8473372171831792,
             0.8462739158040578,
             0.8453202111427344,
             0.8444501661018753,
             0.8436446447424237,
             0.8428895158293094,
             0.842174331124285,
             0.8414913529608441,
             0.8408348387938519,
             0.8402005148113441,
             0.8395851886437613
            ],
            "colorscale": [
             [
              0,
              "rgb(150,0,90)"
             ],
             [
              0.125,
              "rgb(0,0,200)"
             ],
             [
              0.25,
              "rgb(0,25,255)"
             ],
             [
              0.375,
              "rgb(0,152,255)"
             ],
             [
              0.5,
              "rgb(44,255,150)"
             ],
             [
              0.625,
              "rgb(151,255,0)"
             ],
             [
              0.75,
              "rgb(255,234,0)"
             ],
             [
              0.875,
              "rgb(255,111,0)"
             ],
             [
              1,
              "rgb(255,0,0)"
             ]
            ],
            "size": 7
           },
           "mode": "markers+lines",
           "type": "scatter3d",
           "x": [
            0.3745401188473625,
            0.8317325489017311,
            1.224211783111528,
            1.5611808847373805,
            1.850533735517361,
            2.0990412766700994,
            2.3125112556720366,
            2.4959252478180165,
            2.6535561854036107,
            2.7890691674712267,
            2.905607928589516,
            3.005869006779868,
            3.0921653604817427,
            3.1664809355129333,
            3.2305174694581775,
            3.2857346377721646,
            3.333384488789707,
            3.3745409800903396,
            3.4101253130876703,
            3.4409276635786017,
            3.4676258209550825,
            3.4908011758451174,
            3.5109524333895292,
            3.5285073757004275,
            3.5438329510203994,
            3.5572439276222223,
            3.569010316625877,
            3.5793637388639135,
            3.588502886012471,
            3.596598204835678,
            3.603795915061564,
            3.6102214556855614,
            3.6159824410121897,
            3.6211711961784587,
            3.6258669319809633,
            3.630137610318507,
            3.6340415442625775,
            3.637628770506915,
            3.640942226576994,
            3.6440187605738226,
            3.646889997275345,
            3.649583081029671,
            3.652121312967447,
            3.654524697567267,
            3.656810411469356
           ],
           "y": [
            0.9507143064099162,
            1.197197090387812,
            1.4080249938110094,
            1.5882754397251262,
            1.7423035018789268,
            1.8738446649291751,
            1.9861029662052991,
            2.081826598620451,
            2.163372758478217,
            2.232763268172065,
            2.2917322861206446,
            2.3417672295910843,
            2.3841438759296536,
            2.419956470366555,
            2.450143550748451,
            2.4755100984990226,
            2.496746538430158,
            2.5144450356792536,
            2.5291134742774366,
            2.541187447154736,
            2.551040540470749,
            2.558993154916269,
            2.5653200721131384,
            2.5702569446318644,
            2.5740058627507576,
            2.576740129297298,
            2.5786083552282077,
            2.5797379725784473,
            2.5802382476629506,
            2.5802028656240554,
            2.5797121473040545,
            2.5788349507474986,
            2.577630302197141,
            2.576148795065182,
            2.574433789887147,
            2.5725224435701946,
            2.5704465922200628,
            2.5682335083762653,
            2.5659065505219525,
            2.5634857201932304,
            2.5609881398326584,
            2.558428462661701,
            2.5558192242429913,
            2.553171144027506,
            2.550493384001707
           ],
           "z": [
            0,
            35.75484025998244,
            26.53625144224801,
            19.75362654801073,
            14.763198745602935,
            11.09133467835302,
            8.389571889366584,
            6.401538876940176,
            4.938617459787518,
            3.862037049746706,
            3.069701018720262,
            2.486494570269137,
            2.0571540299063282,
            1.7410206268409614,
            1.508180737071959,
            1.3366261762535963,
            1.2101649653654851,
            1.1168842355485544,
            1.0480193537352995,
            0.9971219137544148,
            0.9594476092658816,
            0.931505878541736,
            0.9107285683127627,
            0.895226162531146,
            0.8836084345467929,
            0.8748524969907335,
            0.8682057231829385,
            0.8631143242795148,
            0.859170801905754,
            0.8560752878950456,
            0.8536071010739922,
            0.8516038209509867,
            0.8499458917545191,
            0.8485452952703988,
            0.8473372171831792,
            0.8462739158040578,
            0.8453202111427344,
            0.8444501661018753,
            0.8436446447424237,
            0.8428895158293094,
            0.842174331124285,
            0.8414913529608441,
            0.8408348387938519,
            0.8402005148113441,
            0.8395851886437613
           ]
          }
         ]
        },
        {
         "data": [
          {
           "marker": {
            "color": [
             0,
             35.75484025998244,
             26.53625144224801,
             19.75362654801073,
             14.763198745602935,
             11.09133467835302,
             8.389571889366584,
             6.401538876940176,
             4.938617459787518,
             3.862037049746706,
             3.069701018720262,
             2.486494570269137,
             2.0571540299063282,
             1.7410206268409614,
             1.508180737071959,
             1.3366261762535963,
             1.2101649653654851,
             1.1168842355485544,
             1.0480193537352995,
             0.9971219137544148,
             0.9594476092658816,
             0.931505878541736,
             0.9107285683127627,
             0.895226162531146,
             0.8836084345467929,
             0.8748524969907335,
             0.8682057231829385,
             0.8631143242795148,
             0.859170801905754,
             0.8560752878950456,
             0.8536071010739922,
             0.8516038209509867,
             0.8499458917545191,
             0.8485452952703988,
             0.8473372171831792,
             0.8462739158040578,
             0.8453202111427344,
             0.8444501661018753,
             0.8436446447424237,
             0.8428895158293094,
             0.842174331124285,
             0.8414913529608441,
             0.8408348387938519,
             0.8402005148113441,
             0.8395851886437613,
             0.8389864644104554
            ],
            "colorscale": [
             [
              0,
              "rgb(150,0,90)"
             ],
             [
              0.125,
              "rgb(0,0,200)"
             ],
             [
              0.25,
              "rgb(0,25,255)"
             ],
             [
              0.375,
              "rgb(0,152,255)"
             ],
             [
              0.5,
              "rgb(44,255,150)"
             ],
             [
              0.625,
              "rgb(151,255,0)"
             ],
             [
              0.75,
              "rgb(255,234,0)"
             ],
             [
              0.875,
              "rgb(255,111,0)"
             ],
             [
              1,
              "rgb(255,0,0)"
             ]
            ],
            "size": 7
           },
           "mode": "markers+lines",
           "type": "scatter3d",
           "x": [
            0.3745401188473625,
            0.8317325489017311,
            1.224211783111528,
            1.5611808847373805,
            1.850533735517361,
            2.0990412766700994,
            2.3125112556720366,
            2.4959252478180165,
            2.6535561854036107,
            2.7890691674712267,
            2.905607928589516,
            3.005869006779868,
            3.0921653604817427,
            3.1664809355129333,
            3.2305174694581775,
            3.2857346377721646,
            3.333384488789707,
            3.3745409800903396,
            3.4101253130876703,
            3.4409276635786017,
            3.4676258209550825,
            3.4908011758451174,
            3.5109524333895292,
            3.5285073757004275,
            3.5438329510203994,
            3.5572439276222223,
            3.569010316625877,
            3.5793637388639135,
            3.588502886012471,
            3.596598204835678,
            3.603795915061564,
            3.6102214556855614,
            3.6159824410121897,
            3.6211711961784587,
            3.6258669319809633,
            3.630137610318507,
            3.6340415442625775,
            3.637628770506915,
            3.640942226576994,
            3.6440187605738226,
            3.646889997275345,
            3.649583081029671,
            3.652121312967447,
            3.654524697567267,
            3.656810411469356,
            3.658993205598291
           ],
           "y": [
            0.9507143064099162,
            1.197197090387812,
            1.4080249938110094,
            1.5882754397251262,
            1.7423035018789268,
            1.8738446649291751,
            1.9861029662052991,
            2.081826598620451,
            2.163372758478217,
            2.232763268172065,
            2.2917322861206446,
            2.3417672295910843,
            2.3841438759296536,
            2.419956470366555,
            2.450143550748451,
            2.4755100984990226,
            2.496746538430158,
            2.5144450356792536,
            2.5291134742774366,
            2.541187447154736,
            2.551040540470749,
            2.558993154916269,
            2.5653200721131384,
            2.5702569446318644,
            2.5740058627507576,
            2.576740129297298,
            2.5786083552282077,
            2.5797379725784473,
            2.5802382476629506,
            2.5802028656240554,
            2.5797121473040545,
            2.5788349507474986,
            2.577630302197141,
            2.576148795065182,
            2.574433789887147,
            2.5725224435701946,
            2.5704465922200628,
            2.5682335083762653,
            2.5659065505219525,
            2.5634857201932304,
            2.5609881398326584,
            2.558428462661701,
            2.5558192242429913,
            2.553171144027506,
            2.550493384001707,
            2.547793770537545
           ],
           "z": [
            0,
            35.75484025998244,
            26.53625144224801,
            19.75362654801073,
            14.763198745602935,
            11.09133467835302,
            8.389571889366584,
            6.401538876940176,
            4.938617459787518,
            3.862037049746706,
            3.069701018720262,
            2.486494570269137,
            2.0571540299063282,
            1.7410206268409614,
            1.508180737071959,
            1.3366261762535963,
            1.2101649653654851,
            1.1168842355485544,
            1.0480193537352995,
            0.9971219137544148,
            0.9594476092658816,
            0.931505878541736,
            0.9107285683127627,
            0.895226162531146,
            0.8836084345467929,
            0.8748524969907335,
            0.8682057231829385,
            0.8631143242795148,
            0.859170801905754,
            0.8560752878950456,
            0.8536071010739922,
            0.8516038209509867,
            0.8499458917545191,
            0.8485452952703988,
            0.8473372171831792,
            0.8462739158040578,
            0.8453202111427344,
            0.8444501661018753,
            0.8436446447424237,
            0.8428895158293094,
            0.842174331124285,
            0.8414913529608441,
            0.8408348387938519,
            0.8402005148113441,
            0.8395851886437613,
            0.8389864644104554
           ]
          }
         ]
        },
        {
         "data": [
          {
           "marker": {
            "color": [
             0,
             35.75484025998244,
             26.53625144224801,
             19.75362654801073,
             14.763198745602935,
             11.09133467835302,
             8.389571889366584,
             6.401538876940176,
             4.938617459787518,
             3.862037049746706,
             3.069701018720262,
             2.486494570269137,
             2.0571540299063282,
             1.7410206268409614,
             1.508180737071959,
             1.3366261762535963,
             1.2101649653654851,
             1.1168842355485544,
             1.0480193537352995,
             0.9971219137544148,
             0.9594476092658816,
             0.931505878541736,
             0.9107285683127627,
             0.895226162531146,
             0.8836084345467929,
             0.8748524969907335,
             0.8682057231829385,
             0.8631143242795148,
             0.859170801905754,
             0.8560752878950456,
             0.8536071010739922,
             0.8516038209509867,
             0.8499458917545191,
             0.8485452952703988,
             0.8473372171831792,
             0.8462739158040578,
             0.8453202111427344,
             0.8444501661018753,
             0.8436446447424237,
             0.8428895158293094,
             0.842174331124285,
             0.8414913529608441,
             0.8408348387938519,
             0.8402005148113441,
             0.8395851886437613,
             0.8389864644104554,
             0.8384025330582323
            ],
            "colorscale": [
             [
              0,
              "rgb(150,0,90)"
             ],
             [
              0.125,
              "rgb(0,0,200)"
             ],
             [
              0.25,
              "rgb(0,25,255)"
             ],
             [
              0.375,
              "rgb(0,152,255)"
             ],
             [
              0.5,
              "rgb(44,255,150)"
             ],
             [
              0.625,
              "rgb(151,255,0)"
             ],
             [
              0.75,
              "rgb(255,234,0)"
             ],
             [
              0.875,
              "rgb(255,111,0)"
             ],
             [
              1,
              "rgb(255,0,0)"
             ]
            ],
            "size": 7
           },
           "mode": "markers+lines",
           "type": "scatter3d",
           "x": [
            0.3745401188473625,
            0.8317325489017311,
            1.224211783111528,
            1.5611808847373805,
            1.850533735517361,
            2.0990412766700994,
            2.3125112556720366,
            2.4959252478180165,
            2.6535561854036107,
            2.7890691674712267,
            2.905607928589516,
            3.005869006779868,
            3.0921653604817427,
            3.1664809355129333,
            3.2305174694581775,
            3.2857346377721646,
            3.333384488789707,
            3.3745409800903396,
            3.4101253130876703,
            3.4409276635786017,
            3.4676258209550825,
            3.4908011758451174,
            3.5109524333895292,
            3.5285073757004275,
            3.5438329510203994,
            3.5572439276222223,
            3.569010316625877,
            3.5793637388639135,
            3.588502886012471,
            3.596598204835678,
            3.603795915061564,
            3.6102214556855614,
            3.6159824410121897,
            3.6211711961784587,
            3.6258669319809633,
            3.630137610318507,
            3.6340415442625775,
            3.637628770506915,
            3.640942226576994,
            3.6440187605738226,
            3.646889997275345,
            3.649583081029671,
            3.652121312967447,
            3.654524697567267,
            3.656810411469356,
            3.658993205598291,
            3.661085750082056
           ],
           "y": [
            0.9507143064099162,
            1.197197090387812,
            1.4080249938110094,
            1.5882754397251262,
            1.7423035018789268,
            1.8738446649291751,
            1.9861029662052991,
            2.081826598620451,
            2.163372758478217,
            2.232763268172065,
            2.2917322861206446,
            2.3417672295910843,
            2.3841438759296536,
            2.419956470366555,
            2.450143550748451,
            2.4755100984990226,
            2.496746538430158,
            2.5144450356792536,
            2.5291134742774366,
            2.541187447154736,
            2.551040540470749,
            2.558993154916269,
            2.5653200721131384,
            2.5702569446318644,
            2.5740058627507576,
            2.576740129297298,
            2.5786083552282077,
            2.5797379725784473,
            2.5802382476629506,
            2.5802028656240554,
            2.5797121473040545,
            2.5788349507474986,
            2.577630302197141,
            2.576148795065182,
            2.574433789887147,
            2.5725224435701946,
            2.5704465922200628,
            2.5682335083762653,
            2.5659065505219525,
            2.5634857201932304,
            2.5609881398326584,
            2.558428462661701,
            2.5558192242429913,
            2.553171144027506,
            2.550493384001707,
            2.547793770537545,
            2.5450789846800066
           ],
           "z": [
            0,
            35.75484025998244,
            26.53625144224801,
            19.75362654801073,
            14.763198745602935,
            11.09133467835302,
            8.389571889366584,
            6.401538876940176,
            4.938617459787518,
            3.862037049746706,
            3.069701018720262,
            2.486494570269137,
            2.0571540299063282,
            1.7410206268409614,
            1.508180737071959,
            1.3366261762535963,
            1.2101649653654851,
            1.1168842355485544,
            1.0480193537352995,
            0.9971219137544148,
            0.9594476092658816,
            0.931505878541736,
            0.9107285683127627,
            0.895226162531146,
            0.8836084345467929,
            0.8748524969907335,
            0.8682057231829385,
            0.8631143242795148,
            0.859170801905754,
            0.8560752878950456,
            0.8536071010739922,
            0.8516038209509867,
            0.8499458917545191,
            0.8485452952703988,
            0.8473372171831792,
            0.8462739158040578,
            0.8453202111427344,
            0.8444501661018753,
            0.8436446447424237,
            0.8428895158293094,
            0.842174331124285,
            0.8414913529608441,
            0.8408348387938519,
            0.8402005148113441,
            0.8395851886437613,
            0.8389864644104554,
            0.8384025330582323
           ]
          }
         ]
        },
        {
         "data": [
          {
           "marker": {
            "color": [
             0,
             35.75484025998244,
             26.53625144224801,
             19.75362654801073,
             14.763198745602935,
             11.09133467835302,
             8.389571889366584,
             6.401538876940176,
             4.938617459787518,
             3.862037049746706,
             3.069701018720262,
             2.486494570269137,
             2.0571540299063282,
             1.7410206268409614,
             1.508180737071959,
             1.3366261762535963,
             1.2101649653654851,
             1.1168842355485544,
             1.0480193537352995,
             0.9971219137544148,
             0.9594476092658816,
             0.931505878541736,
             0.9107285683127627,
             0.895226162531146,
             0.8836084345467929,
             0.8748524969907335,
             0.8682057231829385,
             0.8631143242795148,
             0.859170801905754,
             0.8560752878950456,
             0.8536071010739922,
             0.8516038209509867,
             0.8499458917545191,
             0.8485452952703988,
             0.8473372171831792,
             0.8462739158040578,
             0.8453202111427344,
             0.8444501661018753,
             0.8436446447424237,
             0.8428895158293094,
             0.842174331124285,
             0.8414913529608441,
             0.8408348387938519,
             0.8402005148113441,
             0.8395851886437613,
             0.8389864644104554,
             0.8384025330582323,
             0.8378320180941389
            ],
            "colorscale": [
             [
              0,
              "rgb(150,0,90)"
             ],
             [
              0.125,
              "rgb(0,0,200)"
             ],
             [
              0.25,
              "rgb(0,25,255)"
             ],
             [
              0.375,
              "rgb(0,152,255)"
             ],
             [
              0.5,
              "rgb(44,255,150)"
             ],
             [
              0.625,
              "rgb(151,255,0)"
             ],
             [
              0.75,
              "rgb(255,234,0)"
             ],
             [
              0.875,
              "rgb(255,111,0)"
             ],
             [
              1,
              "rgb(255,0,0)"
             ]
            ],
            "size": 7
           },
           "mode": "markers+lines",
           "type": "scatter3d",
           "x": [
            0.3745401188473625,
            0.8317325489017311,
            1.224211783111528,
            1.5611808847373805,
            1.850533735517361,
            2.0990412766700994,
            2.3125112556720366,
            2.4959252478180165,
            2.6535561854036107,
            2.7890691674712267,
            2.905607928589516,
            3.005869006779868,
            3.0921653604817427,
            3.1664809355129333,
            3.2305174694581775,
            3.2857346377721646,
            3.333384488789707,
            3.3745409800903396,
            3.4101253130876703,
            3.4409276635786017,
            3.4676258209550825,
            3.4908011758451174,
            3.5109524333895292,
            3.5285073757004275,
            3.5438329510203994,
            3.5572439276222223,
            3.569010316625877,
            3.5793637388639135,
            3.588502886012471,
            3.596598204835678,
            3.603795915061564,
            3.6102214556855614,
            3.6159824410121897,
            3.6211711961784587,
            3.6258669319809633,
            3.630137610318507,
            3.6340415442625775,
            3.637628770506915,
            3.640942226576994,
            3.6440187605738226,
            3.646889997275345,
            3.649583081029671,
            3.652121312967447,
            3.654524697567267,
            3.656810411469356,
            3.658993205598291,
            3.661085750082056,
            3.663098930105087
           ],
           "y": [
            0.9507143064099162,
            1.197197090387812,
            1.4080249938110094,
            1.5882754397251262,
            1.7423035018789268,
            1.8738446649291751,
            1.9861029662052991,
            2.081826598620451,
            2.163372758478217,
            2.232763268172065,
            2.2917322861206446,
            2.3417672295910843,
            2.3841438759296536,
            2.419956470366555,
            2.450143550748451,
            2.4755100984990226,
            2.496746538430158,
            2.5144450356792536,
            2.5291134742774366,
            2.541187447154736,
            2.551040540470749,
            2.558993154916269,
            2.5653200721131384,
            2.5702569446318644,
            2.5740058627507576,
            2.576740129297298,
            2.5786083552282077,
            2.5797379725784473,
            2.5802382476629506,
            2.5802028656240554,
            2.5797121473040545,
            2.5788349507474986,
            2.577630302197141,
            2.576148795065182,
            2.574433789887147,
            2.5725224435701946,
            2.5704465922200628,
            2.5682335083762653,
            2.5659065505219525,
            2.5634857201932304,
            2.5609881398326584,
            2.558428462661701,
            2.5558192242429913,
            2.553171144027506,
            2.550493384001707,
            2.547793770537545,
            2.5450789846800066,
            2.5423547253622587
           ],
           "z": [
            0,
            35.75484025998244,
            26.53625144224801,
            19.75362654801073,
            14.763198745602935,
            11.09133467835302,
            8.389571889366584,
            6.401538876940176,
            4.938617459787518,
            3.862037049746706,
            3.069701018720262,
            2.486494570269137,
            2.0571540299063282,
            1.7410206268409614,
            1.508180737071959,
            1.3366261762535963,
            1.2101649653654851,
            1.1168842355485544,
            1.0480193537352995,
            0.9971219137544148,
            0.9594476092658816,
            0.931505878541736,
            0.9107285683127627,
            0.895226162531146,
            0.8836084345467929,
            0.8748524969907335,
            0.8682057231829385,
            0.8631143242795148,
            0.859170801905754,
            0.8560752878950456,
            0.8536071010739922,
            0.8516038209509867,
            0.8499458917545191,
            0.8485452952703988,
            0.8473372171831792,
            0.8462739158040578,
            0.8453202111427344,
            0.8444501661018753,
            0.8436446447424237,
            0.8428895158293094,
            0.842174331124285,
            0.8414913529608441,
            0.8408348387938519,
            0.8402005148113441,
            0.8395851886437613,
            0.8389864644104554,
            0.8384025330582323,
            0.8378320180941389
           ]
          }
         ]
        },
        {
         "data": [
          {
           "marker": {
            "color": [
             0,
             35.75484025998244,
             26.53625144224801,
             19.75362654801073,
             14.763198745602935,
             11.09133467835302,
             8.389571889366584,
             6.401538876940176,
             4.938617459787518,
             3.862037049746706,
             3.069701018720262,
             2.486494570269137,
             2.0571540299063282,
             1.7410206268409614,
             1.508180737071959,
             1.3366261762535963,
             1.2101649653654851,
             1.1168842355485544,
             1.0480193537352995,
             0.9971219137544148,
             0.9594476092658816,
             0.931505878541736,
             0.9107285683127627,
             0.895226162531146,
             0.8836084345467929,
             0.8748524969907335,
             0.8682057231829385,
             0.8631143242795148,
             0.859170801905754,
             0.8560752878950456,
             0.8536071010739922,
             0.8516038209509867,
             0.8499458917545191,
             0.8485452952703988,
             0.8473372171831792,
             0.8462739158040578,
             0.8453202111427344,
             0.8444501661018753,
             0.8436446447424237,
             0.8428895158293094,
             0.842174331124285,
             0.8414913529608441,
             0.8408348387938519,
             0.8402005148113441,
             0.8395851886437613,
             0.8389864644104554,
             0.8384025330582323,
             0.8378320180941389,
             0.8372738620732699
            ],
            "colorscale": [
             [
              0,
              "rgb(150,0,90)"
             ],
             [
              0.125,
              "rgb(0,0,200)"
             ],
             [
              0.25,
              "rgb(0,25,255)"
             ],
             [
              0.375,
              "rgb(0,152,255)"
             ],
             [
              0.5,
              "rgb(44,255,150)"
             ],
             [
              0.625,
              "rgb(151,255,0)"
             ],
             [
              0.75,
              "rgb(255,234,0)"
             ],
             [
              0.875,
              "rgb(255,111,0)"
             ],
             [
              1,
              "rgb(255,0,0)"
             ]
            ],
            "size": 7
           },
           "mode": "markers+lines",
           "type": "scatter3d",
           "x": [
            0.3745401188473625,
            0.8317325489017311,
            1.224211783111528,
            1.5611808847373805,
            1.850533735517361,
            2.0990412766700994,
            2.3125112556720366,
            2.4959252478180165,
            2.6535561854036107,
            2.7890691674712267,
            2.905607928589516,
            3.005869006779868,
            3.0921653604817427,
            3.1664809355129333,
            3.2305174694581775,
            3.2857346377721646,
            3.333384488789707,
            3.3745409800903396,
            3.4101253130876703,
            3.4409276635786017,
            3.4676258209550825,
            3.4908011758451174,
            3.5109524333895292,
            3.5285073757004275,
            3.5438329510203994,
            3.5572439276222223,
            3.569010316625877,
            3.5793637388639135,
            3.588502886012471,
            3.596598204835678,
            3.603795915061564,
            3.6102214556855614,
            3.6159824410121897,
            3.6211711961784587,
            3.6258669319809633,
            3.630137610318507,
            3.6340415442625775,
            3.637628770506915,
            3.640942226576994,
            3.6440187605738226,
            3.646889997275345,
            3.649583081029671,
            3.652121312967447,
            3.654524697567267,
            3.656810411469356,
            3.658993205598291,
            3.661085750082056,
            3.663098930105087,
            3.6650420996753117
           ],
           "y": [
            0.9507143064099162,
            1.197197090387812,
            1.4080249938110094,
            1.5882754397251262,
            1.7423035018789268,
            1.8738446649291751,
            1.9861029662052991,
            2.081826598620451,
            2.163372758478217,
            2.232763268172065,
            2.2917322861206446,
            2.3417672295910843,
            2.3841438759296536,
            2.419956470366555,
            2.450143550748451,
            2.4755100984990226,
            2.496746538430158,
            2.5144450356792536,
            2.5291134742774366,
            2.541187447154736,
            2.551040540470749,
            2.558993154916269,
            2.5653200721131384,
            2.5702569446318644,
            2.5740058627507576,
            2.576740129297298,
            2.5786083552282077,
            2.5797379725784473,
            2.5802382476629506,
            2.5802028656240554,
            2.5797121473040545,
            2.5788349507474986,
            2.577630302197141,
            2.576148795065182,
            2.574433789887147,
            2.5725224435701946,
            2.5704465922200628,
            2.5682335083762653,
            2.5659065505219525,
            2.5634857201932304,
            2.5609881398326584,
            2.558428462661701,
            2.5558192242429913,
            2.553171144027506,
            2.550493384001707,
            2.547793770537545,
            2.5450789846800066,
            2.5423547253622587,
            2.5396258493996466
           ],
           "z": [
            0,
            35.75484025998244,
            26.53625144224801,
            19.75362654801073,
            14.763198745602935,
            11.09133467835302,
            8.389571889366584,
            6.401538876940176,
            4.938617459787518,
            3.862037049746706,
            3.069701018720262,
            2.486494570269137,
            2.0571540299063282,
            1.7410206268409614,
            1.508180737071959,
            1.3366261762535963,
            1.2101649653654851,
            1.1168842355485544,
            1.0480193537352995,
            0.9971219137544148,
            0.9594476092658816,
            0.931505878541736,
            0.9107285683127627,
            0.895226162531146,
            0.8836084345467929,
            0.8748524969907335,
            0.8682057231829385,
            0.8631143242795148,
            0.859170801905754,
            0.8560752878950456,
            0.8536071010739922,
            0.8516038209509867,
            0.8499458917545191,
            0.8485452952703988,
            0.8473372171831792,
            0.8462739158040578,
            0.8453202111427344,
            0.8444501661018753,
            0.8436446447424237,
            0.8428895158293094,
            0.842174331124285,
            0.8414913529608441,
            0.8408348387938519,
            0.8402005148113441,
            0.8395851886437613,
            0.8389864644104554,
            0.8384025330582323,
            0.8378320180941389,
            0.8372738620732699
           ]
          }
         ]
        },
        {
         "data": [
          {
           "marker": {
            "color": [
             0,
             35.75484025998244,
             26.53625144224801,
             19.75362654801073,
             14.763198745602935,
             11.09133467835302,
             8.389571889366584,
             6.401538876940176,
             4.938617459787518,
             3.862037049746706,
             3.069701018720262,
             2.486494570269137,
             2.0571540299063282,
             1.7410206268409614,
             1.508180737071959,
             1.3366261762535963,
             1.2101649653654851,
             1.1168842355485544,
             1.0480193537352995,
             0.9971219137544148,
             0.9594476092658816,
             0.931505878541736,
             0.9107285683127627,
             0.895226162531146,
             0.8836084345467929,
             0.8748524969907335,
             0.8682057231829385,
             0.8631143242795148,
             0.859170801905754,
             0.8560752878950456,
             0.8536071010739922,
             0.8516038209509867,
             0.8499458917545191,
             0.8485452952703988,
             0.8473372171831792,
             0.8462739158040578,
             0.8453202111427344,
             0.8444501661018753,
             0.8436446447424237,
             0.8428895158293094,
             0.842174331124285,
             0.8414913529608441,
             0.8408348387938519,
             0.8402005148113441,
             0.8395851886437613,
             0.8389864644104554,
             0.8384025330582323,
             0.8378320180941389,
             0.8372738620732699,
             0.8367272430711747
            ],
            "colorscale": [
             [
              0,
              "rgb(150,0,90)"
             ],
             [
              0.125,
              "rgb(0,0,200)"
             ],
             [
              0.25,
              "rgb(0,25,255)"
             ],
             [
              0.375,
              "rgb(0,152,255)"
             ],
             [
              0.5,
              "rgb(44,255,150)"
             ],
             [
              0.625,
              "rgb(151,255,0)"
             ],
             [
              0.75,
              "rgb(255,234,0)"
             ],
             [
              0.875,
              "rgb(255,111,0)"
             ],
             [
              1,
              "rgb(255,0,0)"
             ]
            ],
            "size": 7
           },
           "mode": "markers+lines",
           "type": "scatter3d",
           "x": [
            0.3745401188473625,
            0.8317325489017311,
            1.224211783111528,
            1.5611808847373805,
            1.850533735517361,
            2.0990412766700994,
            2.3125112556720366,
            2.4959252478180165,
            2.6535561854036107,
            2.7890691674712267,
            2.905607928589516,
            3.005869006779868,
            3.0921653604817427,
            3.1664809355129333,
            3.2305174694581775,
            3.2857346377721646,
            3.333384488789707,
            3.3745409800903396,
            3.4101253130876703,
            3.4409276635786017,
            3.4676258209550825,
            3.4908011758451174,
            3.5109524333895292,
            3.5285073757004275,
            3.5438329510203994,
            3.5572439276222223,
            3.569010316625877,
            3.5793637388639135,
            3.588502886012471,
            3.596598204835678,
            3.603795915061564,
            3.6102214556855614,
            3.6159824410121897,
            3.6211711961784587,
            3.6258669319809633,
            3.630137610318507,
            3.6340415442625775,
            3.637628770506915,
            3.640942226576994,
            3.6440187605738226,
            3.646889997275345,
            3.649583081029671,
            3.652121312967447,
            3.654524697567267,
            3.656810411469356,
            3.658993205598291,
            3.661085750082056,
            3.663098930105087,
            3.6650420996753117,
            3.666923299292233
           ],
           "y": [
            0.9507143064099162,
            1.197197090387812,
            1.4080249938110094,
            1.5882754397251262,
            1.7423035018789268,
            1.8738446649291751,
            1.9861029662052991,
            2.081826598620451,
            2.163372758478217,
            2.232763268172065,
            2.2917322861206446,
            2.3417672295910843,
            2.3841438759296536,
            2.419956470366555,
            2.450143550748451,
            2.4755100984990226,
            2.496746538430158,
            2.5144450356792536,
            2.5291134742774366,
            2.541187447154736,
            2.551040540470749,
            2.558993154916269,
            2.5653200721131384,
            2.5702569446318644,
            2.5740058627507576,
            2.576740129297298,
            2.5786083552282077,
            2.5797379725784473,
            2.5802382476629506,
            2.5802028656240554,
            2.5797121473040545,
            2.5788349507474986,
            2.577630302197141,
            2.576148795065182,
            2.574433789887147,
            2.5725224435701946,
            2.5704465922200628,
            2.5682335083762653,
            2.5659065505219525,
            2.5634857201932304,
            2.5609881398326584,
            2.558428462661701,
            2.5558192242429913,
            2.553171144027506,
            2.550493384001707,
            2.547793770537545,
            2.5450789846800066,
            2.5423547253622587,
            2.5396258493996466,
            2.5368964915659746
           ],
           "z": [
            0,
            35.75484025998244,
            26.53625144224801,
            19.75362654801073,
            14.763198745602935,
            11.09133467835302,
            8.389571889366584,
            6.401538876940176,
            4.938617459787518,
            3.862037049746706,
            3.069701018720262,
            2.486494570269137,
            2.0571540299063282,
            1.7410206268409614,
            1.508180737071959,
            1.3366261762535963,
            1.2101649653654851,
            1.1168842355485544,
            1.0480193537352995,
            0.9971219137544148,
            0.9594476092658816,
            0.931505878541736,
            0.9107285683127627,
            0.895226162531146,
            0.8836084345467929,
            0.8748524969907335,
            0.8682057231829385,
            0.8631143242795148,
            0.859170801905754,
            0.8560752878950456,
            0.8536071010739922,
            0.8516038209509867,
            0.8499458917545191,
            0.8485452952703988,
            0.8473372171831792,
            0.8462739158040578,
            0.8453202111427344,
            0.8444501661018753,
            0.8436446447424237,
            0.8428895158293094,
            0.842174331124285,
            0.8414913529608441,
            0.8408348387938519,
            0.8402005148113441,
            0.8395851886437613,
            0.8389864644104554,
            0.8384025330582323,
            0.8378320180941389,
            0.8372738620732699,
            0.8367272430711747
           ]
          }
         ]
        }
       ],
       "layout": {
        "autosize": false,
        "height": 650,
        "margin": {
         "b": 65,
         "l": 65,
         "r": 50,
         "t": 90
        },
        "scene": {
         "xaxis": {
          "range": [
           2,
           4
          ],
          "title": {
           "text": "a"
          }
         },
         "yaxis": {
          "range": [
           -1,
           3
          ],
          "title": {
           "text": "b"
          }
         },
         "zaxis": {
          "range": [
           -1,
           15
          ],
          "title": {
           "text": "MSE"
          }
         }
        },
        "template": {
         "data": {
          "bar": [
           {
            "error_x": {
             "color": "#2a3f5f"
            },
            "error_y": {
             "color": "#2a3f5f"
            },
            "marker": {
             "line": {
              "color": "#E5ECF6",
              "width": 0.5
             },
             "pattern": {
              "fillmode": "overlay",
              "size": 10,
              "solidity": 0.2
             }
            },
            "type": "bar"
           }
          ],
          "barpolar": [
           {
            "marker": {
             "line": {
              "color": "#E5ECF6",
              "width": 0.5
             },
             "pattern": {
              "fillmode": "overlay",
              "size": 10,
              "solidity": 0.2
             }
            },
            "type": "barpolar"
           }
          ],
          "carpet": [
           {
            "aaxis": {
             "endlinecolor": "#2a3f5f",
             "gridcolor": "white",
             "linecolor": "white",
             "minorgridcolor": "white",
             "startlinecolor": "#2a3f5f"
            },
            "baxis": {
             "endlinecolor": "#2a3f5f",
             "gridcolor": "white",
             "linecolor": "white",
             "minorgridcolor": "white",
             "startlinecolor": "#2a3f5f"
            },
            "type": "carpet"
           }
          ],
          "choropleth": [
           {
            "colorbar": {
             "outlinewidth": 0,
             "ticks": ""
            },
            "type": "choropleth"
           }
          ],
          "contour": [
           {
            "colorbar": {
             "outlinewidth": 0,
             "ticks": ""
            },
            "colorscale": [
             [
              0,
              "#0d0887"
             ],
             [
              0.1111111111111111,
              "#46039f"
             ],
             [
              0.2222222222222222,
              "#7201a8"
             ],
             [
              0.3333333333333333,
              "#9c179e"
             ],
             [
              0.4444444444444444,
              "#bd3786"
             ],
             [
              0.5555555555555556,
              "#d8576b"
             ],
             [
              0.6666666666666666,
              "#ed7953"
             ],
             [
              0.7777777777777778,
              "#fb9f3a"
             ],
             [
              0.8888888888888888,
              "#fdca26"
             ],
             [
              1,
              "#f0f921"
             ]
            ],
            "type": "contour"
           }
          ],
          "contourcarpet": [
           {
            "colorbar": {
             "outlinewidth": 0,
             "ticks": ""
            },
            "type": "contourcarpet"
           }
          ],
          "heatmap": [
           {
            "colorbar": {
             "outlinewidth": 0,
             "ticks": ""
            },
            "colorscale": [
             [
              0,
              "#0d0887"
             ],
             [
              0.1111111111111111,
              "#46039f"
             ],
             [
              0.2222222222222222,
              "#7201a8"
             ],
             [
              0.3333333333333333,
              "#9c179e"
             ],
             [
              0.4444444444444444,
              "#bd3786"
             ],
             [
              0.5555555555555556,
              "#d8576b"
             ],
             [
              0.6666666666666666,
              "#ed7953"
             ],
             [
              0.7777777777777778,
              "#fb9f3a"
             ],
             [
              0.8888888888888888,
              "#fdca26"
             ],
             [
              1,
              "#f0f921"
             ]
            ],
            "type": "heatmap"
           }
          ],
          "heatmapgl": [
           {
            "colorbar": {
             "outlinewidth": 0,
             "ticks": ""
            },
            "colorscale": [
             [
              0,
              "#0d0887"
             ],
             [
              0.1111111111111111,
              "#46039f"
             ],
             [
              0.2222222222222222,
              "#7201a8"
             ],
             [
              0.3333333333333333,
              "#9c179e"
             ],
             [
              0.4444444444444444,
              "#bd3786"
             ],
             [
              0.5555555555555556,
              "#d8576b"
             ],
             [
              0.6666666666666666,
              "#ed7953"
             ],
             [
              0.7777777777777778,
              "#fb9f3a"
             ],
             [
              0.8888888888888888,
              "#fdca26"
             ],
             [
              1,
              "#f0f921"
             ]
            ],
            "type": "heatmapgl"
           }
          ],
          "histogram": [
           {
            "marker": {
             "pattern": {
              "fillmode": "overlay",
              "size": 10,
              "solidity": 0.2
             }
            },
            "type": "histogram"
           }
          ],
          "histogram2d": [
           {
            "colorbar": {
             "outlinewidth": 0,
             "ticks": ""
            },
            "colorscale": [
             [
              0,
              "#0d0887"
             ],
             [
              0.1111111111111111,
              "#46039f"
             ],
             [
              0.2222222222222222,
              "#7201a8"
             ],
             [
              0.3333333333333333,
              "#9c179e"
             ],
             [
              0.4444444444444444,
              "#bd3786"
             ],
             [
              0.5555555555555556,
              "#d8576b"
             ],
             [
              0.6666666666666666,
              "#ed7953"
             ],
             [
              0.7777777777777778,
              "#fb9f3a"
             ],
             [
              0.8888888888888888,
              "#fdca26"
             ],
             [
              1,
              "#f0f921"
             ]
            ],
            "type": "histogram2d"
           }
          ],
          "histogram2dcontour": [
           {
            "colorbar": {
             "outlinewidth": 0,
             "ticks": ""
            },
            "colorscale": [
             [
              0,
              "#0d0887"
             ],
             [
              0.1111111111111111,
              "#46039f"
             ],
             [
              0.2222222222222222,
              "#7201a8"
             ],
             [
              0.3333333333333333,
              "#9c179e"
             ],
             [
              0.4444444444444444,
              "#bd3786"
             ],
             [
              0.5555555555555556,
              "#d8576b"
             ],
             [
              0.6666666666666666,
              "#ed7953"
             ],
             [
              0.7777777777777778,
              "#fb9f3a"
             ],
             [
              0.8888888888888888,
              "#fdca26"
             ],
             [
              1,
              "#f0f921"
             ]
            ],
            "type": "histogram2dcontour"
           }
          ],
          "mesh3d": [
           {
            "colorbar": {
             "outlinewidth": 0,
             "ticks": ""
            },
            "type": "mesh3d"
           }
          ],
          "parcoords": [
           {
            "line": {
             "colorbar": {
              "outlinewidth": 0,
              "ticks": ""
             }
            },
            "type": "parcoords"
           }
          ],
          "pie": [
           {
            "automargin": true,
            "type": "pie"
           }
          ],
          "scatter": [
           {
            "fillpattern": {
             "fillmode": "overlay",
             "size": 10,
             "solidity": 0.2
            },
            "type": "scatter"
           }
          ],
          "scatter3d": [
           {
            "line": {
             "colorbar": {
              "outlinewidth": 0,
              "ticks": ""
             }
            },
            "marker": {
             "colorbar": {
              "outlinewidth": 0,
              "ticks": ""
             }
            },
            "type": "scatter3d"
           }
          ],
          "scattercarpet": [
           {
            "marker": {
             "colorbar": {
              "outlinewidth": 0,
              "ticks": ""
             }
            },
            "type": "scattercarpet"
           }
          ],
          "scattergeo": [
           {
            "marker": {
             "colorbar": {
              "outlinewidth": 0,
              "ticks": ""
             }
            },
            "type": "scattergeo"
           }
          ],
          "scattergl": [
           {
            "marker": {
             "colorbar": {
              "outlinewidth": 0,
              "ticks": ""
             }
            },
            "type": "scattergl"
           }
          ],
          "scattermapbox": [
           {
            "marker": {
             "colorbar": {
              "outlinewidth": 0,
              "ticks": ""
             }
            },
            "type": "scattermapbox"
           }
          ],
          "scatterpolar": [
           {
            "marker": {
             "colorbar": {
              "outlinewidth": 0,
              "ticks": ""
             }
            },
            "type": "scatterpolar"
           }
          ],
          "scatterpolargl": [
           {
            "marker": {
             "colorbar": {
              "outlinewidth": 0,
              "ticks": ""
             }
            },
            "type": "scatterpolargl"
           }
          ],
          "scatterternary": [
           {
            "marker": {
             "colorbar": {
              "outlinewidth": 0,
              "ticks": ""
             }
            },
            "type": "scatterternary"
           }
          ],
          "surface": [
           {
            "colorbar": {
             "outlinewidth": 0,
             "ticks": ""
            },
            "colorscale": [
             [
              0,
              "#0d0887"
             ],
             [
              0.1111111111111111,
              "#46039f"
             ],
             [
              0.2222222222222222,
              "#7201a8"
             ],
             [
              0.3333333333333333,
              "#9c179e"
             ],
             [
              0.4444444444444444,
              "#bd3786"
             ],
             [
              0.5555555555555556,
              "#d8576b"
             ],
             [
              0.6666666666666666,
              "#ed7953"
             ],
             [
              0.7777777777777778,
              "#fb9f3a"
             ],
             [
              0.8888888888888888,
              "#fdca26"
             ],
             [
              1,
              "#f0f921"
             ]
            ],
            "type": "surface"
           }
          ],
          "table": [
           {
            "cells": {
             "fill": {
              "color": "#EBF0F8"
             },
             "line": {
              "color": "white"
             }
            },
            "header": {
             "fill": {
              "color": "#C8D4E3"
             },
             "line": {
              "color": "white"
             }
            },
            "type": "table"
           }
          ]
         },
         "layout": {
          "annotationdefaults": {
           "arrowcolor": "#2a3f5f",
           "arrowhead": 0,
           "arrowwidth": 1
          },
          "autotypenumbers": "strict",
          "coloraxis": {
           "colorbar": {
            "outlinewidth": 0,
            "ticks": ""
           }
          },
          "colorscale": {
           "diverging": [
            [
             0,
             "#8e0152"
            ],
            [
             0.1,
             "#c51b7d"
            ],
            [
             0.2,
             "#de77ae"
            ],
            [
             0.3,
             "#f1b6da"
            ],
            [
             0.4,
             "#fde0ef"
            ],
            [
             0.5,
             "#f7f7f7"
            ],
            [
             0.6,
             "#e6f5d0"
            ],
            [
             0.7,
             "#b8e186"
            ],
            [
             0.8,
             "#7fbc41"
            ],
            [
             0.9,
             "#4d9221"
            ],
            [
             1,
             "#276419"
            ]
           ],
           "sequential": [
            [
             0,
             "#0d0887"
            ],
            [
             0.1111111111111111,
             "#46039f"
            ],
            [
             0.2222222222222222,
             "#7201a8"
            ],
            [
             0.3333333333333333,
             "#9c179e"
            ],
            [
             0.4444444444444444,
             "#bd3786"
            ],
            [
             0.5555555555555556,
             "#d8576b"
            ],
            [
             0.6666666666666666,
             "#ed7953"
            ],
            [
             0.7777777777777778,
             "#fb9f3a"
            ],
            [
             0.8888888888888888,
             "#fdca26"
            ],
            [
             1,
             "#f0f921"
            ]
           ],
           "sequentialminus": [
            [
             0,
             "#0d0887"
            ],
            [
             0.1111111111111111,
             "#46039f"
            ],
            [
             0.2222222222222222,
             "#7201a8"
            ],
            [
             0.3333333333333333,
             "#9c179e"
            ],
            [
             0.4444444444444444,
             "#bd3786"
            ],
            [
             0.5555555555555556,
             "#d8576b"
            ],
            [
             0.6666666666666666,
             "#ed7953"
            ],
            [
             0.7777777777777778,
             "#fb9f3a"
            ],
            [
             0.8888888888888888,
             "#fdca26"
            ],
            [
             1,
             "#f0f921"
            ]
           ]
          },
          "colorway": [
           "#636efa",
           "#EF553B",
           "#00cc96",
           "#ab63fa",
           "#FFA15A",
           "#19d3f3",
           "#FF6692",
           "#B6E880",
           "#FF97FF",
           "#FECB52"
          ],
          "font": {
           "color": "#2a3f5f"
          },
          "geo": {
           "bgcolor": "white",
           "lakecolor": "white",
           "landcolor": "#E5ECF6",
           "showlakes": true,
           "showland": true,
           "subunitcolor": "white"
          },
          "hoverlabel": {
           "align": "left"
          },
          "hovermode": "closest",
          "mapbox": {
           "style": "light"
          },
          "paper_bgcolor": "white",
          "plot_bgcolor": "#E5ECF6",
          "polar": {
           "angularaxis": {
            "gridcolor": "white",
            "linecolor": "white",
            "ticks": ""
           },
           "bgcolor": "#E5ECF6",
           "radialaxis": {
            "gridcolor": "white",
            "linecolor": "white",
            "ticks": ""
           }
          },
          "scene": {
           "xaxis": {
            "backgroundcolor": "#E5ECF6",
            "gridcolor": "white",
            "gridwidth": 2,
            "linecolor": "white",
            "showbackground": true,
            "ticks": "",
            "zerolinecolor": "white"
           },
           "yaxis": {
            "backgroundcolor": "#E5ECF6",
            "gridcolor": "white",
            "gridwidth": 2,
            "linecolor": "white",
            "showbackground": true,
            "ticks": "",
            "zerolinecolor": "white"
           },
           "zaxis": {
            "backgroundcolor": "#E5ECF6",
            "gridcolor": "white",
            "gridwidth": 2,
            "linecolor": "white",
            "showbackground": true,
            "ticks": "",
            "zerolinecolor": "white"
           }
          },
          "shapedefaults": {
           "line": {
            "color": "#2a3f5f"
           }
          },
          "ternary": {
           "aaxis": {
            "gridcolor": "white",
            "linecolor": "white",
            "ticks": ""
           },
           "baxis": {
            "gridcolor": "white",
            "linecolor": "white",
            "ticks": ""
           },
           "bgcolor": "#E5ECF6",
           "caxis": {
            "gridcolor": "white",
            "linecolor": "white",
            "ticks": ""
           }
          },
          "title": {
           "x": 0.05
          },
          "xaxis": {
           "automargin": true,
           "gridcolor": "white",
           "linecolor": "white",
           "ticks": "",
           "title": {
            "standoff": 15
           },
           "zerolinecolor": "white",
           "zerolinewidth": 2
          },
          "yaxis": {
           "automargin": true,
           "gridcolor": "white",
           "linecolor": "white",
           "ticks": "",
           "title": {
            "standoff": 15
           },
           "zerolinecolor": "white",
           "zerolinewidth": 2
          }
         }
        },
        "title": {
         "text": "Proces uczenia regresji liniowej"
        },
        "updatemenus": [
         {
          "buttons": [
           {
            "args": [
             null,
             {
              "frame": {
               "duration": 100,
               "redraw": true
              },
              "fromcurrent": true
             }
            ],
            "label": "Odtwórz",
            "method": "animate"
           },
           {
            "args": [
             [
              null
             ],
             {
              "frame": {
               "duration": 0,
               "redraw": false
              },
              "mode": "immediate",
              "transition": {
               "duration": 0
              }
             }
            ],
            "label": "Pauza",
            "method": "animate"
           }
          ],
          "direction": "up",
          "showactive": false,
          "type": "buttons"
         }
        ],
        "width": 1000
       }
      },
      "text/html": [
       "<div>                            <div id=\"311bb7dc-c1f1-4e56-9c79-43e18b2d45ce\" class=\"plotly-graph-div\" style=\"height:650px; width:1000px;\"></div>            <script type=\"text/javascript\">                require([\"plotly\"], function(Plotly) {                    window.PLOTLYENV=window.PLOTLYENV || {};                                    if (document.getElementById(\"311bb7dc-c1f1-4e56-9c79-43e18b2d45ce\")) {                    Plotly.newPlot(                        \"311bb7dc-c1f1-4e56-9c79-43e18b2d45ce\",                        [{\"marker\":{\"size\":8},\"mode\":\"markers\",\"surfaceaxis\":-1,\"x\":[],\"y\":[],\"z\":[],\"type\":\"scatter3d\"}],                        {\"scene\":{\"xaxis\":{\"range\":[2,4],\"title\":{\"text\":\"a\"}},\"yaxis\":{\"range\":[-1,3],\"title\":{\"text\":\"b\"}},\"zaxis\":{\"range\":[-1,15],\"title\":{\"text\":\"MSE\"}}},\"title\":{\"text\":\"Proces uczenia regresji liniowej\"},\"updatemenus\":[{\"buttons\":[{\"args\":[null,{\"frame\":{\"duration\":100,\"redraw\":true},\"fromcurrent\":true}],\"label\":\"Odtw\\u00f3rz\",\"method\":\"animate\"},{\"args\":[[null],{\"frame\":{\"duration\":0,\"redraw\":false},\"mode\":\"immediate\",\"transition\":{\"duration\":0}}],\"label\":\"Pauza\",\"method\":\"animate\"}],\"direction\":\"up\",\"showactive\":false,\"type\":\"buttons\"}],\"template\":{\"data\":{\"histogram2dcontour\":[{\"type\":\"histogram2dcontour\",\"colorbar\":{\"outlinewidth\":0,\"ticks\":\"\"},\"colorscale\":[[0.0,\"#0d0887\"],[0.1111111111111111,\"#46039f\"],[0.2222222222222222,\"#7201a8\"],[0.3333333333333333,\"#9c179e\"],[0.4444444444444444,\"#bd3786\"],[0.5555555555555556,\"#d8576b\"],[0.6666666666666666,\"#ed7953\"],[0.7777777777777778,\"#fb9f3a\"],[0.8888888888888888,\"#fdca26\"],[1.0,\"#f0f921\"]]}],\"choropleth\":[{\"type\":\"choropleth\",\"colorbar\":{\"outlinewidth\":0,\"ticks\":\"\"}}],\"histogram2d\":[{\"type\":\"histogram2d\",\"colorbar\":{\"outlinewidth\":0,\"ticks\":\"\"},\"colorscale\":[[0.0,\"#0d0887\"],[0.1111111111111111,\"#46039f\"],[0.2222222222222222,\"#7201a8\"],[0.3333333333333333,\"#9c179e\"],[0.4444444444444444,\"#bd3786\"],[0.5555555555555556,\"#d8576b\"],[0.6666666666666666,\"#ed7953\"],[0.7777777777777778,\"#fb9f3a\"],[0.8888888888888888,\"#fdca26\"],[1.0,\"#f0f921\"]]}],\"heatmap\":[{\"type\":\"heatmap\",\"colorbar\":{\"outlinewidth\":0,\"ticks\":\"\"},\"colorscale\":[[0.0,\"#0d0887\"],[0.1111111111111111,\"#46039f\"],[0.2222222222222222,\"#7201a8\"],[0.3333333333333333,\"#9c179e\"],[0.4444444444444444,\"#bd3786\"],[0.5555555555555556,\"#d8576b\"],[0.6666666666666666,\"#ed7953\"],[0.7777777777777778,\"#fb9f3a\"],[0.8888888888888888,\"#fdca26\"],[1.0,\"#f0f921\"]]}],\"heatmapgl\":[{\"type\":\"heatmapgl\",\"colorbar\":{\"outlinewidth\":0,\"ticks\":\"\"},\"colorscale\":[[0.0,\"#0d0887\"],[0.1111111111111111,\"#46039f\"],[0.2222222222222222,\"#7201a8\"],[0.3333333333333333,\"#9c179e\"],[0.4444444444444444,\"#bd3786\"],[0.5555555555555556,\"#d8576b\"],[0.6666666666666666,\"#ed7953\"],[0.7777777777777778,\"#fb9f3a\"],[0.8888888888888888,\"#fdca26\"],[1.0,\"#f0f921\"]]}],\"contourcarpet\":[{\"type\":\"contourcarpet\",\"colorbar\":{\"outlinewidth\":0,\"ticks\":\"\"}}],\"contour\":[{\"type\":\"contour\",\"colorbar\":{\"outlinewidth\":0,\"ticks\":\"\"},\"colorscale\":[[0.0,\"#0d0887\"],[0.1111111111111111,\"#46039f\"],[0.2222222222222222,\"#7201a8\"],[0.3333333333333333,\"#9c179e\"],[0.4444444444444444,\"#bd3786\"],[0.5555555555555556,\"#d8576b\"],[0.6666666666666666,\"#ed7953\"],[0.7777777777777778,\"#fb9f3a\"],[0.8888888888888888,\"#fdca26\"],[1.0,\"#f0f921\"]]}],\"surface\":[{\"type\":\"surface\",\"colorbar\":{\"outlinewidth\":0,\"ticks\":\"\"},\"colorscale\":[[0.0,\"#0d0887\"],[0.1111111111111111,\"#46039f\"],[0.2222222222222222,\"#7201a8\"],[0.3333333333333333,\"#9c179e\"],[0.4444444444444444,\"#bd3786\"],[0.5555555555555556,\"#d8576b\"],[0.6666666666666666,\"#ed7953\"],[0.7777777777777778,\"#fb9f3a\"],[0.8888888888888888,\"#fdca26\"],[1.0,\"#f0f921\"]]}],\"mesh3d\":[{\"type\":\"mesh3d\",\"colorbar\":{\"outlinewidth\":0,\"ticks\":\"\"}}],\"scatter\":[{\"fillpattern\":{\"fillmode\":\"overlay\",\"size\":10,\"solidity\":0.2},\"type\":\"scatter\"}],\"parcoords\":[{\"type\":\"parcoords\",\"line\":{\"colorbar\":{\"outlinewidth\":0,\"ticks\":\"\"}}}],\"scatterpolargl\":[{\"type\":\"scatterpolargl\",\"marker\":{\"colorbar\":{\"outlinewidth\":0,\"ticks\":\"\"}}}],\"bar\":[{\"error_x\":{\"color\":\"#2a3f5f\"},\"error_y\":{\"color\":\"#2a3f5f\"},\"marker\":{\"line\":{\"color\":\"#E5ECF6\",\"width\":0.5},\"pattern\":{\"fillmode\":\"overlay\",\"size\":10,\"solidity\":0.2}},\"type\":\"bar\"}],\"scattergeo\":[{\"type\":\"scattergeo\",\"marker\":{\"colorbar\":{\"outlinewidth\":0,\"ticks\":\"\"}}}],\"scatterpolar\":[{\"type\":\"scatterpolar\",\"marker\":{\"colorbar\":{\"outlinewidth\":0,\"ticks\":\"\"}}}],\"histogram\":[{\"marker\":{\"pattern\":{\"fillmode\":\"overlay\",\"size\":10,\"solidity\":0.2}},\"type\":\"histogram\"}],\"scattergl\":[{\"type\":\"scattergl\",\"marker\":{\"colorbar\":{\"outlinewidth\":0,\"ticks\":\"\"}}}],\"scatter3d\":[{\"type\":\"scatter3d\",\"line\":{\"colorbar\":{\"outlinewidth\":0,\"ticks\":\"\"}},\"marker\":{\"colorbar\":{\"outlinewidth\":0,\"ticks\":\"\"}}}],\"scattermapbox\":[{\"type\":\"scattermapbox\",\"marker\":{\"colorbar\":{\"outlinewidth\":0,\"ticks\":\"\"}}}],\"scatterternary\":[{\"type\":\"scatterternary\",\"marker\":{\"colorbar\":{\"outlinewidth\":0,\"ticks\":\"\"}}}],\"scattercarpet\":[{\"type\":\"scattercarpet\",\"marker\":{\"colorbar\":{\"outlinewidth\":0,\"ticks\":\"\"}}}],\"carpet\":[{\"aaxis\":{\"endlinecolor\":\"#2a3f5f\",\"gridcolor\":\"white\",\"linecolor\":\"white\",\"minorgridcolor\":\"white\",\"startlinecolor\":\"#2a3f5f\"},\"baxis\":{\"endlinecolor\":\"#2a3f5f\",\"gridcolor\":\"white\",\"linecolor\":\"white\",\"minorgridcolor\":\"white\",\"startlinecolor\":\"#2a3f5f\"},\"type\":\"carpet\"}],\"table\":[{\"cells\":{\"fill\":{\"color\":\"#EBF0F8\"},\"line\":{\"color\":\"white\"}},\"header\":{\"fill\":{\"color\":\"#C8D4E3\"},\"line\":{\"color\":\"white\"}},\"type\":\"table\"}],\"barpolar\":[{\"marker\":{\"line\":{\"color\":\"#E5ECF6\",\"width\":0.5},\"pattern\":{\"fillmode\":\"overlay\",\"size\":10,\"solidity\":0.2}},\"type\":\"barpolar\"}],\"pie\":[{\"automargin\":true,\"type\":\"pie\"}]},\"layout\":{\"autotypenumbers\":\"strict\",\"colorway\":[\"#636efa\",\"#EF553B\",\"#00cc96\",\"#ab63fa\",\"#FFA15A\",\"#19d3f3\",\"#FF6692\",\"#B6E880\",\"#FF97FF\",\"#FECB52\"],\"font\":{\"color\":\"#2a3f5f\"},\"hovermode\":\"closest\",\"hoverlabel\":{\"align\":\"left\"},\"paper_bgcolor\":\"white\",\"plot_bgcolor\":\"#E5ECF6\",\"polar\":{\"bgcolor\":\"#E5ECF6\",\"angularaxis\":{\"gridcolor\":\"white\",\"linecolor\":\"white\",\"ticks\":\"\"},\"radialaxis\":{\"gridcolor\":\"white\",\"linecolor\":\"white\",\"ticks\":\"\"}},\"ternary\":{\"bgcolor\":\"#E5ECF6\",\"aaxis\":{\"gridcolor\":\"white\",\"linecolor\":\"white\",\"ticks\":\"\"},\"baxis\":{\"gridcolor\":\"white\",\"linecolor\":\"white\",\"ticks\":\"\"},\"caxis\":{\"gridcolor\":\"white\",\"linecolor\":\"white\",\"ticks\":\"\"}},\"coloraxis\":{\"colorbar\":{\"outlinewidth\":0,\"ticks\":\"\"}},\"colorscale\":{\"sequential\":[[0.0,\"#0d0887\"],[0.1111111111111111,\"#46039f\"],[0.2222222222222222,\"#7201a8\"],[0.3333333333333333,\"#9c179e\"],[0.4444444444444444,\"#bd3786\"],[0.5555555555555556,\"#d8576b\"],[0.6666666666666666,\"#ed7953\"],[0.7777777777777778,\"#fb9f3a\"],[0.8888888888888888,\"#fdca26\"],[1.0,\"#f0f921\"]],\"sequentialminus\":[[0.0,\"#0d0887\"],[0.1111111111111111,\"#46039f\"],[0.2222222222222222,\"#7201a8\"],[0.3333333333333333,\"#9c179e\"],[0.4444444444444444,\"#bd3786\"],[0.5555555555555556,\"#d8576b\"],[0.6666666666666666,\"#ed7953\"],[0.7777777777777778,\"#fb9f3a\"],[0.8888888888888888,\"#fdca26\"],[1.0,\"#f0f921\"]],\"diverging\":[[0,\"#8e0152\"],[0.1,\"#c51b7d\"],[0.2,\"#de77ae\"],[0.3,\"#f1b6da\"],[0.4,\"#fde0ef\"],[0.5,\"#f7f7f7\"],[0.6,\"#e6f5d0\"],[0.7,\"#b8e186\"],[0.8,\"#7fbc41\"],[0.9,\"#4d9221\"],[1,\"#276419\"]]},\"xaxis\":{\"gridcolor\":\"white\",\"linecolor\":\"white\",\"ticks\":\"\",\"title\":{\"standoff\":15},\"zerolinecolor\":\"white\",\"automargin\":true,\"zerolinewidth\":2},\"yaxis\":{\"gridcolor\":\"white\",\"linecolor\":\"white\",\"ticks\":\"\",\"title\":{\"standoff\":15},\"zerolinecolor\":\"white\",\"automargin\":true,\"zerolinewidth\":2},\"scene\":{\"xaxis\":{\"backgroundcolor\":\"#E5ECF6\",\"gridcolor\":\"white\",\"linecolor\":\"white\",\"showbackground\":true,\"ticks\":\"\",\"zerolinecolor\":\"white\",\"gridwidth\":2},\"yaxis\":{\"backgroundcolor\":\"#E5ECF6\",\"gridcolor\":\"white\",\"linecolor\":\"white\",\"showbackground\":true,\"ticks\":\"\",\"zerolinecolor\":\"white\",\"gridwidth\":2},\"zaxis\":{\"backgroundcolor\":\"#E5ECF6\",\"gridcolor\":\"white\",\"linecolor\":\"white\",\"showbackground\":true,\"ticks\":\"\",\"zerolinecolor\":\"white\",\"gridwidth\":2}},\"shapedefaults\":{\"line\":{\"color\":\"#2a3f5f\"}},\"annotationdefaults\":{\"arrowcolor\":\"#2a3f5f\",\"arrowhead\":0,\"arrowwidth\":1},\"geo\":{\"bgcolor\":\"white\",\"landcolor\":\"#E5ECF6\",\"subunitcolor\":\"white\",\"showland\":true,\"showlakes\":true,\"lakecolor\":\"white\"},\"title\":{\"x\":0.05},\"mapbox\":{\"style\":\"light\"}}},\"margin\":{\"l\":65,\"r\":50,\"b\":65,\"t\":90},\"autosize\":false,\"width\":1000,\"height\":650},                        {\"responsive\": true}                    ).then(function(){\n",
       "                            Plotly.addFrames('311bb7dc-c1f1-4e56-9c79-43e18b2d45ce', [{\"data\":[{\"marker\":{\"color\":[0.0],\"colorscale\":[[0.0,\"rgb(150,0,90)\"],[0.125,\"rgb(0,0,200)\"],[0.25,\"rgb(0,25,255)\"],[0.375,\"rgb(0,152,255)\"],[0.5,\"rgb(44,255,150)\"],[0.625,\"rgb(151,255,0)\"],[0.75,\"rgb(255,234,0)\"],[0.875,\"rgb(255,111,0)\"],[1.0,\"rgb(255,0,0)\"]],\"size\":7},\"mode\":\"markers+lines\",\"x\":[0.3745401188473625],\"y\":[0.9507143064099162],\"z\":[0.0],\"type\":\"scatter3d\"}]},{\"data\":[{\"marker\":{\"color\":[0.0,35.75484025998244],\"colorscale\":[[0.0,\"rgb(150,0,90)\"],[0.125,\"rgb(0,0,200)\"],[0.25,\"rgb(0,25,255)\"],[0.375,\"rgb(0,152,255)\"],[0.5,\"rgb(44,255,150)\"],[0.625,\"rgb(151,255,0)\"],[0.75,\"rgb(255,234,0)\"],[0.875,\"rgb(255,111,0)\"],[1.0,\"rgb(255,0,0)\"]],\"size\":7},\"mode\":\"markers+lines\",\"x\":[0.3745401188473625,0.8317325489017311],\"y\":[0.9507143064099162,1.197197090387812],\"z\":[0.0,35.75484025998244],\"type\":\"scatter3d\"}]},{\"data\":[{\"marker\":{\"color\":[0.0,35.75484025998244,26.53625144224801],\"colorscale\":[[0.0,\"rgb(150,0,90)\"],[0.125,\"rgb(0,0,200)\"],[0.25,\"rgb(0,25,255)\"],[0.375,\"rgb(0,152,255)\"],[0.5,\"rgb(44,255,150)\"],[0.625,\"rgb(151,255,0)\"],[0.75,\"rgb(255,234,0)\"],[0.875,\"rgb(255,111,0)\"],[1.0,\"rgb(255,0,0)\"]],\"size\":7},\"mode\":\"markers+lines\",\"x\":[0.3745401188473625,0.8317325489017311,1.224211783111528],\"y\":[0.9507143064099162,1.197197090387812,1.4080249938110094],\"z\":[0.0,35.75484025998244,26.53625144224801],\"type\":\"scatter3d\"}]},{\"data\":[{\"marker\":{\"color\":[0.0,35.75484025998244,26.53625144224801,19.75362654801073],\"colorscale\":[[0.0,\"rgb(150,0,90)\"],[0.125,\"rgb(0,0,200)\"],[0.25,\"rgb(0,25,255)\"],[0.375,\"rgb(0,152,255)\"],[0.5,\"rgb(44,255,150)\"],[0.625,\"rgb(151,255,0)\"],[0.75,\"rgb(255,234,0)\"],[0.875,\"rgb(255,111,0)\"],[1.0,\"rgb(255,0,0)\"]],\"size\":7},\"mode\":\"markers+lines\",\"x\":[0.3745401188473625,0.8317325489017311,1.224211783111528,1.5611808847373805],\"y\":[0.9507143064099162,1.197197090387812,1.4080249938110094,1.5882754397251262],\"z\":[0.0,35.75484025998244,26.53625144224801,19.75362654801073],\"type\":\"scatter3d\"}]},{\"data\":[{\"marker\":{\"color\":[0.0,35.75484025998244,26.53625144224801,19.75362654801073,14.763198745602935],\"colorscale\":[[0.0,\"rgb(150,0,90)\"],[0.125,\"rgb(0,0,200)\"],[0.25,\"rgb(0,25,255)\"],[0.375,\"rgb(0,152,255)\"],[0.5,\"rgb(44,255,150)\"],[0.625,\"rgb(151,255,0)\"],[0.75,\"rgb(255,234,0)\"],[0.875,\"rgb(255,111,0)\"],[1.0,\"rgb(255,0,0)\"]],\"size\":7},\"mode\":\"markers+lines\",\"x\":[0.3745401188473625,0.8317325489017311,1.224211783111528,1.5611808847373805,1.850533735517361],\"y\":[0.9507143064099162,1.197197090387812,1.4080249938110094,1.5882754397251262,1.7423035018789268],\"z\":[0.0,35.75484025998244,26.53625144224801,19.75362654801073,14.763198745602935],\"type\":\"scatter3d\"}]},{\"data\":[{\"marker\":{\"color\":[0.0,35.75484025998244,26.53625144224801,19.75362654801073,14.763198745602935,11.09133467835302],\"colorscale\":[[0.0,\"rgb(150,0,90)\"],[0.125,\"rgb(0,0,200)\"],[0.25,\"rgb(0,25,255)\"],[0.375,\"rgb(0,152,255)\"],[0.5,\"rgb(44,255,150)\"],[0.625,\"rgb(151,255,0)\"],[0.75,\"rgb(255,234,0)\"],[0.875,\"rgb(255,111,0)\"],[1.0,\"rgb(255,0,0)\"]],\"size\":7},\"mode\":\"markers+lines\",\"x\":[0.3745401188473625,0.8317325489017311,1.224211783111528,1.5611808847373805,1.850533735517361,2.0990412766700994],\"y\":[0.9507143064099162,1.197197090387812,1.4080249938110094,1.5882754397251262,1.7423035018789268,1.8738446649291751],\"z\":[0.0,35.75484025998244,26.53625144224801,19.75362654801073,14.763198745602935,11.09133467835302],\"type\":\"scatter3d\"}]},{\"data\":[{\"marker\":{\"color\":[0.0,35.75484025998244,26.53625144224801,19.75362654801073,14.763198745602935,11.09133467835302,8.389571889366584],\"colorscale\":[[0.0,\"rgb(150,0,90)\"],[0.125,\"rgb(0,0,200)\"],[0.25,\"rgb(0,25,255)\"],[0.375,\"rgb(0,152,255)\"],[0.5,\"rgb(44,255,150)\"],[0.625,\"rgb(151,255,0)\"],[0.75,\"rgb(255,234,0)\"],[0.875,\"rgb(255,111,0)\"],[1.0,\"rgb(255,0,0)\"]],\"size\":7},\"mode\":\"markers+lines\",\"x\":[0.3745401188473625,0.8317325489017311,1.224211783111528,1.5611808847373805,1.850533735517361,2.0990412766700994,2.3125112556720366],\"y\":[0.9507143064099162,1.197197090387812,1.4080249938110094,1.5882754397251262,1.7423035018789268,1.8738446649291751,1.9861029662052991],\"z\":[0.0,35.75484025998244,26.53625144224801,19.75362654801073,14.763198745602935,11.09133467835302,8.389571889366584],\"type\":\"scatter3d\"}]},{\"data\":[{\"marker\":{\"color\":[0.0,35.75484025998244,26.53625144224801,19.75362654801073,14.763198745602935,11.09133467835302,8.389571889366584,6.401538876940176],\"colorscale\":[[0.0,\"rgb(150,0,90)\"],[0.125,\"rgb(0,0,200)\"],[0.25,\"rgb(0,25,255)\"],[0.375,\"rgb(0,152,255)\"],[0.5,\"rgb(44,255,150)\"],[0.625,\"rgb(151,255,0)\"],[0.75,\"rgb(255,234,0)\"],[0.875,\"rgb(255,111,0)\"],[1.0,\"rgb(255,0,0)\"]],\"size\":7},\"mode\":\"markers+lines\",\"x\":[0.3745401188473625,0.8317325489017311,1.224211783111528,1.5611808847373805,1.850533735517361,2.0990412766700994,2.3125112556720366,2.4959252478180165],\"y\":[0.9507143064099162,1.197197090387812,1.4080249938110094,1.5882754397251262,1.7423035018789268,1.8738446649291751,1.9861029662052991,2.081826598620451],\"z\":[0.0,35.75484025998244,26.53625144224801,19.75362654801073,14.763198745602935,11.09133467835302,8.389571889366584,6.401538876940176],\"type\":\"scatter3d\"}]},{\"data\":[{\"marker\":{\"color\":[0.0,35.75484025998244,26.53625144224801,19.75362654801073,14.763198745602935,11.09133467835302,8.389571889366584,6.401538876940176,4.938617459787518],\"colorscale\":[[0.0,\"rgb(150,0,90)\"],[0.125,\"rgb(0,0,200)\"],[0.25,\"rgb(0,25,255)\"],[0.375,\"rgb(0,152,255)\"],[0.5,\"rgb(44,255,150)\"],[0.625,\"rgb(151,255,0)\"],[0.75,\"rgb(255,234,0)\"],[0.875,\"rgb(255,111,0)\"],[1.0,\"rgb(255,0,0)\"]],\"size\":7},\"mode\":\"markers+lines\",\"x\":[0.3745401188473625,0.8317325489017311,1.224211783111528,1.5611808847373805,1.850533735517361,2.0990412766700994,2.3125112556720366,2.4959252478180165,2.6535561854036107],\"y\":[0.9507143064099162,1.197197090387812,1.4080249938110094,1.5882754397251262,1.7423035018789268,1.8738446649291751,1.9861029662052991,2.081826598620451,2.163372758478217],\"z\":[0.0,35.75484025998244,26.53625144224801,19.75362654801073,14.763198745602935,11.09133467835302,8.389571889366584,6.401538876940176,4.938617459787518],\"type\":\"scatter3d\"}]},{\"data\":[{\"marker\":{\"color\":[0.0,35.75484025998244,26.53625144224801,19.75362654801073,14.763198745602935,11.09133467835302,8.389571889366584,6.401538876940176,4.938617459787518,3.862037049746706],\"colorscale\":[[0.0,\"rgb(150,0,90)\"],[0.125,\"rgb(0,0,200)\"],[0.25,\"rgb(0,25,255)\"],[0.375,\"rgb(0,152,255)\"],[0.5,\"rgb(44,255,150)\"],[0.625,\"rgb(151,255,0)\"],[0.75,\"rgb(255,234,0)\"],[0.875,\"rgb(255,111,0)\"],[1.0,\"rgb(255,0,0)\"]],\"size\":7},\"mode\":\"markers+lines\",\"x\":[0.3745401188473625,0.8317325489017311,1.224211783111528,1.5611808847373805,1.850533735517361,2.0990412766700994,2.3125112556720366,2.4959252478180165,2.6535561854036107,2.7890691674712267],\"y\":[0.9507143064099162,1.197197090387812,1.4080249938110094,1.5882754397251262,1.7423035018789268,1.8738446649291751,1.9861029662052991,2.081826598620451,2.163372758478217,2.232763268172065],\"z\":[0.0,35.75484025998244,26.53625144224801,19.75362654801073,14.763198745602935,11.09133467835302,8.389571889366584,6.401538876940176,4.938617459787518,3.862037049746706],\"type\":\"scatter3d\"}]},{\"data\":[{\"marker\":{\"color\":[0.0,35.75484025998244,26.53625144224801,19.75362654801073,14.763198745602935,11.09133467835302,8.389571889366584,6.401538876940176,4.938617459787518,3.862037049746706,3.069701018720262],\"colorscale\":[[0.0,\"rgb(150,0,90)\"],[0.125,\"rgb(0,0,200)\"],[0.25,\"rgb(0,25,255)\"],[0.375,\"rgb(0,152,255)\"],[0.5,\"rgb(44,255,150)\"],[0.625,\"rgb(151,255,0)\"],[0.75,\"rgb(255,234,0)\"],[0.875,\"rgb(255,111,0)\"],[1.0,\"rgb(255,0,0)\"]],\"size\":7},\"mode\":\"markers+lines\",\"x\":[0.3745401188473625,0.8317325489017311,1.224211783111528,1.5611808847373805,1.850533735517361,2.0990412766700994,2.3125112556720366,2.4959252478180165,2.6535561854036107,2.7890691674712267,2.905607928589516],\"y\":[0.9507143064099162,1.197197090387812,1.4080249938110094,1.5882754397251262,1.7423035018789268,1.8738446649291751,1.9861029662052991,2.081826598620451,2.163372758478217,2.232763268172065,2.2917322861206446],\"z\":[0.0,35.75484025998244,26.53625144224801,19.75362654801073,14.763198745602935,11.09133467835302,8.389571889366584,6.401538876940176,4.938617459787518,3.862037049746706,3.069701018720262],\"type\":\"scatter3d\"}]},{\"data\":[{\"marker\":{\"color\":[0.0,35.75484025998244,26.53625144224801,19.75362654801073,14.763198745602935,11.09133467835302,8.389571889366584,6.401538876940176,4.938617459787518,3.862037049746706,3.069701018720262,2.486494570269137],\"colorscale\":[[0.0,\"rgb(150,0,90)\"],[0.125,\"rgb(0,0,200)\"],[0.25,\"rgb(0,25,255)\"],[0.375,\"rgb(0,152,255)\"],[0.5,\"rgb(44,255,150)\"],[0.625,\"rgb(151,255,0)\"],[0.75,\"rgb(255,234,0)\"],[0.875,\"rgb(255,111,0)\"],[1.0,\"rgb(255,0,0)\"]],\"size\":7},\"mode\":\"markers+lines\",\"x\":[0.3745401188473625,0.8317325489017311,1.224211783111528,1.5611808847373805,1.850533735517361,2.0990412766700994,2.3125112556720366,2.4959252478180165,2.6535561854036107,2.7890691674712267,2.905607928589516,3.005869006779868],\"y\":[0.9507143064099162,1.197197090387812,1.4080249938110094,1.5882754397251262,1.7423035018789268,1.8738446649291751,1.9861029662052991,2.081826598620451,2.163372758478217,2.232763268172065,2.2917322861206446,2.3417672295910843],\"z\":[0.0,35.75484025998244,26.53625144224801,19.75362654801073,14.763198745602935,11.09133467835302,8.389571889366584,6.401538876940176,4.938617459787518,3.862037049746706,3.069701018720262,2.486494570269137],\"type\":\"scatter3d\"}]},{\"data\":[{\"marker\":{\"color\":[0.0,35.75484025998244,26.53625144224801,19.75362654801073,14.763198745602935,11.09133467835302,8.389571889366584,6.401538876940176,4.938617459787518,3.862037049746706,3.069701018720262,2.486494570269137,2.0571540299063282],\"colorscale\":[[0.0,\"rgb(150,0,90)\"],[0.125,\"rgb(0,0,200)\"],[0.25,\"rgb(0,25,255)\"],[0.375,\"rgb(0,152,255)\"],[0.5,\"rgb(44,255,150)\"],[0.625,\"rgb(151,255,0)\"],[0.75,\"rgb(255,234,0)\"],[0.875,\"rgb(255,111,0)\"],[1.0,\"rgb(255,0,0)\"]],\"size\":7},\"mode\":\"markers+lines\",\"x\":[0.3745401188473625,0.8317325489017311,1.224211783111528,1.5611808847373805,1.850533735517361,2.0990412766700994,2.3125112556720366,2.4959252478180165,2.6535561854036107,2.7890691674712267,2.905607928589516,3.005869006779868,3.0921653604817427],\"y\":[0.9507143064099162,1.197197090387812,1.4080249938110094,1.5882754397251262,1.7423035018789268,1.8738446649291751,1.9861029662052991,2.081826598620451,2.163372758478217,2.232763268172065,2.2917322861206446,2.3417672295910843,2.3841438759296536],\"z\":[0.0,35.75484025998244,26.53625144224801,19.75362654801073,14.763198745602935,11.09133467835302,8.389571889366584,6.401538876940176,4.938617459787518,3.862037049746706,3.069701018720262,2.486494570269137,2.0571540299063282],\"type\":\"scatter3d\"}]},{\"data\":[{\"marker\":{\"color\":[0.0,35.75484025998244,26.53625144224801,19.75362654801073,14.763198745602935,11.09133467835302,8.389571889366584,6.401538876940176,4.938617459787518,3.862037049746706,3.069701018720262,2.486494570269137,2.0571540299063282,1.7410206268409614],\"colorscale\":[[0.0,\"rgb(150,0,90)\"],[0.125,\"rgb(0,0,200)\"],[0.25,\"rgb(0,25,255)\"],[0.375,\"rgb(0,152,255)\"],[0.5,\"rgb(44,255,150)\"],[0.625,\"rgb(151,255,0)\"],[0.75,\"rgb(255,234,0)\"],[0.875,\"rgb(255,111,0)\"],[1.0,\"rgb(255,0,0)\"]],\"size\":7},\"mode\":\"markers+lines\",\"x\":[0.3745401188473625,0.8317325489017311,1.224211783111528,1.5611808847373805,1.850533735517361,2.0990412766700994,2.3125112556720366,2.4959252478180165,2.6535561854036107,2.7890691674712267,2.905607928589516,3.005869006779868,3.0921653604817427,3.1664809355129333],\"y\":[0.9507143064099162,1.197197090387812,1.4080249938110094,1.5882754397251262,1.7423035018789268,1.8738446649291751,1.9861029662052991,2.081826598620451,2.163372758478217,2.232763268172065,2.2917322861206446,2.3417672295910843,2.3841438759296536,2.419956470366555],\"z\":[0.0,35.75484025998244,26.53625144224801,19.75362654801073,14.763198745602935,11.09133467835302,8.389571889366584,6.401538876940176,4.938617459787518,3.862037049746706,3.069701018720262,2.486494570269137,2.0571540299063282,1.7410206268409614],\"type\":\"scatter3d\"}]},{\"data\":[{\"marker\":{\"color\":[0.0,35.75484025998244,26.53625144224801,19.75362654801073,14.763198745602935,11.09133467835302,8.389571889366584,6.401538876940176,4.938617459787518,3.862037049746706,3.069701018720262,2.486494570269137,2.0571540299063282,1.7410206268409614,1.508180737071959],\"colorscale\":[[0.0,\"rgb(150,0,90)\"],[0.125,\"rgb(0,0,200)\"],[0.25,\"rgb(0,25,255)\"],[0.375,\"rgb(0,152,255)\"],[0.5,\"rgb(44,255,150)\"],[0.625,\"rgb(151,255,0)\"],[0.75,\"rgb(255,234,0)\"],[0.875,\"rgb(255,111,0)\"],[1.0,\"rgb(255,0,0)\"]],\"size\":7},\"mode\":\"markers+lines\",\"x\":[0.3745401188473625,0.8317325489017311,1.224211783111528,1.5611808847373805,1.850533735517361,2.0990412766700994,2.3125112556720366,2.4959252478180165,2.6535561854036107,2.7890691674712267,2.905607928589516,3.005869006779868,3.0921653604817427,3.1664809355129333,3.2305174694581775],\"y\":[0.9507143064099162,1.197197090387812,1.4080249938110094,1.5882754397251262,1.7423035018789268,1.8738446649291751,1.9861029662052991,2.081826598620451,2.163372758478217,2.232763268172065,2.2917322861206446,2.3417672295910843,2.3841438759296536,2.419956470366555,2.450143550748451],\"z\":[0.0,35.75484025998244,26.53625144224801,19.75362654801073,14.763198745602935,11.09133467835302,8.389571889366584,6.401538876940176,4.938617459787518,3.862037049746706,3.069701018720262,2.486494570269137,2.0571540299063282,1.7410206268409614,1.508180737071959],\"type\":\"scatter3d\"}]},{\"data\":[{\"marker\":{\"color\":[0.0,35.75484025998244,26.53625144224801,19.75362654801073,14.763198745602935,11.09133467835302,8.389571889366584,6.401538876940176,4.938617459787518,3.862037049746706,3.069701018720262,2.486494570269137,2.0571540299063282,1.7410206268409614,1.508180737071959,1.3366261762535963],\"colorscale\":[[0.0,\"rgb(150,0,90)\"],[0.125,\"rgb(0,0,200)\"],[0.25,\"rgb(0,25,255)\"],[0.375,\"rgb(0,152,255)\"],[0.5,\"rgb(44,255,150)\"],[0.625,\"rgb(151,255,0)\"],[0.75,\"rgb(255,234,0)\"],[0.875,\"rgb(255,111,0)\"],[1.0,\"rgb(255,0,0)\"]],\"size\":7},\"mode\":\"markers+lines\",\"x\":[0.3745401188473625,0.8317325489017311,1.224211783111528,1.5611808847373805,1.850533735517361,2.0990412766700994,2.3125112556720366,2.4959252478180165,2.6535561854036107,2.7890691674712267,2.905607928589516,3.005869006779868,3.0921653604817427,3.1664809355129333,3.2305174694581775,3.2857346377721646],\"y\":[0.9507143064099162,1.197197090387812,1.4080249938110094,1.5882754397251262,1.7423035018789268,1.8738446649291751,1.9861029662052991,2.081826598620451,2.163372758478217,2.232763268172065,2.2917322861206446,2.3417672295910843,2.3841438759296536,2.419956470366555,2.450143550748451,2.4755100984990226],\"z\":[0.0,35.75484025998244,26.53625144224801,19.75362654801073,14.763198745602935,11.09133467835302,8.389571889366584,6.401538876940176,4.938617459787518,3.862037049746706,3.069701018720262,2.486494570269137,2.0571540299063282,1.7410206268409614,1.508180737071959,1.3366261762535963],\"type\":\"scatter3d\"}]},{\"data\":[{\"marker\":{\"color\":[0.0,35.75484025998244,26.53625144224801,19.75362654801073,14.763198745602935,11.09133467835302,8.389571889366584,6.401538876940176,4.938617459787518,3.862037049746706,3.069701018720262,2.486494570269137,2.0571540299063282,1.7410206268409614,1.508180737071959,1.3366261762535963,1.2101649653654851],\"colorscale\":[[0.0,\"rgb(150,0,90)\"],[0.125,\"rgb(0,0,200)\"],[0.25,\"rgb(0,25,255)\"],[0.375,\"rgb(0,152,255)\"],[0.5,\"rgb(44,255,150)\"],[0.625,\"rgb(151,255,0)\"],[0.75,\"rgb(255,234,0)\"],[0.875,\"rgb(255,111,0)\"],[1.0,\"rgb(255,0,0)\"]],\"size\":7},\"mode\":\"markers+lines\",\"x\":[0.3745401188473625,0.8317325489017311,1.224211783111528,1.5611808847373805,1.850533735517361,2.0990412766700994,2.3125112556720366,2.4959252478180165,2.6535561854036107,2.7890691674712267,2.905607928589516,3.005869006779868,3.0921653604817427,3.1664809355129333,3.2305174694581775,3.2857346377721646,3.333384488789707],\"y\":[0.9507143064099162,1.197197090387812,1.4080249938110094,1.5882754397251262,1.7423035018789268,1.8738446649291751,1.9861029662052991,2.081826598620451,2.163372758478217,2.232763268172065,2.2917322861206446,2.3417672295910843,2.3841438759296536,2.419956470366555,2.450143550748451,2.4755100984990226,2.496746538430158],\"z\":[0.0,35.75484025998244,26.53625144224801,19.75362654801073,14.763198745602935,11.09133467835302,8.389571889366584,6.401538876940176,4.938617459787518,3.862037049746706,3.069701018720262,2.486494570269137,2.0571540299063282,1.7410206268409614,1.508180737071959,1.3366261762535963,1.2101649653654851],\"type\":\"scatter3d\"}]},{\"data\":[{\"marker\":{\"color\":[0.0,35.75484025998244,26.53625144224801,19.75362654801073,14.763198745602935,11.09133467835302,8.389571889366584,6.401538876940176,4.938617459787518,3.862037049746706,3.069701018720262,2.486494570269137,2.0571540299063282,1.7410206268409614,1.508180737071959,1.3366261762535963,1.2101649653654851,1.1168842355485544],\"colorscale\":[[0.0,\"rgb(150,0,90)\"],[0.125,\"rgb(0,0,200)\"],[0.25,\"rgb(0,25,255)\"],[0.375,\"rgb(0,152,255)\"],[0.5,\"rgb(44,255,150)\"],[0.625,\"rgb(151,255,0)\"],[0.75,\"rgb(255,234,0)\"],[0.875,\"rgb(255,111,0)\"],[1.0,\"rgb(255,0,0)\"]],\"size\":7},\"mode\":\"markers+lines\",\"x\":[0.3745401188473625,0.8317325489017311,1.224211783111528,1.5611808847373805,1.850533735517361,2.0990412766700994,2.3125112556720366,2.4959252478180165,2.6535561854036107,2.7890691674712267,2.905607928589516,3.005869006779868,3.0921653604817427,3.1664809355129333,3.2305174694581775,3.2857346377721646,3.333384488789707,3.3745409800903396],\"y\":[0.9507143064099162,1.197197090387812,1.4080249938110094,1.5882754397251262,1.7423035018789268,1.8738446649291751,1.9861029662052991,2.081826598620451,2.163372758478217,2.232763268172065,2.2917322861206446,2.3417672295910843,2.3841438759296536,2.419956470366555,2.450143550748451,2.4755100984990226,2.496746538430158,2.5144450356792536],\"z\":[0.0,35.75484025998244,26.53625144224801,19.75362654801073,14.763198745602935,11.09133467835302,8.389571889366584,6.401538876940176,4.938617459787518,3.862037049746706,3.069701018720262,2.486494570269137,2.0571540299063282,1.7410206268409614,1.508180737071959,1.3366261762535963,1.2101649653654851,1.1168842355485544],\"type\":\"scatter3d\"}]},{\"data\":[{\"marker\":{\"color\":[0.0,35.75484025998244,26.53625144224801,19.75362654801073,14.763198745602935,11.09133467835302,8.389571889366584,6.401538876940176,4.938617459787518,3.862037049746706,3.069701018720262,2.486494570269137,2.0571540299063282,1.7410206268409614,1.508180737071959,1.3366261762535963,1.2101649653654851,1.1168842355485544,1.0480193537352995],\"colorscale\":[[0.0,\"rgb(150,0,90)\"],[0.125,\"rgb(0,0,200)\"],[0.25,\"rgb(0,25,255)\"],[0.375,\"rgb(0,152,255)\"],[0.5,\"rgb(44,255,150)\"],[0.625,\"rgb(151,255,0)\"],[0.75,\"rgb(255,234,0)\"],[0.875,\"rgb(255,111,0)\"],[1.0,\"rgb(255,0,0)\"]],\"size\":7},\"mode\":\"markers+lines\",\"x\":[0.3745401188473625,0.8317325489017311,1.224211783111528,1.5611808847373805,1.850533735517361,2.0990412766700994,2.3125112556720366,2.4959252478180165,2.6535561854036107,2.7890691674712267,2.905607928589516,3.005869006779868,3.0921653604817427,3.1664809355129333,3.2305174694581775,3.2857346377721646,3.333384488789707,3.3745409800903396,3.4101253130876703],\"y\":[0.9507143064099162,1.197197090387812,1.4080249938110094,1.5882754397251262,1.7423035018789268,1.8738446649291751,1.9861029662052991,2.081826598620451,2.163372758478217,2.232763268172065,2.2917322861206446,2.3417672295910843,2.3841438759296536,2.419956470366555,2.450143550748451,2.4755100984990226,2.496746538430158,2.5144450356792536,2.5291134742774366],\"z\":[0.0,35.75484025998244,26.53625144224801,19.75362654801073,14.763198745602935,11.09133467835302,8.389571889366584,6.401538876940176,4.938617459787518,3.862037049746706,3.069701018720262,2.486494570269137,2.0571540299063282,1.7410206268409614,1.508180737071959,1.3366261762535963,1.2101649653654851,1.1168842355485544,1.0480193537352995],\"type\":\"scatter3d\"}]},{\"data\":[{\"marker\":{\"color\":[0.0,35.75484025998244,26.53625144224801,19.75362654801073,14.763198745602935,11.09133467835302,8.389571889366584,6.401538876940176,4.938617459787518,3.862037049746706,3.069701018720262,2.486494570269137,2.0571540299063282,1.7410206268409614,1.508180737071959,1.3366261762535963,1.2101649653654851,1.1168842355485544,1.0480193537352995,0.9971219137544148],\"colorscale\":[[0.0,\"rgb(150,0,90)\"],[0.125,\"rgb(0,0,200)\"],[0.25,\"rgb(0,25,255)\"],[0.375,\"rgb(0,152,255)\"],[0.5,\"rgb(44,255,150)\"],[0.625,\"rgb(151,255,0)\"],[0.75,\"rgb(255,234,0)\"],[0.875,\"rgb(255,111,0)\"],[1.0,\"rgb(255,0,0)\"]],\"size\":7},\"mode\":\"markers+lines\",\"x\":[0.3745401188473625,0.8317325489017311,1.224211783111528,1.5611808847373805,1.850533735517361,2.0990412766700994,2.3125112556720366,2.4959252478180165,2.6535561854036107,2.7890691674712267,2.905607928589516,3.005869006779868,3.0921653604817427,3.1664809355129333,3.2305174694581775,3.2857346377721646,3.333384488789707,3.3745409800903396,3.4101253130876703,3.4409276635786017],\"y\":[0.9507143064099162,1.197197090387812,1.4080249938110094,1.5882754397251262,1.7423035018789268,1.8738446649291751,1.9861029662052991,2.081826598620451,2.163372758478217,2.232763268172065,2.2917322861206446,2.3417672295910843,2.3841438759296536,2.419956470366555,2.450143550748451,2.4755100984990226,2.496746538430158,2.5144450356792536,2.5291134742774366,2.541187447154736],\"z\":[0.0,35.75484025998244,26.53625144224801,19.75362654801073,14.763198745602935,11.09133467835302,8.389571889366584,6.401538876940176,4.938617459787518,3.862037049746706,3.069701018720262,2.486494570269137,2.0571540299063282,1.7410206268409614,1.508180737071959,1.3366261762535963,1.2101649653654851,1.1168842355485544,1.0480193537352995,0.9971219137544148],\"type\":\"scatter3d\"}]},{\"data\":[{\"marker\":{\"color\":[0.0,35.75484025998244,26.53625144224801,19.75362654801073,14.763198745602935,11.09133467835302,8.389571889366584,6.401538876940176,4.938617459787518,3.862037049746706,3.069701018720262,2.486494570269137,2.0571540299063282,1.7410206268409614,1.508180737071959,1.3366261762535963,1.2101649653654851,1.1168842355485544,1.0480193537352995,0.9971219137544148,0.9594476092658816],\"colorscale\":[[0.0,\"rgb(150,0,90)\"],[0.125,\"rgb(0,0,200)\"],[0.25,\"rgb(0,25,255)\"],[0.375,\"rgb(0,152,255)\"],[0.5,\"rgb(44,255,150)\"],[0.625,\"rgb(151,255,0)\"],[0.75,\"rgb(255,234,0)\"],[0.875,\"rgb(255,111,0)\"],[1.0,\"rgb(255,0,0)\"]],\"size\":7},\"mode\":\"markers+lines\",\"x\":[0.3745401188473625,0.8317325489017311,1.224211783111528,1.5611808847373805,1.850533735517361,2.0990412766700994,2.3125112556720366,2.4959252478180165,2.6535561854036107,2.7890691674712267,2.905607928589516,3.005869006779868,3.0921653604817427,3.1664809355129333,3.2305174694581775,3.2857346377721646,3.333384488789707,3.3745409800903396,3.4101253130876703,3.4409276635786017,3.4676258209550825],\"y\":[0.9507143064099162,1.197197090387812,1.4080249938110094,1.5882754397251262,1.7423035018789268,1.8738446649291751,1.9861029662052991,2.081826598620451,2.163372758478217,2.232763268172065,2.2917322861206446,2.3417672295910843,2.3841438759296536,2.419956470366555,2.450143550748451,2.4755100984990226,2.496746538430158,2.5144450356792536,2.5291134742774366,2.541187447154736,2.551040540470749],\"z\":[0.0,35.75484025998244,26.53625144224801,19.75362654801073,14.763198745602935,11.09133467835302,8.389571889366584,6.401538876940176,4.938617459787518,3.862037049746706,3.069701018720262,2.486494570269137,2.0571540299063282,1.7410206268409614,1.508180737071959,1.3366261762535963,1.2101649653654851,1.1168842355485544,1.0480193537352995,0.9971219137544148,0.9594476092658816],\"type\":\"scatter3d\"}]},{\"data\":[{\"marker\":{\"color\":[0.0,35.75484025998244,26.53625144224801,19.75362654801073,14.763198745602935,11.09133467835302,8.389571889366584,6.401538876940176,4.938617459787518,3.862037049746706,3.069701018720262,2.486494570269137,2.0571540299063282,1.7410206268409614,1.508180737071959,1.3366261762535963,1.2101649653654851,1.1168842355485544,1.0480193537352995,0.9971219137544148,0.9594476092658816,0.931505878541736],\"colorscale\":[[0.0,\"rgb(150,0,90)\"],[0.125,\"rgb(0,0,200)\"],[0.25,\"rgb(0,25,255)\"],[0.375,\"rgb(0,152,255)\"],[0.5,\"rgb(44,255,150)\"],[0.625,\"rgb(151,255,0)\"],[0.75,\"rgb(255,234,0)\"],[0.875,\"rgb(255,111,0)\"],[1.0,\"rgb(255,0,0)\"]],\"size\":7},\"mode\":\"markers+lines\",\"x\":[0.3745401188473625,0.8317325489017311,1.224211783111528,1.5611808847373805,1.850533735517361,2.0990412766700994,2.3125112556720366,2.4959252478180165,2.6535561854036107,2.7890691674712267,2.905607928589516,3.005869006779868,3.0921653604817427,3.1664809355129333,3.2305174694581775,3.2857346377721646,3.333384488789707,3.3745409800903396,3.4101253130876703,3.4409276635786017,3.4676258209550825,3.4908011758451174],\"y\":[0.9507143064099162,1.197197090387812,1.4080249938110094,1.5882754397251262,1.7423035018789268,1.8738446649291751,1.9861029662052991,2.081826598620451,2.163372758478217,2.232763268172065,2.2917322861206446,2.3417672295910843,2.3841438759296536,2.419956470366555,2.450143550748451,2.4755100984990226,2.496746538430158,2.5144450356792536,2.5291134742774366,2.541187447154736,2.551040540470749,2.558993154916269],\"z\":[0.0,35.75484025998244,26.53625144224801,19.75362654801073,14.763198745602935,11.09133467835302,8.389571889366584,6.401538876940176,4.938617459787518,3.862037049746706,3.069701018720262,2.486494570269137,2.0571540299063282,1.7410206268409614,1.508180737071959,1.3366261762535963,1.2101649653654851,1.1168842355485544,1.0480193537352995,0.9971219137544148,0.9594476092658816,0.931505878541736],\"type\":\"scatter3d\"}]},{\"data\":[{\"marker\":{\"color\":[0.0,35.75484025998244,26.53625144224801,19.75362654801073,14.763198745602935,11.09133467835302,8.389571889366584,6.401538876940176,4.938617459787518,3.862037049746706,3.069701018720262,2.486494570269137,2.0571540299063282,1.7410206268409614,1.508180737071959,1.3366261762535963,1.2101649653654851,1.1168842355485544,1.0480193537352995,0.9971219137544148,0.9594476092658816,0.931505878541736,0.9107285683127627],\"colorscale\":[[0.0,\"rgb(150,0,90)\"],[0.125,\"rgb(0,0,200)\"],[0.25,\"rgb(0,25,255)\"],[0.375,\"rgb(0,152,255)\"],[0.5,\"rgb(44,255,150)\"],[0.625,\"rgb(151,255,0)\"],[0.75,\"rgb(255,234,0)\"],[0.875,\"rgb(255,111,0)\"],[1.0,\"rgb(255,0,0)\"]],\"size\":7},\"mode\":\"markers+lines\",\"x\":[0.3745401188473625,0.8317325489017311,1.224211783111528,1.5611808847373805,1.850533735517361,2.0990412766700994,2.3125112556720366,2.4959252478180165,2.6535561854036107,2.7890691674712267,2.905607928589516,3.005869006779868,3.0921653604817427,3.1664809355129333,3.2305174694581775,3.2857346377721646,3.333384488789707,3.3745409800903396,3.4101253130876703,3.4409276635786017,3.4676258209550825,3.4908011758451174,3.5109524333895292],\"y\":[0.9507143064099162,1.197197090387812,1.4080249938110094,1.5882754397251262,1.7423035018789268,1.8738446649291751,1.9861029662052991,2.081826598620451,2.163372758478217,2.232763268172065,2.2917322861206446,2.3417672295910843,2.3841438759296536,2.419956470366555,2.450143550748451,2.4755100984990226,2.496746538430158,2.5144450356792536,2.5291134742774366,2.541187447154736,2.551040540470749,2.558993154916269,2.5653200721131384],\"z\":[0.0,35.75484025998244,26.53625144224801,19.75362654801073,14.763198745602935,11.09133467835302,8.389571889366584,6.401538876940176,4.938617459787518,3.862037049746706,3.069701018720262,2.486494570269137,2.0571540299063282,1.7410206268409614,1.508180737071959,1.3366261762535963,1.2101649653654851,1.1168842355485544,1.0480193537352995,0.9971219137544148,0.9594476092658816,0.931505878541736,0.9107285683127627],\"type\":\"scatter3d\"}]},{\"data\":[{\"marker\":{\"color\":[0.0,35.75484025998244,26.53625144224801,19.75362654801073,14.763198745602935,11.09133467835302,8.389571889366584,6.401538876940176,4.938617459787518,3.862037049746706,3.069701018720262,2.486494570269137,2.0571540299063282,1.7410206268409614,1.508180737071959,1.3366261762535963,1.2101649653654851,1.1168842355485544,1.0480193537352995,0.9971219137544148,0.9594476092658816,0.931505878541736,0.9107285683127627,0.895226162531146],\"colorscale\":[[0.0,\"rgb(150,0,90)\"],[0.125,\"rgb(0,0,200)\"],[0.25,\"rgb(0,25,255)\"],[0.375,\"rgb(0,152,255)\"],[0.5,\"rgb(44,255,150)\"],[0.625,\"rgb(151,255,0)\"],[0.75,\"rgb(255,234,0)\"],[0.875,\"rgb(255,111,0)\"],[1.0,\"rgb(255,0,0)\"]],\"size\":7},\"mode\":\"markers+lines\",\"x\":[0.3745401188473625,0.8317325489017311,1.224211783111528,1.5611808847373805,1.850533735517361,2.0990412766700994,2.3125112556720366,2.4959252478180165,2.6535561854036107,2.7890691674712267,2.905607928589516,3.005869006779868,3.0921653604817427,3.1664809355129333,3.2305174694581775,3.2857346377721646,3.333384488789707,3.3745409800903396,3.4101253130876703,3.4409276635786017,3.4676258209550825,3.4908011758451174,3.5109524333895292,3.5285073757004275],\"y\":[0.9507143064099162,1.197197090387812,1.4080249938110094,1.5882754397251262,1.7423035018789268,1.8738446649291751,1.9861029662052991,2.081826598620451,2.163372758478217,2.232763268172065,2.2917322861206446,2.3417672295910843,2.3841438759296536,2.419956470366555,2.450143550748451,2.4755100984990226,2.496746538430158,2.5144450356792536,2.5291134742774366,2.541187447154736,2.551040540470749,2.558993154916269,2.5653200721131384,2.5702569446318644],\"z\":[0.0,35.75484025998244,26.53625144224801,19.75362654801073,14.763198745602935,11.09133467835302,8.389571889366584,6.401538876940176,4.938617459787518,3.862037049746706,3.069701018720262,2.486494570269137,2.0571540299063282,1.7410206268409614,1.508180737071959,1.3366261762535963,1.2101649653654851,1.1168842355485544,1.0480193537352995,0.9971219137544148,0.9594476092658816,0.931505878541736,0.9107285683127627,0.895226162531146],\"type\":\"scatter3d\"}]},{\"data\":[{\"marker\":{\"color\":[0.0,35.75484025998244,26.53625144224801,19.75362654801073,14.763198745602935,11.09133467835302,8.389571889366584,6.401538876940176,4.938617459787518,3.862037049746706,3.069701018720262,2.486494570269137,2.0571540299063282,1.7410206268409614,1.508180737071959,1.3366261762535963,1.2101649653654851,1.1168842355485544,1.0480193537352995,0.9971219137544148,0.9594476092658816,0.931505878541736,0.9107285683127627,0.895226162531146,0.8836084345467929],\"colorscale\":[[0.0,\"rgb(150,0,90)\"],[0.125,\"rgb(0,0,200)\"],[0.25,\"rgb(0,25,255)\"],[0.375,\"rgb(0,152,255)\"],[0.5,\"rgb(44,255,150)\"],[0.625,\"rgb(151,255,0)\"],[0.75,\"rgb(255,234,0)\"],[0.875,\"rgb(255,111,0)\"],[1.0,\"rgb(255,0,0)\"]],\"size\":7},\"mode\":\"markers+lines\",\"x\":[0.3745401188473625,0.8317325489017311,1.224211783111528,1.5611808847373805,1.850533735517361,2.0990412766700994,2.3125112556720366,2.4959252478180165,2.6535561854036107,2.7890691674712267,2.905607928589516,3.005869006779868,3.0921653604817427,3.1664809355129333,3.2305174694581775,3.2857346377721646,3.333384488789707,3.3745409800903396,3.4101253130876703,3.4409276635786017,3.4676258209550825,3.4908011758451174,3.5109524333895292,3.5285073757004275,3.5438329510203994],\"y\":[0.9507143064099162,1.197197090387812,1.4080249938110094,1.5882754397251262,1.7423035018789268,1.8738446649291751,1.9861029662052991,2.081826598620451,2.163372758478217,2.232763268172065,2.2917322861206446,2.3417672295910843,2.3841438759296536,2.419956470366555,2.450143550748451,2.4755100984990226,2.496746538430158,2.5144450356792536,2.5291134742774366,2.541187447154736,2.551040540470749,2.558993154916269,2.5653200721131384,2.5702569446318644,2.5740058627507576],\"z\":[0.0,35.75484025998244,26.53625144224801,19.75362654801073,14.763198745602935,11.09133467835302,8.389571889366584,6.401538876940176,4.938617459787518,3.862037049746706,3.069701018720262,2.486494570269137,2.0571540299063282,1.7410206268409614,1.508180737071959,1.3366261762535963,1.2101649653654851,1.1168842355485544,1.0480193537352995,0.9971219137544148,0.9594476092658816,0.931505878541736,0.9107285683127627,0.895226162531146,0.8836084345467929],\"type\":\"scatter3d\"}]},{\"data\":[{\"marker\":{\"color\":[0.0,35.75484025998244,26.53625144224801,19.75362654801073,14.763198745602935,11.09133467835302,8.389571889366584,6.401538876940176,4.938617459787518,3.862037049746706,3.069701018720262,2.486494570269137,2.0571540299063282,1.7410206268409614,1.508180737071959,1.3366261762535963,1.2101649653654851,1.1168842355485544,1.0480193537352995,0.9971219137544148,0.9594476092658816,0.931505878541736,0.9107285683127627,0.895226162531146,0.8836084345467929,0.8748524969907335],\"colorscale\":[[0.0,\"rgb(150,0,90)\"],[0.125,\"rgb(0,0,200)\"],[0.25,\"rgb(0,25,255)\"],[0.375,\"rgb(0,152,255)\"],[0.5,\"rgb(44,255,150)\"],[0.625,\"rgb(151,255,0)\"],[0.75,\"rgb(255,234,0)\"],[0.875,\"rgb(255,111,0)\"],[1.0,\"rgb(255,0,0)\"]],\"size\":7},\"mode\":\"markers+lines\",\"x\":[0.3745401188473625,0.8317325489017311,1.224211783111528,1.5611808847373805,1.850533735517361,2.0990412766700994,2.3125112556720366,2.4959252478180165,2.6535561854036107,2.7890691674712267,2.905607928589516,3.005869006779868,3.0921653604817427,3.1664809355129333,3.2305174694581775,3.2857346377721646,3.333384488789707,3.3745409800903396,3.4101253130876703,3.4409276635786017,3.4676258209550825,3.4908011758451174,3.5109524333895292,3.5285073757004275,3.5438329510203994,3.5572439276222223],\"y\":[0.9507143064099162,1.197197090387812,1.4080249938110094,1.5882754397251262,1.7423035018789268,1.8738446649291751,1.9861029662052991,2.081826598620451,2.163372758478217,2.232763268172065,2.2917322861206446,2.3417672295910843,2.3841438759296536,2.419956470366555,2.450143550748451,2.4755100984990226,2.496746538430158,2.5144450356792536,2.5291134742774366,2.541187447154736,2.551040540470749,2.558993154916269,2.5653200721131384,2.5702569446318644,2.5740058627507576,2.576740129297298],\"z\":[0.0,35.75484025998244,26.53625144224801,19.75362654801073,14.763198745602935,11.09133467835302,8.389571889366584,6.401538876940176,4.938617459787518,3.862037049746706,3.069701018720262,2.486494570269137,2.0571540299063282,1.7410206268409614,1.508180737071959,1.3366261762535963,1.2101649653654851,1.1168842355485544,1.0480193537352995,0.9971219137544148,0.9594476092658816,0.931505878541736,0.9107285683127627,0.895226162531146,0.8836084345467929,0.8748524969907335],\"type\":\"scatter3d\"}]},{\"data\":[{\"marker\":{\"color\":[0.0,35.75484025998244,26.53625144224801,19.75362654801073,14.763198745602935,11.09133467835302,8.389571889366584,6.401538876940176,4.938617459787518,3.862037049746706,3.069701018720262,2.486494570269137,2.0571540299063282,1.7410206268409614,1.508180737071959,1.3366261762535963,1.2101649653654851,1.1168842355485544,1.0480193537352995,0.9971219137544148,0.9594476092658816,0.931505878541736,0.9107285683127627,0.895226162531146,0.8836084345467929,0.8748524969907335,0.8682057231829385],\"colorscale\":[[0.0,\"rgb(150,0,90)\"],[0.125,\"rgb(0,0,200)\"],[0.25,\"rgb(0,25,255)\"],[0.375,\"rgb(0,152,255)\"],[0.5,\"rgb(44,255,150)\"],[0.625,\"rgb(151,255,0)\"],[0.75,\"rgb(255,234,0)\"],[0.875,\"rgb(255,111,0)\"],[1.0,\"rgb(255,0,0)\"]],\"size\":7},\"mode\":\"markers+lines\",\"x\":[0.3745401188473625,0.8317325489017311,1.224211783111528,1.5611808847373805,1.850533735517361,2.0990412766700994,2.3125112556720366,2.4959252478180165,2.6535561854036107,2.7890691674712267,2.905607928589516,3.005869006779868,3.0921653604817427,3.1664809355129333,3.2305174694581775,3.2857346377721646,3.333384488789707,3.3745409800903396,3.4101253130876703,3.4409276635786017,3.4676258209550825,3.4908011758451174,3.5109524333895292,3.5285073757004275,3.5438329510203994,3.5572439276222223,3.569010316625877],\"y\":[0.9507143064099162,1.197197090387812,1.4080249938110094,1.5882754397251262,1.7423035018789268,1.8738446649291751,1.9861029662052991,2.081826598620451,2.163372758478217,2.232763268172065,2.2917322861206446,2.3417672295910843,2.3841438759296536,2.419956470366555,2.450143550748451,2.4755100984990226,2.496746538430158,2.5144450356792536,2.5291134742774366,2.541187447154736,2.551040540470749,2.558993154916269,2.5653200721131384,2.5702569446318644,2.5740058627507576,2.576740129297298,2.5786083552282077],\"z\":[0.0,35.75484025998244,26.53625144224801,19.75362654801073,14.763198745602935,11.09133467835302,8.389571889366584,6.401538876940176,4.938617459787518,3.862037049746706,3.069701018720262,2.486494570269137,2.0571540299063282,1.7410206268409614,1.508180737071959,1.3366261762535963,1.2101649653654851,1.1168842355485544,1.0480193537352995,0.9971219137544148,0.9594476092658816,0.931505878541736,0.9107285683127627,0.895226162531146,0.8836084345467929,0.8748524969907335,0.8682057231829385],\"type\":\"scatter3d\"}]},{\"data\":[{\"marker\":{\"color\":[0.0,35.75484025998244,26.53625144224801,19.75362654801073,14.763198745602935,11.09133467835302,8.389571889366584,6.401538876940176,4.938617459787518,3.862037049746706,3.069701018720262,2.486494570269137,2.0571540299063282,1.7410206268409614,1.508180737071959,1.3366261762535963,1.2101649653654851,1.1168842355485544,1.0480193537352995,0.9971219137544148,0.9594476092658816,0.931505878541736,0.9107285683127627,0.895226162531146,0.8836084345467929,0.8748524969907335,0.8682057231829385,0.8631143242795148],\"colorscale\":[[0.0,\"rgb(150,0,90)\"],[0.125,\"rgb(0,0,200)\"],[0.25,\"rgb(0,25,255)\"],[0.375,\"rgb(0,152,255)\"],[0.5,\"rgb(44,255,150)\"],[0.625,\"rgb(151,255,0)\"],[0.75,\"rgb(255,234,0)\"],[0.875,\"rgb(255,111,0)\"],[1.0,\"rgb(255,0,0)\"]],\"size\":7},\"mode\":\"markers+lines\",\"x\":[0.3745401188473625,0.8317325489017311,1.224211783111528,1.5611808847373805,1.850533735517361,2.0990412766700994,2.3125112556720366,2.4959252478180165,2.6535561854036107,2.7890691674712267,2.905607928589516,3.005869006779868,3.0921653604817427,3.1664809355129333,3.2305174694581775,3.2857346377721646,3.333384488789707,3.3745409800903396,3.4101253130876703,3.4409276635786017,3.4676258209550825,3.4908011758451174,3.5109524333895292,3.5285073757004275,3.5438329510203994,3.5572439276222223,3.569010316625877,3.5793637388639135],\"y\":[0.9507143064099162,1.197197090387812,1.4080249938110094,1.5882754397251262,1.7423035018789268,1.8738446649291751,1.9861029662052991,2.081826598620451,2.163372758478217,2.232763268172065,2.2917322861206446,2.3417672295910843,2.3841438759296536,2.419956470366555,2.450143550748451,2.4755100984990226,2.496746538430158,2.5144450356792536,2.5291134742774366,2.541187447154736,2.551040540470749,2.558993154916269,2.5653200721131384,2.5702569446318644,2.5740058627507576,2.576740129297298,2.5786083552282077,2.5797379725784473],\"z\":[0.0,35.75484025998244,26.53625144224801,19.75362654801073,14.763198745602935,11.09133467835302,8.389571889366584,6.401538876940176,4.938617459787518,3.862037049746706,3.069701018720262,2.486494570269137,2.0571540299063282,1.7410206268409614,1.508180737071959,1.3366261762535963,1.2101649653654851,1.1168842355485544,1.0480193537352995,0.9971219137544148,0.9594476092658816,0.931505878541736,0.9107285683127627,0.895226162531146,0.8836084345467929,0.8748524969907335,0.8682057231829385,0.8631143242795148],\"type\":\"scatter3d\"}]},{\"data\":[{\"marker\":{\"color\":[0.0,35.75484025998244,26.53625144224801,19.75362654801073,14.763198745602935,11.09133467835302,8.389571889366584,6.401538876940176,4.938617459787518,3.862037049746706,3.069701018720262,2.486494570269137,2.0571540299063282,1.7410206268409614,1.508180737071959,1.3366261762535963,1.2101649653654851,1.1168842355485544,1.0480193537352995,0.9971219137544148,0.9594476092658816,0.931505878541736,0.9107285683127627,0.895226162531146,0.8836084345467929,0.8748524969907335,0.8682057231829385,0.8631143242795148,0.859170801905754],\"colorscale\":[[0.0,\"rgb(150,0,90)\"],[0.125,\"rgb(0,0,200)\"],[0.25,\"rgb(0,25,255)\"],[0.375,\"rgb(0,152,255)\"],[0.5,\"rgb(44,255,150)\"],[0.625,\"rgb(151,255,0)\"],[0.75,\"rgb(255,234,0)\"],[0.875,\"rgb(255,111,0)\"],[1.0,\"rgb(255,0,0)\"]],\"size\":7},\"mode\":\"markers+lines\",\"x\":[0.3745401188473625,0.8317325489017311,1.224211783111528,1.5611808847373805,1.850533735517361,2.0990412766700994,2.3125112556720366,2.4959252478180165,2.6535561854036107,2.7890691674712267,2.905607928589516,3.005869006779868,3.0921653604817427,3.1664809355129333,3.2305174694581775,3.2857346377721646,3.333384488789707,3.3745409800903396,3.4101253130876703,3.4409276635786017,3.4676258209550825,3.4908011758451174,3.5109524333895292,3.5285073757004275,3.5438329510203994,3.5572439276222223,3.569010316625877,3.5793637388639135,3.588502886012471],\"y\":[0.9507143064099162,1.197197090387812,1.4080249938110094,1.5882754397251262,1.7423035018789268,1.8738446649291751,1.9861029662052991,2.081826598620451,2.163372758478217,2.232763268172065,2.2917322861206446,2.3417672295910843,2.3841438759296536,2.419956470366555,2.450143550748451,2.4755100984990226,2.496746538430158,2.5144450356792536,2.5291134742774366,2.541187447154736,2.551040540470749,2.558993154916269,2.5653200721131384,2.5702569446318644,2.5740058627507576,2.576740129297298,2.5786083552282077,2.5797379725784473,2.5802382476629506],\"z\":[0.0,35.75484025998244,26.53625144224801,19.75362654801073,14.763198745602935,11.09133467835302,8.389571889366584,6.401538876940176,4.938617459787518,3.862037049746706,3.069701018720262,2.486494570269137,2.0571540299063282,1.7410206268409614,1.508180737071959,1.3366261762535963,1.2101649653654851,1.1168842355485544,1.0480193537352995,0.9971219137544148,0.9594476092658816,0.931505878541736,0.9107285683127627,0.895226162531146,0.8836084345467929,0.8748524969907335,0.8682057231829385,0.8631143242795148,0.859170801905754],\"type\":\"scatter3d\"}]},{\"data\":[{\"marker\":{\"color\":[0.0,35.75484025998244,26.53625144224801,19.75362654801073,14.763198745602935,11.09133467835302,8.389571889366584,6.401538876940176,4.938617459787518,3.862037049746706,3.069701018720262,2.486494570269137,2.0571540299063282,1.7410206268409614,1.508180737071959,1.3366261762535963,1.2101649653654851,1.1168842355485544,1.0480193537352995,0.9971219137544148,0.9594476092658816,0.931505878541736,0.9107285683127627,0.895226162531146,0.8836084345467929,0.8748524969907335,0.8682057231829385,0.8631143242795148,0.859170801905754,0.8560752878950456],\"colorscale\":[[0.0,\"rgb(150,0,90)\"],[0.125,\"rgb(0,0,200)\"],[0.25,\"rgb(0,25,255)\"],[0.375,\"rgb(0,152,255)\"],[0.5,\"rgb(44,255,150)\"],[0.625,\"rgb(151,255,0)\"],[0.75,\"rgb(255,234,0)\"],[0.875,\"rgb(255,111,0)\"],[1.0,\"rgb(255,0,0)\"]],\"size\":7},\"mode\":\"markers+lines\",\"x\":[0.3745401188473625,0.8317325489017311,1.224211783111528,1.5611808847373805,1.850533735517361,2.0990412766700994,2.3125112556720366,2.4959252478180165,2.6535561854036107,2.7890691674712267,2.905607928589516,3.005869006779868,3.0921653604817427,3.1664809355129333,3.2305174694581775,3.2857346377721646,3.333384488789707,3.3745409800903396,3.4101253130876703,3.4409276635786017,3.4676258209550825,3.4908011758451174,3.5109524333895292,3.5285073757004275,3.5438329510203994,3.5572439276222223,3.569010316625877,3.5793637388639135,3.588502886012471,3.596598204835678],\"y\":[0.9507143064099162,1.197197090387812,1.4080249938110094,1.5882754397251262,1.7423035018789268,1.8738446649291751,1.9861029662052991,2.081826598620451,2.163372758478217,2.232763268172065,2.2917322861206446,2.3417672295910843,2.3841438759296536,2.419956470366555,2.450143550748451,2.4755100984990226,2.496746538430158,2.5144450356792536,2.5291134742774366,2.541187447154736,2.551040540470749,2.558993154916269,2.5653200721131384,2.5702569446318644,2.5740058627507576,2.576740129297298,2.5786083552282077,2.5797379725784473,2.5802382476629506,2.5802028656240554],\"z\":[0.0,35.75484025998244,26.53625144224801,19.75362654801073,14.763198745602935,11.09133467835302,8.389571889366584,6.401538876940176,4.938617459787518,3.862037049746706,3.069701018720262,2.486494570269137,2.0571540299063282,1.7410206268409614,1.508180737071959,1.3366261762535963,1.2101649653654851,1.1168842355485544,1.0480193537352995,0.9971219137544148,0.9594476092658816,0.931505878541736,0.9107285683127627,0.895226162531146,0.8836084345467929,0.8748524969907335,0.8682057231829385,0.8631143242795148,0.859170801905754,0.8560752878950456],\"type\":\"scatter3d\"}]},{\"data\":[{\"marker\":{\"color\":[0.0,35.75484025998244,26.53625144224801,19.75362654801073,14.763198745602935,11.09133467835302,8.389571889366584,6.401538876940176,4.938617459787518,3.862037049746706,3.069701018720262,2.486494570269137,2.0571540299063282,1.7410206268409614,1.508180737071959,1.3366261762535963,1.2101649653654851,1.1168842355485544,1.0480193537352995,0.9971219137544148,0.9594476092658816,0.931505878541736,0.9107285683127627,0.895226162531146,0.8836084345467929,0.8748524969907335,0.8682057231829385,0.8631143242795148,0.859170801905754,0.8560752878950456,0.8536071010739922],\"colorscale\":[[0.0,\"rgb(150,0,90)\"],[0.125,\"rgb(0,0,200)\"],[0.25,\"rgb(0,25,255)\"],[0.375,\"rgb(0,152,255)\"],[0.5,\"rgb(44,255,150)\"],[0.625,\"rgb(151,255,0)\"],[0.75,\"rgb(255,234,0)\"],[0.875,\"rgb(255,111,0)\"],[1.0,\"rgb(255,0,0)\"]],\"size\":7},\"mode\":\"markers+lines\",\"x\":[0.3745401188473625,0.8317325489017311,1.224211783111528,1.5611808847373805,1.850533735517361,2.0990412766700994,2.3125112556720366,2.4959252478180165,2.6535561854036107,2.7890691674712267,2.905607928589516,3.005869006779868,3.0921653604817427,3.1664809355129333,3.2305174694581775,3.2857346377721646,3.333384488789707,3.3745409800903396,3.4101253130876703,3.4409276635786017,3.4676258209550825,3.4908011758451174,3.5109524333895292,3.5285073757004275,3.5438329510203994,3.5572439276222223,3.569010316625877,3.5793637388639135,3.588502886012471,3.596598204835678,3.603795915061564],\"y\":[0.9507143064099162,1.197197090387812,1.4080249938110094,1.5882754397251262,1.7423035018789268,1.8738446649291751,1.9861029662052991,2.081826598620451,2.163372758478217,2.232763268172065,2.2917322861206446,2.3417672295910843,2.3841438759296536,2.419956470366555,2.450143550748451,2.4755100984990226,2.496746538430158,2.5144450356792536,2.5291134742774366,2.541187447154736,2.551040540470749,2.558993154916269,2.5653200721131384,2.5702569446318644,2.5740058627507576,2.576740129297298,2.5786083552282077,2.5797379725784473,2.5802382476629506,2.5802028656240554,2.5797121473040545],\"z\":[0.0,35.75484025998244,26.53625144224801,19.75362654801073,14.763198745602935,11.09133467835302,8.389571889366584,6.401538876940176,4.938617459787518,3.862037049746706,3.069701018720262,2.486494570269137,2.0571540299063282,1.7410206268409614,1.508180737071959,1.3366261762535963,1.2101649653654851,1.1168842355485544,1.0480193537352995,0.9971219137544148,0.9594476092658816,0.931505878541736,0.9107285683127627,0.895226162531146,0.8836084345467929,0.8748524969907335,0.8682057231829385,0.8631143242795148,0.859170801905754,0.8560752878950456,0.8536071010739922],\"type\":\"scatter3d\"}]},{\"data\":[{\"marker\":{\"color\":[0.0,35.75484025998244,26.53625144224801,19.75362654801073,14.763198745602935,11.09133467835302,8.389571889366584,6.401538876940176,4.938617459787518,3.862037049746706,3.069701018720262,2.486494570269137,2.0571540299063282,1.7410206268409614,1.508180737071959,1.3366261762535963,1.2101649653654851,1.1168842355485544,1.0480193537352995,0.9971219137544148,0.9594476092658816,0.931505878541736,0.9107285683127627,0.895226162531146,0.8836084345467929,0.8748524969907335,0.8682057231829385,0.8631143242795148,0.859170801905754,0.8560752878950456,0.8536071010739922,0.8516038209509867],\"colorscale\":[[0.0,\"rgb(150,0,90)\"],[0.125,\"rgb(0,0,200)\"],[0.25,\"rgb(0,25,255)\"],[0.375,\"rgb(0,152,255)\"],[0.5,\"rgb(44,255,150)\"],[0.625,\"rgb(151,255,0)\"],[0.75,\"rgb(255,234,0)\"],[0.875,\"rgb(255,111,0)\"],[1.0,\"rgb(255,0,0)\"]],\"size\":7},\"mode\":\"markers+lines\",\"x\":[0.3745401188473625,0.8317325489017311,1.224211783111528,1.5611808847373805,1.850533735517361,2.0990412766700994,2.3125112556720366,2.4959252478180165,2.6535561854036107,2.7890691674712267,2.905607928589516,3.005869006779868,3.0921653604817427,3.1664809355129333,3.2305174694581775,3.2857346377721646,3.333384488789707,3.3745409800903396,3.4101253130876703,3.4409276635786017,3.4676258209550825,3.4908011758451174,3.5109524333895292,3.5285073757004275,3.5438329510203994,3.5572439276222223,3.569010316625877,3.5793637388639135,3.588502886012471,3.596598204835678,3.603795915061564,3.6102214556855614],\"y\":[0.9507143064099162,1.197197090387812,1.4080249938110094,1.5882754397251262,1.7423035018789268,1.8738446649291751,1.9861029662052991,2.081826598620451,2.163372758478217,2.232763268172065,2.2917322861206446,2.3417672295910843,2.3841438759296536,2.419956470366555,2.450143550748451,2.4755100984990226,2.496746538430158,2.5144450356792536,2.5291134742774366,2.541187447154736,2.551040540470749,2.558993154916269,2.5653200721131384,2.5702569446318644,2.5740058627507576,2.576740129297298,2.5786083552282077,2.5797379725784473,2.5802382476629506,2.5802028656240554,2.5797121473040545,2.5788349507474986],\"z\":[0.0,35.75484025998244,26.53625144224801,19.75362654801073,14.763198745602935,11.09133467835302,8.389571889366584,6.401538876940176,4.938617459787518,3.862037049746706,3.069701018720262,2.486494570269137,2.0571540299063282,1.7410206268409614,1.508180737071959,1.3366261762535963,1.2101649653654851,1.1168842355485544,1.0480193537352995,0.9971219137544148,0.9594476092658816,0.931505878541736,0.9107285683127627,0.895226162531146,0.8836084345467929,0.8748524969907335,0.8682057231829385,0.8631143242795148,0.859170801905754,0.8560752878950456,0.8536071010739922,0.8516038209509867],\"type\":\"scatter3d\"}]},{\"data\":[{\"marker\":{\"color\":[0.0,35.75484025998244,26.53625144224801,19.75362654801073,14.763198745602935,11.09133467835302,8.389571889366584,6.401538876940176,4.938617459787518,3.862037049746706,3.069701018720262,2.486494570269137,2.0571540299063282,1.7410206268409614,1.508180737071959,1.3366261762535963,1.2101649653654851,1.1168842355485544,1.0480193537352995,0.9971219137544148,0.9594476092658816,0.931505878541736,0.9107285683127627,0.895226162531146,0.8836084345467929,0.8748524969907335,0.8682057231829385,0.8631143242795148,0.859170801905754,0.8560752878950456,0.8536071010739922,0.8516038209509867,0.8499458917545191],\"colorscale\":[[0.0,\"rgb(150,0,90)\"],[0.125,\"rgb(0,0,200)\"],[0.25,\"rgb(0,25,255)\"],[0.375,\"rgb(0,152,255)\"],[0.5,\"rgb(44,255,150)\"],[0.625,\"rgb(151,255,0)\"],[0.75,\"rgb(255,234,0)\"],[0.875,\"rgb(255,111,0)\"],[1.0,\"rgb(255,0,0)\"]],\"size\":7},\"mode\":\"markers+lines\",\"x\":[0.3745401188473625,0.8317325489017311,1.224211783111528,1.5611808847373805,1.850533735517361,2.0990412766700994,2.3125112556720366,2.4959252478180165,2.6535561854036107,2.7890691674712267,2.905607928589516,3.005869006779868,3.0921653604817427,3.1664809355129333,3.2305174694581775,3.2857346377721646,3.333384488789707,3.3745409800903396,3.4101253130876703,3.4409276635786017,3.4676258209550825,3.4908011758451174,3.5109524333895292,3.5285073757004275,3.5438329510203994,3.5572439276222223,3.569010316625877,3.5793637388639135,3.588502886012471,3.596598204835678,3.603795915061564,3.6102214556855614,3.6159824410121897],\"y\":[0.9507143064099162,1.197197090387812,1.4080249938110094,1.5882754397251262,1.7423035018789268,1.8738446649291751,1.9861029662052991,2.081826598620451,2.163372758478217,2.232763268172065,2.2917322861206446,2.3417672295910843,2.3841438759296536,2.419956470366555,2.450143550748451,2.4755100984990226,2.496746538430158,2.5144450356792536,2.5291134742774366,2.541187447154736,2.551040540470749,2.558993154916269,2.5653200721131384,2.5702569446318644,2.5740058627507576,2.576740129297298,2.5786083552282077,2.5797379725784473,2.5802382476629506,2.5802028656240554,2.5797121473040545,2.5788349507474986,2.577630302197141],\"z\":[0.0,35.75484025998244,26.53625144224801,19.75362654801073,14.763198745602935,11.09133467835302,8.389571889366584,6.401538876940176,4.938617459787518,3.862037049746706,3.069701018720262,2.486494570269137,2.0571540299063282,1.7410206268409614,1.508180737071959,1.3366261762535963,1.2101649653654851,1.1168842355485544,1.0480193537352995,0.9971219137544148,0.9594476092658816,0.931505878541736,0.9107285683127627,0.895226162531146,0.8836084345467929,0.8748524969907335,0.8682057231829385,0.8631143242795148,0.859170801905754,0.8560752878950456,0.8536071010739922,0.8516038209509867,0.8499458917545191],\"type\":\"scatter3d\"}]},{\"data\":[{\"marker\":{\"color\":[0.0,35.75484025998244,26.53625144224801,19.75362654801073,14.763198745602935,11.09133467835302,8.389571889366584,6.401538876940176,4.938617459787518,3.862037049746706,3.069701018720262,2.486494570269137,2.0571540299063282,1.7410206268409614,1.508180737071959,1.3366261762535963,1.2101649653654851,1.1168842355485544,1.0480193537352995,0.9971219137544148,0.9594476092658816,0.931505878541736,0.9107285683127627,0.895226162531146,0.8836084345467929,0.8748524969907335,0.8682057231829385,0.8631143242795148,0.859170801905754,0.8560752878950456,0.8536071010739922,0.8516038209509867,0.8499458917545191,0.8485452952703988],\"colorscale\":[[0.0,\"rgb(150,0,90)\"],[0.125,\"rgb(0,0,200)\"],[0.25,\"rgb(0,25,255)\"],[0.375,\"rgb(0,152,255)\"],[0.5,\"rgb(44,255,150)\"],[0.625,\"rgb(151,255,0)\"],[0.75,\"rgb(255,234,0)\"],[0.875,\"rgb(255,111,0)\"],[1.0,\"rgb(255,0,0)\"]],\"size\":7},\"mode\":\"markers+lines\",\"x\":[0.3745401188473625,0.8317325489017311,1.224211783111528,1.5611808847373805,1.850533735517361,2.0990412766700994,2.3125112556720366,2.4959252478180165,2.6535561854036107,2.7890691674712267,2.905607928589516,3.005869006779868,3.0921653604817427,3.1664809355129333,3.2305174694581775,3.2857346377721646,3.333384488789707,3.3745409800903396,3.4101253130876703,3.4409276635786017,3.4676258209550825,3.4908011758451174,3.5109524333895292,3.5285073757004275,3.5438329510203994,3.5572439276222223,3.569010316625877,3.5793637388639135,3.588502886012471,3.596598204835678,3.603795915061564,3.6102214556855614,3.6159824410121897,3.6211711961784587],\"y\":[0.9507143064099162,1.197197090387812,1.4080249938110094,1.5882754397251262,1.7423035018789268,1.8738446649291751,1.9861029662052991,2.081826598620451,2.163372758478217,2.232763268172065,2.2917322861206446,2.3417672295910843,2.3841438759296536,2.419956470366555,2.450143550748451,2.4755100984990226,2.496746538430158,2.5144450356792536,2.5291134742774366,2.541187447154736,2.551040540470749,2.558993154916269,2.5653200721131384,2.5702569446318644,2.5740058627507576,2.576740129297298,2.5786083552282077,2.5797379725784473,2.5802382476629506,2.5802028656240554,2.5797121473040545,2.5788349507474986,2.577630302197141,2.576148795065182],\"z\":[0.0,35.75484025998244,26.53625144224801,19.75362654801073,14.763198745602935,11.09133467835302,8.389571889366584,6.401538876940176,4.938617459787518,3.862037049746706,3.069701018720262,2.486494570269137,2.0571540299063282,1.7410206268409614,1.508180737071959,1.3366261762535963,1.2101649653654851,1.1168842355485544,1.0480193537352995,0.9971219137544148,0.9594476092658816,0.931505878541736,0.9107285683127627,0.895226162531146,0.8836084345467929,0.8748524969907335,0.8682057231829385,0.8631143242795148,0.859170801905754,0.8560752878950456,0.8536071010739922,0.8516038209509867,0.8499458917545191,0.8485452952703988],\"type\":\"scatter3d\"}]},{\"data\":[{\"marker\":{\"color\":[0.0,35.75484025998244,26.53625144224801,19.75362654801073,14.763198745602935,11.09133467835302,8.389571889366584,6.401538876940176,4.938617459787518,3.862037049746706,3.069701018720262,2.486494570269137,2.0571540299063282,1.7410206268409614,1.508180737071959,1.3366261762535963,1.2101649653654851,1.1168842355485544,1.0480193537352995,0.9971219137544148,0.9594476092658816,0.931505878541736,0.9107285683127627,0.895226162531146,0.8836084345467929,0.8748524969907335,0.8682057231829385,0.8631143242795148,0.859170801905754,0.8560752878950456,0.8536071010739922,0.8516038209509867,0.8499458917545191,0.8485452952703988,0.8473372171831792],\"colorscale\":[[0.0,\"rgb(150,0,90)\"],[0.125,\"rgb(0,0,200)\"],[0.25,\"rgb(0,25,255)\"],[0.375,\"rgb(0,152,255)\"],[0.5,\"rgb(44,255,150)\"],[0.625,\"rgb(151,255,0)\"],[0.75,\"rgb(255,234,0)\"],[0.875,\"rgb(255,111,0)\"],[1.0,\"rgb(255,0,0)\"]],\"size\":7},\"mode\":\"markers+lines\",\"x\":[0.3745401188473625,0.8317325489017311,1.224211783111528,1.5611808847373805,1.850533735517361,2.0990412766700994,2.3125112556720366,2.4959252478180165,2.6535561854036107,2.7890691674712267,2.905607928589516,3.005869006779868,3.0921653604817427,3.1664809355129333,3.2305174694581775,3.2857346377721646,3.333384488789707,3.3745409800903396,3.4101253130876703,3.4409276635786017,3.4676258209550825,3.4908011758451174,3.5109524333895292,3.5285073757004275,3.5438329510203994,3.5572439276222223,3.569010316625877,3.5793637388639135,3.588502886012471,3.596598204835678,3.603795915061564,3.6102214556855614,3.6159824410121897,3.6211711961784587,3.6258669319809633],\"y\":[0.9507143064099162,1.197197090387812,1.4080249938110094,1.5882754397251262,1.7423035018789268,1.8738446649291751,1.9861029662052991,2.081826598620451,2.163372758478217,2.232763268172065,2.2917322861206446,2.3417672295910843,2.3841438759296536,2.419956470366555,2.450143550748451,2.4755100984990226,2.496746538430158,2.5144450356792536,2.5291134742774366,2.541187447154736,2.551040540470749,2.558993154916269,2.5653200721131384,2.5702569446318644,2.5740058627507576,2.576740129297298,2.5786083552282077,2.5797379725784473,2.5802382476629506,2.5802028656240554,2.5797121473040545,2.5788349507474986,2.577630302197141,2.576148795065182,2.574433789887147],\"z\":[0.0,35.75484025998244,26.53625144224801,19.75362654801073,14.763198745602935,11.09133467835302,8.389571889366584,6.401538876940176,4.938617459787518,3.862037049746706,3.069701018720262,2.486494570269137,2.0571540299063282,1.7410206268409614,1.508180737071959,1.3366261762535963,1.2101649653654851,1.1168842355485544,1.0480193537352995,0.9971219137544148,0.9594476092658816,0.931505878541736,0.9107285683127627,0.895226162531146,0.8836084345467929,0.8748524969907335,0.8682057231829385,0.8631143242795148,0.859170801905754,0.8560752878950456,0.8536071010739922,0.8516038209509867,0.8499458917545191,0.8485452952703988,0.8473372171831792],\"type\":\"scatter3d\"}]},{\"data\":[{\"marker\":{\"color\":[0.0,35.75484025998244,26.53625144224801,19.75362654801073,14.763198745602935,11.09133467835302,8.389571889366584,6.401538876940176,4.938617459787518,3.862037049746706,3.069701018720262,2.486494570269137,2.0571540299063282,1.7410206268409614,1.508180737071959,1.3366261762535963,1.2101649653654851,1.1168842355485544,1.0480193537352995,0.9971219137544148,0.9594476092658816,0.931505878541736,0.9107285683127627,0.895226162531146,0.8836084345467929,0.8748524969907335,0.8682057231829385,0.8631143242795148,0.859170801905754,0.8560752878950456,0.8536071010739922,0.8516038209509867,0.8499458917545191,0.8485452952703988,0.8473372171831792,0.8462739158040578],\"colorscale\":[[0.0,\"rgb(150,0,90)\"],[0.125,\"rgb(0,0,200)\"],[0.25,\"rgb(0,25,255)\"],[0.375,\"rgb(0,152,255)\"],[0.5,\"rgb(44,255,150)\"],[0.625,\"rgb(151,255,0)\"],[0.75,\"rgb(255,234,0)\"],[0.875,\"rgb(255,111,0)\"],[1.0,\"rgb(255,0,0)\"]],\"size\":7},\"mode\":\"markers+lines\",\"x\":[0.3745401188473625,0.8317325489017311,1.224211783111528,1.5611808847373805,1.850533735517361,2.0990412766700994,2.3125112556720366,2.4959252478180165,2.6535561854036107,2.7890691674712267,2.905607928589516,3.005869006779868,3.0921653604817427,3.1664809355129333,3.2305174694581775,3.2857346377721646,3.333384488789707,3.3745409800903396,3.4101253130876703,3.4409276635786017,3.4676258209550825,3.4908011758451174,3.5109524333895292,3.5285073757004275,3.5438329510203994,3.5572439276222223,3.569010316625877,3.5793637388639135,3.588502886012471,3.596598204835678,3.603795915061564,3.6102214556855614,3.6159824410121897,3.6211711961784587,3.6258669319809633,3.630137610318507],\"y\":[0.9507143064099162,1.197197090387812,1.4080249938110094,1.5882754397251262,1.7423035018789268,1.8738446649291751,1.9861029662052991,2.081826598620451,2.163372758478217,2.232763268172065,2.2917322861206446,2.3417672295910843,2.3841438759296536,2.419956470366555,2.450143550748451,2.4755100984990226,2.496746538430158,2.5144450356792536,2.5291134742774366,2.541187447154736,2.551040540470749,2.558993154916269,2.5653200721131384,2.5702569446318644,2.5740058627507576,2.576740129297298,2.5786083552282077,2.5797379725784473,2.5802382476629506,2.5802028656240554,2.5797121473040545,2.5788349507474986,2.577630302197141,2.576148795065182,2.574433789887147,2.5725224435701946],\"z\":[0.0,35.75484025998244,26.53625144224801,19.75362654801073,14.763198745602935,11.09133467835302,8.389571889366584,6.401538876940176,4.938617459787518,3.862037049746706,3.069701018720262,2.486494570269137,2.0571540299063282,1.7410206268409614,1.508180737071959,1.3366261762535963,1.2101649653654851,1.1168842355485544,1.0480193537352995,0.9971219137544148,0.9594476092658816,0.931505878541736,0.9107285683127627,0.895226162531146,0.8836084345467929,0.8748524969907335,0.8682057231829385,0.8631143242795148,0.859170801905754,0.8560752878950456,0.8536071010739922,0.8516038209509867,0.8499458917545191,0.8485452952703988,0.8473372171831792,0.8462739158040578],\"type\":\"scatter3d\"}]},{\"data\":[{\"marker\":{\"color\":[0.0,35.75484025998244,26.53625144224801,19.75362654801073,14.763198745602935,11.09133467835302,8.389571889366584,6.401538876940176,4.938617459787518,3.862037049746706,3.069701018720262,2.486494570269137,2.0571540299063282,1.7410206268409614,1.508180737071959,1.3366261762535963,1.2101649653654851,1.1168842355485544,1.0480193537352995,0.9971219137544148,0.9594476092658816,0.931505878541736,0.9107285683127627,0.895226162531146,0.8836084345467929,0.8748524969907335,0.8682057231829385,0.8631143242795148,0.859170801905754,0.8560752878950456,0.8536071010739922,0.8516038209509867,0.8499458917545191,0.8485452952703988,0.8473372171831792,0.8462739158040578,0.8453202111427344],\"colorscale\":[[0.0,\"rgb(150,0,90)\"],[0.125,\"rgb(0,0,200)\"],[0.25,\"rgb(0,25,255)\"],[0.375,\"rgb(0,152,255)\"],[0.5,\"rgb(44,255,150)\"],[0.625,\"rgb(151,255,0)\"],[0.75,\"rgb(255,234,0)\"],[0.875,\"rgb(255,111,0)\"],[1.0,\"rgb(255,0,0)\"]],\"size\":7},\"mode\":\"markers+lines\",\"x\":[0.3745401188473625,0.8317325489017311,1.224211783111528,1.5611808847373805,1.850533735517361,2.0990412766700994,2.3125112556720366,2.4959252478180165,2.6535561854036107,2.7890691674712267,2.905607928589516,3.005869006779868,3.0921653604817427,3.1664809355129333,3.2305174694581775,3.2857346377721646,3.333384488789707,3.3745409800903396,3.4101253130876703,3.4409276635786017,3.4676258209550825,3.4908011758451174,3.5109524333895292,3.5285073757004275,3.5438329510203994,3.5572439276222223,3.569010316625877,3.5793637388639135,3.588502886012471,3.596598204835678,3.603795915061564,3.6102214556855614,3.6159824410121897,3.6211711961784587,3.6258669319809633,3.630137610318507,3.6340415442625775],\"y\":[0.9507143064099162,1.197197090387812,1.4080249938110094,1.5882754397251262,1.7423035018789268,1.8738446649291751,1.9861029662052991,2.081826598620451,2.163372758478217,2.232763268172065,2.2917322861206446,2.3417672295910843,2.3841438759296536,2.419956470366555,2.450143550748451,2.4755100984990226,2.496746538430158,2.5144450356792536,2.5291134742774366,2.541187447154736,2.551040540470749,2.558993154916269,2.5653200721131384,2.5702569446318644,2.5740058627507576,2.576740129297298,2.5786083552282077,2.5797379725784473,2.5802382476629506,2.5802028656240554,2.5797121473040545,2.5788349507474986,2.577630302197141,2.576148795065182,2.574433789887147,2.5725224435701946,2.5704465922200628],\"z\":[0.0,35.75484025998244,26.53625144224801,19.75362654801073,14.763198745602935,11.09133467835302,8.389571889366584,6.401538876940176,4.938617459787518,3.862037049746706,3.069701018720262,2.486494570269137,2.0571540299063282,1.7410206268409614,1.508180737071959,1.3366261762535963,1.2101649653654851,1.1168842355485544,1.0480193537352995,0.9971219137544148,0.9594476092658816,0.931505878541736,0.9107285683127627,0.895226162531146,0.8836084345467929,0.8748524969907335,0.8682057231829385,0.8631143242795148,0.859170801905754,0.8560752878950456,0.8536071010739922,0.8516038209509867,0.8499458917545191,0.8485452952703988,0.8473372171831792,0.8462739158040578,0.8453202111427344],\"type\":\"scatter3d\"}]},{\"data\":[{\"marker\":{\"color\":[0.0,35.75484025998244,26.53625144224801,19.75362654801073,14.763198745602935,11.09133467835302,8.389571889366584,6.401538876940176,4.938617459787518,3.862037049746706,3.069701018720262,2.486494570269137,2.0571540299063282,1.7410206268409614,1.508180737071959,1.3366261762535963,1.2101649653654851,1.1168842355485544,1.0480193537352995,0.9971219137544148,0.9594476092658816,0.931505878541736,0.9107285683127627,0.895226162531146,0.8836084345467929,0.8748524969907335,0.8682057231829385,0.8631143242795148,0.859170801905754,0.8560752878950456,0.8536071010739922,0.8516038209509867,0.8499458917545191,0.8485452952703988,0.8473372171831792,0.8462739158040578,0.8453202111427344,0.8444501661018753],\"colorscale\":[[0.0,\"rgb(150,0,90)\"],[0.125,\"rgb(0,0,200)\"],[0.25,\"rgb(0,25,255)\"],[0.375,\"rgb(0,152,255)\"],[0.5,\"rgb(44,255,150)\"],[0.625,\"rgb(151,255,0)\"],[0.75,\"rgb(255,234,0)\"],[0.875,\"rgb(255,111,0)\"],[1.0,\"rgb(255,0,0)\"]],\"size\":7},\"mode\":\"markers+lines\",\"x\":[0.3745401188473625,0.8317325489017311,1.224211783111528,1.5611808847373805,1.850533735517361,2.0990412766700994,2.3125112556720366,2.4959252478180165,2.6535561854036107,2.7890691674712267,2.905607928589516,3.005869006779868,3.0921653604817427,3.1664809355129333,3.2305174694581775,3.2857346377721646,3.333384488789707,3.3745409800903396,3.4101253130876703,3.4409276635786017,3.4676258209550825,3.4908011758451174,3.5109524333895292,3.5285073757004275,3.5438329510203994,3.5572439276222223,3.569010316625877,3.5793637388639135,3.588502886012471,3.596598204835678,3.603795915061564,3.6102214556855614,3.6159824410121897,3.6211711961784587,3.6258669319809633,3.630137610318507,3.6340415442625775,3.637628770506915],\"y\":[0.9507143064099162,1.197197090387812,1.4080249938110094,1.5882754397251262,1.7423035018789268,1.8738446649291751,1.9861029662052991,2.081826598620451,2.163372758478217,2.232763268172065,2.2917322861206446,2.3417672295910843,2.3841438759296536,2.419956470366555,2.450143550748451,2.4755100984990226,2.496746538430158,2.5144450356792536,2.5291134742774366,2.541187447154736,2.551040540470749,2.558993154916269,2.5653200721131384,2.5702569446318644,2.5740058627507576,2.576740129297298,2.5786083552282077,2.5797379725784473,2.5802382476629506,2.5802028656240554,2.5797121473040545,2.5788349507474986,2.577630302197141,2.576148795065182,2.574433789887147,2.5725224435701946,2.5704465922200628,2.5682335083762653],\"z\":[0.0,35.75484025998244,26.53625144224801,19.75362654801073,14.763198745602935,11.09133467835302,8.389571889366584,6.401538876940176,4.938617459787518,3.862037049746706,3.069701018720262,2.486494570269137,2.0571540299063282,1.7410206268409614,1.508180737071959,1.3366261762535963,1.2101649653654851,1.1168842355485544,1.0480193537352995,0.9971219137544148,0.9594476092658816,0.931505878541736,0.9107285683127627,0.895226162531146,0.8836084345467929,0.8748524969907335,0.8682057231829385,0.8631143242795148,0.859170801905754,0.8560752878950456,0.8536071010739922,0.8516038209509867,0.8499458917545191,0.8485452952703988,0.8473372171831792,0.8462739158040578,0.8453202111427344,0.8444501661018753],\"type\":\"scatter3d\"}]},{\"data\":[{\"marker\":{\"color\":[0.0,35.75484025998244,26.53625144224801,19.75362654801073,14.763198745602935,11.09133467835302,8.389571889366584,6.401538876940176,4.938617459787518,3.862037049746706,3.069701018720262,2.486494570269137,2.0571540299063282,1.7410206268409614,1.508180737071959,1.3366261762535963,1.2101649653654851,1.1168842355485544,1.0480193537352995,0.9971219137544148,0.9594476092658816,0.931505878541736,0.9107285683127627,0.895226162531146,0.8836084345467929,0.8748524969907335,0.8682057231829385,0.8631143242795148,0.859170801905754,0.8560752878950456,0.8536071010739922,0.8516038209509867,0.8499458917545191,0.8485452952703988,0.8473372171831792,0.8462739158040578,0.8453202111427344,0.8444501661018753,0.8436446447424237],\"colorscale\":[[0.0,\"rgb(150,0,90)\"],[0.125,\"rgb(0,0,200)\"],[0.25,\"rgb(0,25,255)\"],[0.375,\"rgb(0,152,255)\"],[0.5,\"rgb(44,255,150)\"],[0.625,\"rgb(151,255,0)\"],[0.75,\"rgb(255,234,0)\"],[0.875,\"rgb(255,111,0)\"],[1.0,\"rgb(255,0,0)\"]],\"size\":7},\"mode\":\"markers+lines\",\"x\":[0.3745401188473625,0.8317325489017311,1.224211783111528,1.5611808847373805,1.850533735517361,2.0990412766700994,2.3125112556720366,2.4959252478180165,2.6535561854036107,2.7890691674712267,2.905607928589516,3.005869006779868,3.0921653604817427,3.1664809355129333,3.2305174694581775,3.2857346377721646,3.333384488789707,3.3745409800903396,3.4101253130876703,3.4409276635786017,3.4676258209550825,3.4908011758451174,3.5109524333895292,3.5285073757004275,3.5438329510203994,3.5572439276222223,3.569010316625877,3.5793637388639135,3.588502886012471,3.596598204835678,3.603795915061564,3.6102214556855614,3.6159824410121897,3.6211711961784587,3.6258669319809633,3.630137610318507,3.6340415442625775,3.637628770506915,3.640942226576994],\"y\":[0.9507143064099162,1.197197090387812,1.4080249938110094,1.5882754397251262,1.7423035018789268,1.8738446649291751,1.9861029662052991,2.081826598620451,2.163372758478217,2.232763268172065,2.2917322861206446,2.3417672295910843,2.3841438759296536,2.419956470366555,2.450143550748451,2.4755100984990226,2.496746538430158,2.5144450356792536,2.5291134742774366,2.541187447154736,2.551040540470749,2.558993154916269,2.5653200721131384,2.5702569446318644,2.5740058627507576,2.576740129297298,2.5786083552282077,2.5797379725784473,2.5802382476629506,2.5802028656240554,2.5797121473040545,2.5788349507474986,2.577630302197141,2.576148795065182,2.574433789887147,2.5725224435701946,2.5704465922200628,2.5682335083762653,2.5659065505219525],\"z\":[0.0,35.75484025998244,26.53625144224801,19.75362654801073,14.763198745602935,11.09133467835302,8.389571889366584,6.401538876940176,4.938617459787518,3.862037049746706,3.069701018720262,2.486494570269137,2.0571540299063282,1.7410206268409614,1.508180737071959,1.3366261762535963,1.2101649653654851,1.1168842355485544,1.0480193537352995,0.9971219137544148,0.9594476092658816,0.931505878541736,0.9107285683127627,0.895226162531146,0.8836084345467929,0.8748524969907335,0.8682057231829385,0.8631143242795148,0.859170801905754,0.8560752878950456,0.8536071010739922,0.8516038209509867,0.8499458917545191,0.8485452952703988,0.8473372171831792,0.8462739158040578,0.8453202111427344,0.8444501661018753,0.8436446447424237],\"type\":\"scatter3d\"}]},{\"data\":[{\"marker\":{\"color\":[0.0,35.75484025998244,26.53625144224801,19.75362654801073,14.763198745602935,11.09133467835302,8.389571889366584,6.401538876940176,4.938617459787518,3.862037049746706,3.069701018720262,2.486494570269137,2.0571540299063282,1.7410206268409614,1.508180737071959,1.3366261762535963,1.2101649653654851,1.1168842355485544,1.0480193537352995,0.9971219137544148,0.9594476092658816,0.931505878541736,0.9107285683127627,0.895226162531146,0.8836084345467929,0.8748524969907335,0.8682057231829385,0.8631143242795148,0.859170801905754,0.8560752878950456,0.8536071010739922,0.8516038209509867,0.8499458917545191,0.8485452952703988,0.8473372171831792,0.8462739158040578,0.8453202111427344,0.8444501661018753,0.8436446447424237,0.8428895158293094],\"colorscale\":[[0.0,\"rgb(150,0,90)\"],[0.125,\"rgb(0,0,200)\"],[0.25,\"rgb(0,25,255)\"],[0.375,\"rgb(0,152,255)\"],[0.5,\"rgb(44,255,150)\"],[0.625,\"rgb(151,255,0)\"],[0.75,\"rgb(255,234,0)\"],[0.875,\"rgb(255,111,0)\"],[1.0,\"rgb(255,0,0)\"]],\"size\":7},\"mode\":\"markers+lines\",\"x\":[0.3745401188473625,0.8317325489017311,1.224211783111528,1.5611808847373805,1.850533735517361,2.0990412766700994,2.3125112556720366,2.4959252478180165,2.6535561854036107,2.7890691674712267,2.905607928589516,3.005869006779868,3.0921653604817427,3.1664809355129333,3.2305174694581775,3.2857346377721646,3.333384488789707,3.3745409800903396,3.4101253130876703,3.4409276635786017,3.4676258209550825,3.4908011758451174,3.5109524333895292,3.5285073757004275,3.5438329510203994,3.5572439276222223,3.569010316625877,3.5793637388639135,3.588502886012471,3.596598204835678,3.603795915061564,3.6102214556855614,3.6159824410121897,3.6211711961784587,3.6258669319809633,3.630137610318507,3.6340415442625775,3.637628770506915,3.640942226576994,3.6440187605738226],\"y\":[0.9507143064099162,1.197197090387812,1.4080249938110094,1.5882754397251262,1.7423035018789268,1.8738446649291751,1.9861029662052991,2.081826598620451,2.163372758478217,2.232763268172065,2.2917322861206446,2.3417672295910843,2.3841438759296536,2.419956470366555,2.450143550748451,2.4755100984990226,2.496746538430158,2.5144450356792536,2.5291134742774366,2.541187447154736,2.551040540470749,2.558993154916269,2.5653200721131384,2.5702569446318644,2.5740058627507576,2.576740129297298,2.5786083552282077,2.5797379725784473,2.5802382476629506,2.5802028656240554,2.5797121473040545,2.5788349507474986,2.577630302197141,2.576148795065182,2.574433789887147,2.5725224435701946,2.5704465922200628,2.5682335083762653,2.5659065505219525,2.5634857201932304],\"z\":[0.0,35.75484025998244,26.53625144224801,19.75362654801073,14.763198745602935,11.09133467835302,8.389571889366584,6.401538876940176,4.938617459787518,3.862037049746706,3.069701018720262,2.486494570269137,2.0571540299063282,1.7410206268409614,1.508180737071959,1.3366261762535963,1.2101649653654851,1.1168842355485544,1.0480193537352995,0.9971219137544148,0.9594476092658816,0.931505878541736,0.9107285683127627,0.895226162531146,0.8836084345467929,0.8748524969907335,0.8682057231829385,0.8631143242795148,0.859170801905754,0.8560752878950456,0.8536071010739922,0.8516038209509867,0.8499458917545191,0.8485452952703988,0.8473372171831792,0.8462739158040578,0.8453202111427344,0.8444501661018753,0.8436446447424237,0.8428895158293094],\"type\":\"scatter3d\"}]},{\"data\":[{\"marker\":{\"color\":[0.0,35.75484025998244,26.53625144224801,19.75362654801073,14.763198745602935,11.09133467835302,8.389571889366584,6.401538876940176,4.938617459787518,3.862037049746706,3.069701018720262,2.486494570269137,2.0571540299063282,1.7410206268409614,1.508180737071959,1.3366261762535963,1.2101649653654851,1.1168842355485544,1.0480193537352995,0.9971219137544148,0.9594476092658816,0.931505878541736,0.9107285683127627,0.895226162531146,0.8836084345467929,0.8748524969907335,0.8682057231829385,0.8631143242795148,0.859170801905754,0.8560752878950456,0.8536071010739922,0.8516038209509867,0.8499458917545191,0.8485452952703988,0.8473372171831792,0.8462739158040578,0.8453202111427344,0.8444501661018753,0.8436446447424237,0.8428895158293094,0.842174331124285],\"colorscale\":[[0.0,\"rgb(150,0,90)\"],[0.125,\"rgb(0,0,200)\"],[0.25,\"rgb(0,25,255)\"],[0.375,\"rgb(0,152,255)\"],[0.5,\"rgb(44,255,150)\"],[0.625,\"rgb(151,255,0)\"],[0.75,\"rgb(255,234,0)\"],[0.875,\"rgb(255,111,0)\"],[1.0,\"rgb(255,0,0)\"]],\"size\":7},\"mode\":\"markers+lines\",\"x\":[0.3745401188473625,0.8317325489017311,1.224211783111528,1.5611808847373805,1.850533735517361,2.0990412766700994,2.3125112556720366,2.4959252478180165,2.6535561854036107,2.7890691674712267,2.905607928589516,3.005869006779868,3.0921653604817427,3.1664809355129333,3.2305174694581775,3.2857346377721646,3.333384488789707,3.3745409800903396,3.4101253130876703,3.4409276635786017,3.4676258209550825,3.4908011758451174,3.5109524333895292,3.5285073757004275,3.5438329510203994,3.5572439276222223,3.569010316625877,3.5793637388639135,3.588502886012471,3.596598204835678,3.603795915061564,3.6102214556855614,3.6159824410121897,3.6211711961784587,3.6258669319809633,3.630137610318507,3.6340415442625775,3.637628770506915,3.640942226576994,3.6440187605738226,3.646889997275345],\"y\":[0.9507143064099162,1.197197090387812,1.4080249938110094,1.5882754397251262,1.7423035018789268,1.8738446649291751,1.9861029662052991,2.081826598620451,2.163372758478217,2.232763268172065,2.2917322861206446,2.3417672295910843,2.3841438759296536,2.419956470366555,2.450143550748451,2.4755100984990226,2.496746538430158,2.5144450356792536,2.5291134742774366,2.541187447154736,2.551040540470749,2.558993154916269,2.5653200721131384,2.5702569446318644,2.5740058627507576,2.576740129297298,2.5786083552282077,2.5797379725784473,2.5802382476629506,2.5802028656240554,2.5797121473040545,2.5788349507474986,2.577630302197141,2.576148795065182,2.574433789887147,2.5725224435701946,2.5704465922200628,2.5682335083762653,2.5659065505219525,2.5634857201932304,2.5609881398326584],\"z\":[0.0,35.75484025998244,26.53625144224801,19.75362654801073,14.763198745602935,11.09133467835302,8.389571889366584,6.401538876940176,4.938617459787518,3.862037049746706,3.069701018720262,2.486494570269137,2.0571540299063282,1.7410206268409614,1.508180737071959,1.3366261762535963,1.2101649653654851,1.1168842355485544,1.0480193537352995,0.9971219137544148,0.9594476092658816,0.931505878541736,0.9107285683127627,0.895226162531146,0.8836084345467929,0.8748524969907335,0.8682057231829385,0.8631143242795148,0.859170801905754,0.8560752878950456,0.8536071010739922,0.8516038209509867,0.8499458917545191,0.8485452952703988,0.8473372171831792,0.8462739158040578,0.8453202111427344,0.8444501661018753,0.8436446447424237,0.8428895158293094,0.842174331124285],\"type\":\"scatter3d\"}]},{\"data\":[{\"marker\":{\"color\":[0.0,35.75484025998244,26.53625144224801,19.75362654801073,14.763198745602935,11.09133467835302,8.389571889366584,6.401538876940176,4.938617459787518,3.862037049746706,3.069701018720262,2.486494570269137,2.0571540299063282,1.7410206268409614,1.508180737071959,1.3366261762535963,1.2101649653654851,1.1168842355485544,1.0480193537352995,0.9971219137544148,0.9594476092658816,0.931505878541736,0.9107285683127627,0.895226162531146,0.8836084345467929,0.8748524969907335,0.8682057231829385,0.8631143242795148,0.859170801905754,0.8560752878950456,0.8536071010739922,0.8516038209509867,0.8499458917545191,0.8485452952703988,0.8473372171831792,0.8462739158040578,0.8453202111427344,0.8444501661018753,0.8436446447424237,0.8428895158293094,0.842174331124285,0.8414913529608441],\"colorscale\":[[0.0,\"rgb(150,0,90)\"],[0.125,\"rgb(0,0,200)\"],[0.25,\"rgb(0,25,255)\"],[0.375,\"rgb(0,152,255)\"],[0.5,\"rgb(44,255,150)\"],[0.625,\"rgb(151,255,0)\"],[0.75,\"rgb(255,234,0)\"],[0.875,\"rgb(255,111,0)\"],[1.0,\"rgb(255,0,0)\"]],\"size\":7},\"mode\":\"markers+lines\",\"x\":[0.3745401188473625,0.8317325489017311,1.224211783111528,1.5611808847373805,1.850533735517361,2.0990412766700994,2.3125112556720366,2.4959252478180165,2.6535561854036107,2.7890691674712267,2.905607928589516,3.005869006779868,3.0921653604817427,3.1664809355129333,3.2305174694581775,3.2857346377721646,3.333384488789707,3.3745409800903396,3.4101253130876703,3.4409276635786017,3.4676258209550825,3.4908011758451174,3.5109524333895292,3.5285073757004275,3.5438329510203994,3.5572439276222223,3.569010316625877,3.5793637388639135,3.588502886012471,3.596598204835678,3.603795915061564,3.6102214556855614,3.6159824410121897,3.6211711961784587,3.6258669319809633,3.630137610318507,3.6340415442625775,3.637628770506915,3.640942226576994,3.6440187605738226,3.646889997275345,3.649583081029671],\"y\":[0.9507143064099162,1.197197090387812,1.4080249938110094,1.5882754397251262,1.7423035018789268,1.8738446649291751,1.9861029662052991,2.081826598620451,2.163372758478217,2.232763268172065,2.2917322861206446,2.3417672295910843,2.3841438759296536,2.419956470366555,2.450143550748451,2.4755100984990226,2.496746538430158,2.5144450356792536,2.5291134742774366,2.541187447154736,2.551040540470749,2.558993154916269,2.5653200721131384,2.5702569446318644,2.5740058627507576,2.576740129297298,2.5786083552282077,2.5797379725784473,2.5802382476629506,2.5802028656240554,2.5797121473040545,2.5788349507474986,2.577630302197141,2.576148795065182,2.574433789887147,2.5725224435701946,2.5704465922200628,2.5682335083762653,2.5659065505219525,2.5634857201932304,2.5609881398326584,2.558428462661701],\"z\":[0.0,35.75484025998244,26.53625144224801,19.75362654801073,14.763198745602935,11.09133467835302,8.389571889366584,6.401538876940176,4.938617459787518,3.862037049746706,3.069701018720262,2.486494570269137,2.0571540299063282,1.7410206268409614,1.508180737071959,1.3366261762535963,1.2101649653654851,1.1168842355485544,1.0480193537352995,0.9971219137544148,0.9594476092658816,0.931505878541736,0.9107285683127627,0.895226162531146,0.8836084345467929,0.8748524969907335,0.8682057231829385,0.8631143242795148,0.859170801905754,0.8560752878950456,0.8536071010739922,0.8516038209509867,0.8499458917545191,0.8485452952703988,0.8473372171831792,0.8462739158040578,0.8453202111427344,0.8444501661018753,0.8436446447424237,0.8428895158293094,0.842174331124285,0.8414913529608441],\"type\":\"scatter3d\"}]},{\"data\":[{\"marker\":{\"color\":[0.0,35.75484025998244,26.53625144224801,19.75362654801073,14.763198745602935,11.09133467835302,8.389571889366584,6.401538876940176,4.938617459787518,3.862037049746706,3.069701018720262,2.486494570269137,2.0571540299063282,1.7410206268409614,1.508180737071959,1.3366261762535963,1.2101649653654851,1.1168842355485544,1.0480193537352995,0.9971219137544148,0.9594476092658816,0.931505878541736,0.9107285683127627,0.895226162531146,0.8836084345467929,0.8748524969907335,0.8682057231829385,0.8631143242795148,0.859170801905754,0.8560752878950456,0.8536071010739922,0.8516038209509867,0.8499458917545191,0.8485452952703988,0.8473372171831792,0.8462739158040578,0.8453202111427344,0.8444501661018753,0.8436446447424237,0.8428895158293094,0.842174331124285,0.8414913529608441,0.8408348387938519],\"colorscale\":[[0.0,\"rgb(150,0,90)\"],[0.125,\"rgb(0,0,200)\"],[0.25,\"rgb(0,25,255)\"],[0.375,\"rgb(0,152,255)\"],[0.5,\"rgb(44,255,150)\"],[0.625,\"rgb(151,255,0)\"],[0.75,\"rgb(255,234,0)\"],[0.875,\"rgb(255,111,0)\"],[1.0,\"rgb(255,0,0)\"]],\"size\":7},\"mode\":\"markers+lines\",\"x\":[0.3745401188473625,0.8317325489017311,1.224211783111528,1.5611808847373805,1.850533735517361,2.0990412766700994,2.3125112556720366,2.4959252478180165,2.6535561854036107,2.7890691674712267,2.905607928589516,3.005869006779868,3.0921653604817427,3.1664809355129333,3.2305174694581775,3.2857346377721646,3.333384488789707,3.3745409800903396,3.4101253130876703,3.4409276635786017,3.4676258209550825,3.4908011758451174,3.5109524333895292,3.5285073757004275,3.5438329510203994,3.5572439276222223,3.569010316625877,3.5793637388639135,3.588502886012471,3.596598204835678,3.603795915061564,3.6102214556855614,3.6159824410121897,3.6211711961784587,3.6258669319809633,3.630137610318507,3.6340415442625775,3.637628770506915,3.640942226576994,3.6440187605738226,3.646889997275345,3.649583081029671,3.652121312967447],\"y\":[0.9507143064099162,1.197197090387812,1.4080249938110094,1.5882754397251262,1.7423035018789268,1.8738446649291751,1.9861029662052991,2.081826598620451,2.163372758478217,2.232763268172065,2.2917322861206446,2.3417672295910843,2.3841438759296536,2.419956470366555,2.450143550748451,2.4755100984990226,2.496746538430158,2.5144450356792536,2.5291134742774366,2.541187447154736,2.551040540470749,2.558993154916269,2.5653200721131384,2.5702569446318644,2.5740058627507576,2.576740129297298,2.5786083552282077,2.5797379725784473,2.5802382476629506,2.5802028656240554,2.5797121473040545,2.5788349507474986,2.577630302197141,2.576148795065182,2.574433789887147,2.5725224435701946,2.5704465922200628,2.5682335083762653,2.5659065505219525,2.5634857201932304,2.5609881398326584,2.558428462661701,2.5558192242429913],\"z\":[0.0,35.75484025998244,26.53625144224801,19.75362654801073,14.763198745602935,11.09133467835302,8.389571889366584,6.401538876940176,4.938617459787518,3.862037049746706,3.069701018720262,2.486494570269137,2.0571540299063282,1.7410206268409614,1.508180737071959,1.3366261762535963,1.2101649653654851,1.1168842355485544,1.0480193537352995,0.9971219137544148,0.9594476092658816,0.931505878541736,0.9107285683127627,0.895226162531146,0.8836084345467929,0.8748524969907335,0.8682057231829385,0.8631143242795148,0.859170801905754,0.8560752878950456,0.8536071010739922,0.8516038209509867,0.8499458917545191,0.8485452952703988,0.8473372171831792,0.8462739158040578,0.8453202111427344,0.8444501661018753,0.8436446447424237,0.8428895158293094,0.842174331124285,0.8414913529608441,0.8408348387938519],\"type\":\"scatter3d\"}]},{\"data\":[{\"marker\":{\"color\":[0.0,35.75484025998244,26.53625144224801,19.75362654801073,14.763198745602935,11.09133467835302,8.389571889366584,6.401538876940176,4.938617459787518,3.862037049746706,3.069701018720262,2.486494570269137,2.0571540299063282,1.7410206268409614,1.508180737071959,1.3366261762535963,1.2101649653654851,1.1168842355485544,1.0480193537352995,0.9971219137544148,0.9594476092658816,0.931505878541736,0.9107285683127627,0.895226162531146,0.8836084345467929,0.8748524969907335,0.8682057231829385,0.8631143242795148,0.859170801905754,0.8560752878950456,0.8536071010739922,0.8516038209509867,0.8499458917545191,0.8485452952703988,0.8473372171831792,0.8462739158040578,0.8453202111427344,0.8444501661018753,0.8436446447424237,0.8428895158293094,0.842174331124285,0.8414913529608441,0.8408348387938519,0.8402005148113441],\"colorscale\":[[0.0,\"rgb(150,0,90)\"],[0.125,\"rgb(0,0,200)\"],[0.25,\"rgb(0,25,255)\"],[0.375,\"rgb(0,152,255)\"],[0.5,\"rgb(44,255,150)\"],[0.625,\"rgb(151,255,0)\"],[0.75,\"rgb(255,234,0)\"],[0.875,\"rgb(255,111,0)\"],[1.0,\"rgb(255,0,0)\"]],\"size\":7},\"mode\":\"markers+lines\",\"x\":[0.3745401188473625,0.8317325489017311,1.224211783111528,1.5611808847373805,1.850533735517361,2.0990412766700994,2.3125112556720366,2.4959252478180165,2.6535561854036107,2.7890691674712267,2.905607928589516,3.005869006779868,3.0921653604817427,3.1664809355129333,3.2305174694581775,3.2857346377721646,3.333384488789707,3.3745409800903396,3.4101253130876703,3.4409276635786017,3.4676258209550825,3.4908011758451174,3.5109524333895292,3.5285073757004275,3.5438329510203994,3.5572439276222223,3.569010316625877,3.5793637388639135,3.588502886012471,3.596598204835678,3.603795915061564,3.6102214556855614,3.6159824410121897,3.6211711961784587,3.6258669319809633,3.630137610318507,3.6340415442625775,3.637628770506915,3.640942226576994,3.6440187605738226,3.646889997275345,3.649583081029671,3.652121312967447,3.654524697567267],\"y\":[0.9507143064099162,1.197197090387812,1.4080249938110094,1.5882754397251262,1.7423035018789268,1.8738446649291751,1.9861029662052991,2.081826598620451,2.163372758478217,2.232763268172065,2.2917322861206446,2.3417672295910843,2.3841438759296536,2.419956470366555,2.450143550748451,2.4755100984990226,2.496746538430158,2.5144450356792536,2.5291134742774366,2.541187447154736,2.551040540470749,2.558993154916269,2.5653200721131384,2.5702569446318644,2.5740058627507576,2.576740129297298,2.5786083552282077,2.5797379725784473,2.5802382476629506,2.5802028656240554,2.5797121473040545,2.5788349507474986,2.577630302197141,2.576148795065182,2.574433789887147,2.5725224435701946,2.5704465922200628,2.5682335083762653,2.5659065505219525,2.5634857201932304,2.5609881398326584,2.558428462661701,2.5558192242429913,2.553171144027506],\"z\":[0.0,35.75484025998244,26.53625144224801,19.75362654801073,14.763198745602935,11.09133467835302,8.389571889366584,6.401538876940176,4.938617459787518,3.862037049746706,3.069701018720262,2.486494570269137,2.0571540299063282,1.7410206268409614,1.508180737071959,1.3366261762535963,1.2101649653654851,1.1168842355485544,1.0480193537352995,0.9971219137544148,0.9594476092658816,0.931505878541736,0.9107285683127627,0.895226162531146,0.8836084345467929,0.8748524969907335,0.8682057231829385,0.8631143242795148,0.859170801905754,0.8560752878950456,0.8536071010739922,0.8516038209509867,0.8499458917545191,0.8485452952703988,0.8473372171831792,0.8462739158040578,0.8453202111427344,0.8444501661018753,0.8436446447424237,0.8428895158293094,0.842174331124285,0.8414913529608441,0.8408348387938519,0.8402005148113441],\"type\":\"scatter3d\"}]},{\"data\":[{\"marker\":{\"color\":[0.0,35.75484025998244,26.53625144224801,19.75362654801073,14.763198745602935,11.09133467835302,8.389571889366584,6.401538876940176,4.938617459787518,3.862037049746706,3.069701018720262,2.486494570269137,2.0571540299063282,1.7410206268409614,1.508180737071959,1.3366261762535963,1.2101649653654851,1.1168842355485544,1.0480193537352995,0.9971219137544148,0.9594476092658816,0.931505878541736,0.9107285683127627,0.895226162531146,0.8836084345467929,0.8748524969907335,0.8682057231829385,0.8631143242795148,0.859170801905754,0.8560752878950456,0.8536071010739922,0.8516038209509867,0.8499458917545191,0.8485452952703988,0.8473372171831792,0.8462739158040578,0.8453202111427344,0.8444501661018753,0.8436446447424237,0.8428895158293094,0.842174331124285,0.8414913529608441,0.8408348387938519,0.8402005148113441,0.8395851886437613],\"colorscale\":[[0.0,\"rgb(150,0,90)\"],[0.125,\"rgb(0,0,200)\"],[0.25,\"rgb(0,25,255)\"],[0.375,\"rgb(0,152,255)\"],[0.5,\"rgb(44,255,150)\"],[0.625,\"rgb(151,255,0)\"],[0.75,\"rgb(255,234,0)\"],[0.875,\"rgb(255,111,0)\"],[1.0,\"rgb(255,0,0)\"]],\"size\":7},\"mode\":\"markers+lines\",\"x\":[0.3745401188473625,0.8317325489017311,1.224211783111528,1.5611808847373805,1.850533735517361,2.0990412766700994,2.3125112556720366,2.4959252478180165,2.6535561854036107,2.7890691674712267,2.905607928589516,3.005869006779868,3.0921653604817427,3.1664809355129333,3.2305174694581775,3.2857346377721646,3.333384488789707,3.3745409800903396,3.4101253130876703,3.4409276635786017,3.4676258209550825,3.4908011758451174,3.5109524333895292,3.5285073757004275,3.5438329510203994,3.5572439276222223,3.569010316625877,3.5793637388639135,3.588502886012471,3.596598204835678,3.603795915061564,3.6102214556855614,3.6159824410121897,3.6211711961784587,3.6258669319809633,3.630137610318507,3.6340415442625775,3.637628770506915,3.640942226576994,3.6440187605738226,3.646889997275345,3.649583081029671,3.652121312967447,3.654524697567267,3.656810411469356],\"y\":[0.9507143064099162,1.197197090387812,1.4080249938110094,1.5882754397251262,1.7423035018789268,1.8738446649291751,1.9861029662052991,2.081826598620451,2.163372758478217,2.232763268172065,2.2917322861206446,2.3417672295910843,2.3841438759296536,2.419956470366555,2.450143550748451,2.4755100984990226,2.496746538430158,2.5144450356792536,2.5291134742774366,2.541187447154736,2.551040540470749,2.558993154916269,2.5653200721131384,2.5702569446318644,2.5740058627507576,2.576740129297298,2.5786083552282077,2.5797379725784473,2.5802382476629506,2.5802028656240554,2.5797121473040545,2.5788349507474986,2.577630302197141,2.576148795065182,2.574433789887147,2.5725224435701946,2.5704465922200628,2.5682335083762653,2.5659065505219525,2.5634857201932304,2.5609881398326584,2.558428462661701,2.5558192242429913,2.553171144027506,2.550493384001707],\"z\":[0.0,35.75484025998244,26.53625144224801,19.75362654801073,14.763198745602935,11.09133467835302,8.389571889366584,6.401538876940176,4.938617459787518,3.862037049746706,3.069701018720262,2.486494570269137,2.0571540299063282,1.7410206268409614,1.508180737071959,1.3366261762535963,1.2101649653654851,1.1168842355485544,1.0480193537352995,0.9971219137544148,0.9594476092658816,0.931505878541736,0.9107285683127627,0.895226162531146,0.8836084345467929,0.8748524969907335,0.8682057231829385,0.8631143242795148,0.859170801905754,0.8560752878950456,0.8536071010739922,0.8516038209509867,0.8499458917545191,0.8485452952703988,0.8473372171831792,0.8462739158040578,0.8453202111427344,0.8444501661018753,0.8436446447424237,0.8428895158293094,0.842174331124285,0.8414913529608441,0.8408348387938519,0.8402005148113441,0.8395851886437613],\"type\":\"scatter3d\"}]},{\"data\":[{\"marker\":{\"color\":[0.0,35.75484025998244,26.53625144224801,19.75362654801073,14.763198745602935,11.09133467835302,8.389571889366584,6.401538876940176,4.938617459787518,3.862037049746706,3.069701018720262,2.486494570269137,2.0571540299063282,1.7410206268409614,1.508180737071959,1.3366261762535963,1.2101649653654851,1.1168842355485544,1.0480193537352995,0.9971219137544148,0.9594476092658816,0.931505878541736,0.9107285683127627,0.895226162531146,0.8836084345467929,0.8748524969907335,0.8682057231829385,0.8631143242795148,0.859170801905754,0.8560752878950456,0.8536071010739922,0.8516038209509867,0.8499458917545191,0.8485452952703988,0.8473372171831792,0.8462739158040578,0.8453202111427344,0.8444501661018753,0.8436446447424237,0.8428895158293094,0.842174331124285,0.8414913529608441,0.8408348387938519,0.8402005148113441,0.8395851886437613,0.8389864644104554],\"colorscale\":[[0.0,\"rgb(150,0,90)\"],[0.125,\"rgb(0,0,200)\"],[0.25,\"rgb(0,25,255)\"],[0.375,\"rgb(0,152,255)\"],[0.5,\"rgb(44,255,150)\"],[0.625,\"rgb(151,255,0)\"],[0.75,\"rgb(255,234,0)\"],[0.875,\"rgb(255,111,0)\"],[1.0,\"rgb(255,0,0)\"]],\"size\":7},\"mode\":\"markers+lines\",\"x\":[0.3745401188473625,0.8317325489017311,1.224211783111528,1.5611808847373805,1.850533735517361,2.0990412766700994,2.3125112556720366,2.4959252478180165,2.6535561854036107,2.7890691674712267,2.905607928589516,3.005869006779868,3.0921653604817427,3.1664809355129333,3.2305174694581775,3.2857346377721646,3.333384488789707,3.3745409800903396,3.4101253130876703,3.4409276635786017,3.4676258209550825,3.4908011758451174,3.5109524333895292,3.5285073757004275,3.5438329510203994,3.5572439276222223,3.569010316625877,3.5793637388639135,3.588502886012471,3.596598204835678,3.603795915061564,3.6102214556855614,3.6159824410121897,3.6211711961784587,3.6258669319809633,3.630137610318507,3.6340415442625775,3.637628770506915,3.640942226576994,3.6440187605738226,3.646889997275345,3.649583081029671,3.652121312967447,3.654524697567267,3.656810411469356,3.658993205598291],\"y\":[0.9507143064099162,1.197197090387812,1.4080249938110094,1.5882754397251262,1.7423035018789268,1.8738446649291751,1.9861029662052991,2.081826598620451,2.163372758478217,2.232763268172065,2.2917322861206446,2.3417672295910843,2.3841438759296536,2.419956470366555,2.450143550748451,2.4755100984990226,2.496746538430158,2.5144450356792536,2.5291134742774366,2.541187447154736,2.551040540470749,2.558993154916269,2.5653200721131384,2.5702569446318644,2.5740058627507576,2.576740129297298,2.5786083552282077,2.5797379725784473,2.5802382476629506,2.5802028656240554,2.5797121473040545,2.5788349507474986,2.577630302197141,2.576148795065182,2.574433789887147,2.5725224435701946,2.5704465922200628,2.5682335083762653,2.5659065505219525,2.5634857201932304,2.5609881398326584,2.558428462661701,2.5558192242429913,2.553171144027506,2.550493384001707,2.547793770537545],\"z\":[0.0,35.75484025998244,26.53625144224801,19.75362654801073,14.763198745602935,11.09133467835302,8.389571889366584,6.401538876940176,4.938617459787518,3.862037049746706,3.069701018720262,2.486494570269137,2.0571540299063282,1.7410206268409614,1.508180737071959,1.3366261762535963,1.2101649653654851,1.1168842355485544,1.0480193537352995,0.9971219137544148,0.9594476092658816,0.931505878541736,0.9107285683127627,0.895226162531146,0.8836084345467929,0.8748524969907335,0.8682057231829385,0.8631143242795148,0.859170801905754,0.8560752878950456,0.8536071010739922,0.8516038209509867,0.8499458917545191,0.8485452952703988,0.8473372171831792,0.8462739158040578,0.8453202111427344,0.8444501661018753,0.8436446447424237,0.8428895158293094,0.842174331124285,0.8414913529608441,0.8408348387938519,0.8402005148113441,0.8395851886437613,0.8389864644104554],\"type\":\"scatter3d\"}]},{\"data\":[{\"marker\":{\"color\":[0.0,35.75484025998244,26.53625144224801,19.75362654801073,14.763198745602935,11.09133467835302,8.389571889366584,6.401538876940176,4.938617459787518,3.862037049746706,3.069701018720262,2.486494570269137,2.0571540299063282,1.7410206268409614,1.508180737071959,1.3366261762535963,1.2101649653654851,1.1168842355485544,1.0480193537352995,0.9971219137544148,0.9594476092658816,0.931505878541736,0.9107285683127627,0.895226162531146,0.8836084345467929,0.8748524969907335,0.8682057231829385,0.8631143242795148,0.859170801905754,0.8560752878950456,0.8536071010739922,0.8516038209509867,0.8499458917545191,0.8485452952703988,0.8473372171831792,0.8462739158040578,0.8453202111427344,0.8444501661018753,0.8436446447424237,0.8428895158293094,0.842174331124285,0.8414913529608441,0.8408348387938519,0.8402005148113441,0.8395851886437613,0.8389864644104554,0.8384025330582323],\"colorscale\":[[0.0,\"rgb(150,0,90)\"],[0.125,\"rgb(0,0,200)\"],[0.25,\"rgb(0,25,255)\"],[0.375,\"rgb(0,152,255)\"],[0.5,\"rgb(44,255,150)\"],[0.625,\"rgb(151,255,0)\"],[0.75,\"rgb(255,234,0)\"],[0.875,\"rgb(255,111,0)\"],[1.0,\"rgb(255,0,0)\"]],\"size\":7},\"mode\":\"markers+lines\",\"x\":[0.3745401188473625,0.8317325489017311,1.224211783111528,1.5611808847373805,1.850533735517361,2.0990412766700994,2.3125112556720366,2.4959252478180165,2.6535561854036107,2.7890691674712267,2.905607928589516,3.005869006779868,3.0921653604817427,3.1664809355129333,3.2305174694581775,3.2857346377721646,3.333384488789707,3.3745409800903396,3.4101253130876703,3.4409276635786017,3.4676258209550825,3.4908011758451174,3.5109524333895292,3.5285073757004275,3.5438329510203994,3.5572439276222223,3.569010316625877,3.5793637388639135,3.588502886012471,3.596598204835678,3.603795915061564,3.6102214556855614,3.6159824410121897,3.6211711961784587,3.6258669319809633,3.630137610318507,3.6340415442625775,3.637628770506915,3.640942226576994,3.6440187605738226,3.646889997275345,3.649583081029671,3.652121312967447,3.654524697567267,3.656810411469356,3.658993205598291,3.661085750082056],\"y\":[0.9507143064099162,1.197197090387812,1.4080249938110094,1.5882754397251262,1.7423035018789268,1.8738446649291751,1.9861029662052991,2.081826598620451,2.163372758478217,2.232763268172065,2.2917322861206446,2.3417672295910843,2.3841438759296536,2.419956470366555,2.450143550748451,2.4755100984990226,2.496746538430158,2.5144450356792536,2.5291134742774366,2.541187447154736,2.551040540470749,2.558993154916269,2.5653200721131384,2.5702569446318644,2.5740058627507576,2.576740129297298,2.5786083552282077,2.5797379725784473,2.5802382476629506,2.5802028656240554,2.5797121473040545,2.5788349507474986,2.577630302197141,2.576148795065182,2.574433789887147,2.5725224435701946,2.5704465922200628,2.5682335083762653,2.5659065505219525,2.5634857201932304,2.5609881398326584,2.558428462661701,2.5558192242429913,2.553171144027506,2.550493384001707,2.547793770537545,2.5450789846800066],\"z\":[0.0,35.75484025998244,26.53625144224801,19.75362654801073,14.763198745602935,11.09133467835302,8.389571889366584,6.401538876940176,4.938617459787518,3.862037049746706,3.069701018720262,2.486494570269137,2.0571540299063282,1.7410206268409614,1.508180737071959,1.3366261762535963,1.2101649653654851,1.1168842355485544,1.0480193537352995,0.9971219137544148,0.9594476092658816,0.931505878541736,0.9107285683127627,0.895226162531146,0.8836084345467929,0.8748524969907335,0.8682057231829385,0.8631143242795148,0.859170801905754,0.8560752878950456,0.8536071010739922,0.8516038209509867,0.8499458917545191,0.8485452952703988,0.8473372171831792,0.8462739158040578,0.8453202111427344,0.8444501661018753,0.8436446447424237,0.8428895158293094,0.842174331124285,0.8414913529608441,0.8408348387938519,0.8402005148113441,0.8395851886437613,0.8389864644104554,0.8384025330582323],\"type\":\"scatter3d\"}]},{\"data\":[{\"marker\":{\"color\":[0.0,35.75484025998244,26.53625144224801,19.75362654801073,14.763198745602935,11.09133467835302,8.389571889366584,6.401538876940176,4.938617459787518,3.862037049746706,3.069701018720262,2.486494570269137,2.0571540299063282,1.7410206268409614,1.508180737071959,1.3366261762535963,1.2101649653654851,1.1168842355485544,1.0480193537352995,0.9971219137544148,0.9594476092658816,0.931505878541736,0.9107285683127627,0.895226162531146,0.8836084345467929,0.8748524969907335,0.8682057231829385,0.8631143242795148,0.859170801905754,0.8560752878950456,0.8536071010739922,0.8516038209509867,0.8499458917545191,0.8485452952703988,0.8473372171831792,0.8462739158040578,0.8453202111427344,0.8444501661018753,0.8436446447424237,0.8428895158293094,0.842174331124285,0.8414913529608441,0.8408348387938519,0.8402005148113441,0.8395851886437613,0.8389864644104554,0.8384025330582323,0.8378320180941389],\"colorscale\":[[0.0,\"rgb(150,0,90)\"],[0.125,\"rgb(0,0,200)\"],[0.25,\"rgb(0,25,255)\"],[0.375,\"rgb(0,152,255)\"],[0.5,\"rgb(44,255,150)\"],[0.625,\"rgb(151,255,0)\"],[0.75,\"rgb(255,234,0)\"],[0.875,\"rgb(255,111,0)\"],[1.0,\"rgb(255,0,0)\"]],\"size\":7},\"mode\":\"markers+lines\",\"x\":[0.3745401188473625,0.8317325489017311,1.224211783111528,1.5611808847373805,1.850533735517361,2.0990412766700994,2.3125112556720366,2.4959252478180165,2.6535561854036107,2.7890691674712267,2.905607928589516,3.005869006779868,3.0921653604817427,3.1664809355129333,3.2305174694581775,3.2857346377721646,3.333384488789707,3.3745409800903396,3.4101253130876703,3.4409276635786017,3.4676258209550825,3.4908011758451174,3.5109524333895292,3.5285073757004275,3.5438329510203994,3.5572439276222223,3.569010316625877,3.5793637388639135,3.588502886012471,3.596598204835678,3.603795915061564,3.6102214556855614,3.6159824410121897,3.6211711961784587,3.6258669319809633,3.630137610318507,3.6340415442625775,3.637628770506915,3.640942226576994,3.6440187605738226,3.646889997275345,3.649583081029671,3.652121312967447,3.654524697567267,3.656810411469356,3.658993205598291,3.661085750082056,3.663098930105087],\"y\":[0.9507143064099162,1.197197090387812,1.4080249938110094,1.5882754397251262,1.7423035018789268,1.8738446649291751,1.9861029662052991,2.081826598620451,2.163372758478217,2.232763268172065,2.2917322861206446,2.3417672295910843,2.3841438759296536,2.419956470366555,2.450143550748451,2.4755100984990226,2.496746538430158,2.5144450356792536,2.5291134742774366,2.541187447154736,2.551040540470749,2.558993154916269,2.5653200721131384,2.5702569446318644,2.5740058627507576,2.576740129297298,2.5786083552282077,2.5797379725784473,2.5802382476629506,2.5802028656240554,2.5797121473040545,2.5788349507474986,2.577630302197141,2.576148795065182,2.574433789887147,2.5725224435701946,2.5704465922200628,2.5682335083762653,2.5659065505219525,2.5634857201932304,2.5609881398326584,2.558428462661701,2.5558192242429913,2.553171144027506,2.550493384001707,2.547793770537545,2.5450789846800066,2.5423547253622587],\"z\":[0.0,35.75484025998244,26.53625144224801,19.75362654801073,14.763198745602935,11.09133467835302,8.389571889366584,6.401538876940176,4.938617459787518,3.862037049746706,3.069701018720262,2.486494570269137,2.0571540299063282,1.7410206268409614,1.508180737071959,1.3366261762535963,1.2101649653654851,1.1168842355485544,1.0480193537352995,0.9971219137544148,0.9594476092658816,0.931505878541736,0.9107285683127627,0.895226162531146,0.8836084345467929,0.8748524969907335,0.8682057231829385,0.8631143242795148,0.859170801905754,0.8560752878950456,0.8536071010739922,0.8516038209509867,0.8499458917545191,0.8485452952703988,0.8473372171831792,0.8462739158040578,0.8453202111427344,0.8444501661018753,0.8436446447424237,0.8428895158293094,0.842174331124285,0.8414913529608441,0.8408348387938519,0.8402005148113441,0.8395851886437613,0.8389864644104554,0.8384025330582323,0.8378320180941389],\"type\":\"scatter3d\"}]},{\"data\":[{\"marker\":{\"color\":[0.0,35.75484025998244,26.53625144224801,19.75362654801073,14.763198745602935,11.09133467835302,8.389571889366584,6.401538876940176,4.938617459787518,3.862037049746706,3.069701018720262,2.486494570269137,2.0571540299063282,1.7410206268409614,1.508180737071959,1.3366261762535963,1.2101649653654851,1.1168842355485544,1.0480193537352995,0.9971219137544148,0.9594476092658816,0.931505878541736,0.9107285683127627,0.895226162531146,0.8836084345467929,0.8748524969907335,0.8682057231829385,0.8631143242795148,0.859170801905754,0.8560752878950456,0.8536071010739922,0.8516038209509867,0.8499458917545191,0.8485452952703988,0.8473372171831792,0.8462739158040578,0.8453202111427344,0.8444501661018753,0.8436446447424237,0.8428895158293094,0.842174331124285,0.8414913529608441,0.8408348387938519,0.8402005148113441,0.8395851886437613,0.8389864644104554,0.8384025330582323,0.8378320180941389,0.8372738620732699],\"colorscale\":[[0.0,\"rgb(150,0,90)\"],[0.125,\"rgb(0,0,200)\"],[0.25,\"rgb(0,25,255)\"],[0.375,\"rgb(0,152,255)\"],[0.5,\"rgb(44,255,150)\"],[0.625,\"rgb(151,255,0)\"],[0.75,\"rgb(255,234,0)\"],[0.875,\"rgb(255,111,0)\"],[1.0,\"rgb(255,0,0)\"]],\"size\":7},\"mode\":\"markers+lines\",\"x\":[0.3745401188473625,0.8317325489017311,1.224211783111528,1.5611808847373805,1.850533735517361,2.0990412766700994,2.3125112556720366,2.4959252478180165,2.6535561854036107,2.7890691674712267,2.905607928589516,3.005869006779868,3.0921653604817427,3.1664809355129333,3.2305174694581775,3.2857346377721646,3.333384488789707,3.3745409800903396,3.4101253130876703,3.4409276635786017,3.4676258209550825,3.4908011758451174,3.5109524333895292,3.5285073757004275,3.5438329510203994,3.5572439276222223,3.569010316625877,3.5793637388639135,3.588502886012471,3.596598204835678,3.603795915061564,3.6102214556855614,3.6159824410121897,3.6211711961784587,3.6258669319809633,3.630137610318507,3.6340415442625775,3.637628770506915,3.640942226576994,3.6440187605738226,3.646889997275345,3.649583081029671,3.652121312967447,3.654524697567267,3.656810411469356,3.658993205598291,3.661085750082056,3.663098930105087,3.6650420996753117],\"y\":[0.9507143064099162,1.197197090387812,1.4080249938110094,1.5882754397251262,1.7423035018789268,1.8738446649291751,1.9861029662052991,2.081826598620451,2.163372758478217,2.232763268172065,2.2917322861206446,2.3417672295910843,2.3841438759296536,2.419956470366555,2.450143550748451,2.4755100984990226,2.496746538430158,2.5144450356792536,2.5291134742774366,2.541187447154736,2.551040540470749,2.558993154916269,2.5653200721131384,2.5702569446318644,2.5740058627507576,2.576740129297298,2.5786083552282077,2.5797379725784473,2.5802382476629506,2.5802028656240554,2.5797121473040545,2.5788349507474986,2.577630302197141,2.576148795065182,2.574433789887147,2.5725224435701946,2.5704465922200628,2.5682335083762653,2.5659065505219525,2.5634857201932304,2.5609881398326584,2.558428462661701,2.5558192242429913,2.553171144027506,2.550493384001707,2.547793770537545,2.5450789846800066,2.5423547253622587,2.5396258493996466],\"z\":[0.0,35.75484025998244,26.53625144224801,19.75362654801073,14.763198745602935,11.09133467835302,8.389571889366584,6.401538876940176,4.938617459787518,3.862037049746706,3.069701018720262,2.486494570269137,2.0571540299063282,1.7410206268409614,1.508180737071959,1.3366261762535963,1.2101649653654851,1.1168842355485544,1.0480193537352995,0.9971219137544148,0.9594476092658816,0.931505878541736,0.9107285683127627,0.895226162531146,0.8836084345467929,0.8748524969907335,0.8682057231829385,0.8631143242795148,0.859170801905754,0.8560752878950456,0.8536071010739922,0.8516038209509867,0.8499458917545191,0.8485452952703988,0.8473372171831792,0.8462739158040578,0.8453202111427344,0.8444501661018753,0.8436446447424237,0.8428895158293094,0.842174331124285,0.8414913529608441,0.8408348387938519,0.8402005148113441,0.8395851886437613,0.8389864644104554,0.8384025330582323,0.8378320180941389,0.8372738620732699],\"type\":\"scatter3d\"}]},{\"data\":[{\"marker\":{\"color\":[0.0,35.75484025998244,26.53625144224801,19.75362654801073,14.763198745602935,11.09133467835302,8.389571889366584,6.401538876940176,4.938617459787518,3.862037049746706,3.069701018720262,2.486494570269137,2.0571540299063282,1.7410206268409614,1.508180737071959,1.3366261762535963,1.2101649653654851,1.1168842355485544,1.0480193537352995,0.9971219137544148,0.9594476092658816,0.931505878541736,0.9107285683127627,0.895226162531146,0.8836084345467929,0.8748524969907335,0.8682057231829385,0.8631143242795148,0.859170801905754,0.8560752878950456,0.8536071010739922,0.8516038209509867,0.8499458917545191,0.8485452952703988,0.8473372171831792,0.8462739158040578,0.8453202111427344,0.8444501661018753,0.8436446447424237,0.8428895158293094,0.842174331124285,0.8414913529608441,0.8408348387938519,0.8402005148113441,0.8395851886437613,0.8389864644104554,0.8384025330582323,0.8378320180941389,0.8372738620732699,0.8367272430711747],\"colorscale\":[[0.0,\"rgb(150,0,90)\"],[0.125,\"rgb(0,0,200)\"],[0.25,\"rgb(0,25,255)\"],[0.375,\"rgb(0,152,255)\"],[0.5,\"rgb(44,255,150)\"],[0.625,\"rgb(151,255,0)\"],[0.75,\"rgb(255,234,0)\"],[0.875,\"rgb(255,111,0)\"],[1.0,\"rgb(255,0,0)\"]],\"size\":7},\"mode\":\"markers+lines\",\"x\":[0.3745401188473625,0.8317325489017311,1.224211783111528,1.5611808847373805,1.850533735517361,2.0990412766700994,2.3125112556720366,2.4959252478180165,2.6535561854036107,2.7890691674712267,2.905607928589516,3.005869006779868,3.0921653604817427,3.1664809355129333,3.2305174694581775,3.2857346377721646,3.333384488789707,3.3745409800903396,3.4101253130876703,3.4409276635786017,3.4676258209550825,3.4908011758451174,3.5109524333895292,3.5285073757004275,3.5438329510203994,3.5572439276222223,3.569010316625877,3.5793637388639135,3.588502886012471,3.596598204835678,3.603795915061564,3.6102214556855614,3.6159824410121897,3.6211711961784587,3.6258669319809633,3.630137610318507,3.6340415442625775,3.637628770506915,3.640942226576994,3.6440187605738226,3.646889997275345,3.649583081029671,3.652121312967447,3.654524697567267,3.656810411469356,3.658993205598291,3.661085750082056,3.663098930105087,3.6650420996753117,3.666923299292233],\"y\":[0.9507143064099162,1.197197090387812,1.4080249938110094,1.5882754397251262,1.7423035018789268,1.8738446649291751,1.9861029662052991,2.081826598620451,2.163372758478217,2.232763268172065,2.2917322861206446,2.3417672295910843,2.3841438759296536,2.419956470366555,2.450143550748451,2.4755100984990226,2.496746538430158,2.5144450356792536,2.5291134742774366,2.541187447154736,2.551040540470749,2.558993154916269,2.5653200721131384,2.5702569446318644,2.5740058627507576,2.576740129297298,2.5786083552282077,2.5797379725784473,2.5802382476629506,2.5802028656240554,2.5797121473040545,2.5788349507474986,2.577630302197141,2.576148795065182,2.574433789887147,2.5725224435701946,2.5704465922200628,2.5682335083762653,2.5659065505219525,2.5634857201932304,2.5609881398326584,2.558428462661701,2.5558192242429913,2.553171144027506,2.550493384001707,2.547793770537545,2.5450789846800066,2.5423547253622587,2.5396258493996466,2.5368964915659746],\"z\":[0.0,35.75484025998244,26.53625144224801,19.75362654801073,14.763198745602935,11.09133467835302,8.389571889366584,6.401538876940176,4.938617459787518,3.862037049746706,3.069701018720262,2.486494570269137,2.0571540299063282,1.7410206268409614,1.508180737071959,1.3366261762535963,1.2101649653654851,1.1168842355485544,1.0480193537352995,0.9971219137544148,0.9594476092658816,0.931505878541736,0.9107285683127627,0.895226162531146,0.8836084345467929,0.8748524969907335,0.8682057231829385,0.8631143242795148,0.859170801905754,0.8560752878950456,0.8536071010739922,0.8516038209509867,0.8499458917545191,0.8485452952703988,0.8473372171831792,0.8462739158040578,0.8453202111427344,0.8444501661018753,0.8436446447424237,0.8428895158293094,0.842174331124285,0.8414913529608441,0.8408348387938519,0.8402005148113441,0.8395851886437613,0.8389864644104554,0.8384025330582323,0.8378320180941389,0.8372738620732699,0.8367272430711747],\"type\":\"scatter3d\"}]}]);\n",
       "                        }).then(function(){\n",
       "                            \n",
       "var gd = document.getElementById('311bb7dc-c1f1-4e56-9c79-43e18b2d45ce');\n",
       "var x = new MutationObserver(function (mutations, observer) {{\n",
       "        var display = window.getComputedStyle(gd).display;\n",
       "        if (!display || display === 'none') {{\n",
       "            console.log([gd, 'removed!']);\n",
       "            Plotly.purge(gd);\n",
       "            observer.disconnect();\n",
       "        }}\n",
       "}});\n",
       "\n",
       "// Listen for the removal of the full notebook cells\n",
       "var notebookContainer = gd.closest('#notebook-container');\n",
       "if (notebookContainer) {{\n",
       "    x.observe(notebookContainer, {childList: true});\n",
       "}}\n",
       "\n",
       "// Listen for the clearing of the current output cell\n",
       "var outputEl = gd.closest('.output');\n",
       "if (outputEl) {{\n",
       "    x.observe(outputEl, {childList: true});\n",
       "}}\n",
       "\n",
       "                        })                };                });            </script>        </div>"
      ]
     },
     "metadata": {},
     "output_type": "display_data"
    }
   ],
   "source": [
    "history = []\n",
    "for i in range(0,50):\n",
    "        a,b, MSE = gradient_descent(X, y, 0.02, i)\n",
    "        history.append((a,b,MSE))\n",
    "\n",
    "df = pd.DataFrame(history, columns=['a', 'b', 'MSE'])\n",
    "frames = []\n",
    " \n",
    "# Tworzenie klatek animacji\n",
    "for i in range(1, len(df) + 1):\n",
    "    frame_data = df.iloc[:i]  # Stopniowe dodawanie punktów\n",
    "    frames.append(go.Frame(\n",
    "        data=[go.Scatter3d(\n",
    "            x=frame_data['a'],\n",
    "            y=frame_data['b'],\n",
    "            z=frame_data['MSE'],\n",
    "            mode='markers+lines',\n",
    "            marker=dict(size=7, color=frame_data['MSE'], colorscale='rainbow')\n",
    "        )],\n",
    "    ))\n",
    " \n",
    "# Tworzenie wykresu\n",
    "fig = go.Figure(\n",
    "    data=[go.Scatter3d(x=[], y=[], z=[], mode='markers', surfaceaxis = -1,marker=dict(size=8))],\n",
    "    layout=go.Layout(\n",
    "        title=\"Proces uczenia regresji liniowej\",\n",
    "        scene=dict(xaxis_title=\"a\", yaxis_title=\"b\", zaxis_title=\"MSE\", \n",
    "                   xaxis_range=[2,4],  yaxis_range=[-1,3],zaxis_range=[-1,15]),\n",
    "        updatemenus=[{\n",
    "            \"buttons\": [\n",
    "                {\"args\": [None, {\"frame\": {\"duration\": 100, \"redraw\": True}, \"fromcurrent\": True}],\n",
    "                 \"label\": \"Odtwórz\", \"method\": \"animate\"},\n",
    "                {\"args\": [[None], {\"frame\": {\"duration\": 0, \"redraw\": False}, \"mode\": \"immediate\", \"transition\": {\"duration\": 0}}],\n",
    "                 \"label\": \"Pauza\", \"method\": \"animate\"}\n",
    "            ],\n",
    "            \"direction\": \"up\",\n",
    "            \"showactive\": False,\n",
    "            \"type\": \"buttons\"\n",
    "        }]\n",
    "    ),\n",
    "    frames=frames\n",
    ")\n",
    "\n",
    "fig.update_layout( autosize=False,\n",
    "                  width=1000, height=650,\n",
    "                  margin=dict(l=65, r=50, b=65, t=90))\n",
    "\n",
    "fig.show()\n"
   ]
  },
  {
   "cell_type": "markdown",
   "metadata": {},
   "source": [
    "### Implementacje z wykorzstaniem biblioteki SKLEARN"
   ]
  },
  {
   "cell_type": "markdown",
   "metadata": {},
   "source": [
    "### SGD - stochastyczny spadek wzdłuż gradientu (ang. stochasstic gradient descent)\n",
    "\n",
    "w porównaniu do gradientu prostego, który wykorzystuje pełny zbiór danych do obliczania gradientu, SGD wybiera losową próbkę danych, co sprawia, że algorytm staje się szybszy, ale też bardziej losowy nie schodząc w kierunku minimum a oscylując wokół minimum"
   ]
  },
  {
   "cell_type": "code",
   "execution_count": 18,
   "metadata": {},
   "outputs": [
    {
     "data": {
      "text/plain": [
       "SGDRegressor(eta0=0.1, max_iter=500, n_iter_no_change=100, penalty=None,\n",
       "             random_state=42, tol=1e-05)"
      ]
     },
     "execution_count": 18,
     "metadata": {},
     "output_type": "execute_result"
    }
   ],
   "source": [
    "from sklearn.linear_model import SGDRegressor\n",
    "\n",
    "sgd = SGDRegressor(max_iter=500, tol=1e-5, penalty=None, eta0=0.1,\n",
    "                       n_iter_no_change=100, random_state=42)\n",
    "sgd.fit(X, y.ravel())  # y.ravel() - \"spłaszczenie\" tablicy do  1 wymiaru"
   ]
  },
  {
   "cell_type": "markdown",
   "metadata": {},
   "source": [
    "#### porównanie wyników gradientu prostego i SGD  przy liczbie iteracji 500 i l_rate 0.1 oraz równania normalnego"
   ]
  },
  {
   "cell_type": "code",
   "execution_count": 19,
   "metadata": {},
   "outputs": [
    {
     "data": {
      "text/html": [
       "<div>\n",
       "<style scoped>\n",
       "    .dataframe tbody tr th:only-of-type {\n",
       "        vertical-align: middle;\n",
       "    }\n",
       "\n",
       "    .dataframe tbody tr th {\n",
       "        vertical-align: top;\n",
       "    }\n",
       "\n",
       "    .dataframe thead th {\n",
       "        text-align: right;\n",
       "    }\n",
       "</style>\n",
       "<table border=\"1\" class=\"dataframe\">\n",
       "  <thead>\n",
       "    <tr style=\"text-align: right;\">\n",
       "      <th></th>\n",
       "      <th>a</th>\n",
       "      <th>b</th>\n",
       "      <th>MSE</th>\n",
       "    </tr>\n",
       "  </thead>\n",
       "  <tbody>\n",
       "    <tr>\n",
       "      <th>gradient_prosty</th>\n",
       "      <td>3.948405</td>\n",
       "      <td>2.174780</td>\n",
       "      <td>0.974968</td>\n",
       "    </tr>\n",
       "    <tr>\n",
       "      <th>SGD</th>\n",
       "      <td>3.944781</td>\n",
       "      <td>2.193061</td>\n",
       "      <td>0.975146</td>\n",
       "    </tr>\n",
       "    <tr>\n",
       "      <th>równanie normalne</th>\n",
       "      <td>3.948405</td>\n",
       "      <td>2.174780</td>\n",
       "      <td>0.974968</td>\n",
       "    </tr>\n",
       "  </tbody>\n",
       "</table>\n",
       "</div>"
      ],
      "text/plain": [
       "                          a         b       MSE\n",
       "gradient_prosty    3.948405  2.174780  0.974968\n",
       "SGD                3.944781  2.193061  0.975146\n",
       "równanie normalne  3.948405  2.174780  0.974968"
      ]
     },
     "execution_count": 19,
     "metadata": {},
     "output_type": "execute_result"
    }
   ],
   "source": [
    "gp = gradient_descent(X, y, 0.1,500)\n",
    "\n",
    "data = {'a': [gp[0],sgd.coef_[0],O[1][0] ],\n",
    "         'b':[ gp[1],sgd.intercept_[0],O[0][0]], \n",
    "        'MSE' : [loss_function(gp[0], gp[1]), loss_function(sgd.coef_,sgd.intercept_),\n",
    "                loss_function(O[1][0],O[0][0])\n",
    "                ]\n",
    "       }\n",
    "df_summary = pd.DataFrame(data, columns = ['a','b','MSE'], \n",
    "                          index =['gradient_prosty', 'SGD', 'równanie normalne'])\n",
    "df_summary"
   ]
  },
  {
   "cell_type": "code",
   "execution_count": null,
   "metadata": {},
   "outputs": [],
   "source": []
  }
 ],
 "metadata": {
  "kernelspec": {
   "display_name": "Python 3",
   "language": "python",
   "name": "python3"
  },
  "language_info": {
   "codemirror_mode": {
    "name": "ipython",
    "version": 3
   },
   "file_extension": ".py",
   "mimetype": "text/x-python",
   "name": "python",
   "nbconvert_exporter": "python",
   "pygments_lexer": "ipython3",
   "version": "3.8.5"
  },
  "varInspector": {
   "cols": {
    "lenName": 16,
    "lenType": 16,
    "lenVar": 40
   },
   "kernels_config": {
    "python": {
     "delete_cmd_postfix": "",
     "delete_cmd_prefix": "del ",
     "library": "var_list.py",
     "varRefreshCmd": "print(var_dic_list())"
    },
    "r": {
     "delete_cmd_postfix": ") ",
     "delete_cmd_prefix": "rm(",
     "library": "var_list.r",
     "varRefreshCmd": "cat(var_dic_list()) "
    }
   },
   "types_to_exclude": [
    "module",
    "function",
    "builtin_function_or_method",
    "instance",
    "_Feature"
   ],
   "window_display": false
  }
 },
 "nbformat": 4,
 "nbformat_minor": 5
}
